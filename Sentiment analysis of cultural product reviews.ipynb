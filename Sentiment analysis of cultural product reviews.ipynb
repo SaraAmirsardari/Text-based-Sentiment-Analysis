{
  "nbformat": 4,
  "nbformat_minor": 0,
  "metadata": {
    "colab": {
      "name": "tutorial movie sentiment analysis.ipynb",
      "provenance": [],
      "collapsed_sections": []
    },
    "kernelspec": {
      "display_name": "Python 3",
      "language": "python",
      "name": "python3"
    },
    "language_info": {
      "codemirror_mode": {
        "name": "ipython",
        "version": 3
      },
      "file_extension": ".py",
      "mimetype": "text/x-python",
      "name": "python",
      "nbconvert_exporter": "python",
      "pygments_lexer": "ipython3",
      "version": "3.6.9"
    }
  },
  "cells": [
    {
      "cell_type": "code",
      "metadata": {
        "id": "Fw4_JPEwDSrO",
        "colab": {
          "base_uri": "https://localhost:8080/"
        },
        "outputId": "a3bb5a5e-3dc4-4d69-88f1-1d2eebebdaf3"
      },
      "source": [
        "import numpy as np\n",
        "import pandas as pd\n",
        "import matplotlib.pyplot as plt\n",
        "import seaborn as sns\n",
        "\n",
        "import nltk\n",
        "from nltk.stem.porter import *\n",
        "nltk.download('gutenberg')\n",
        "nltk.download('punkt')\n",
        "nltk.download('stopwords')\n",
        "nltk.download('wordnet')\n",
        "nltk.download('averaged_perceptron_tagger')\n",
        "\n",
        "from nltk.tokenize import TweetTokenizer\n",
        "from nltk.tokenize import word_tokenize, sent_tokenize\n",
        "from nltk.corpus import stopwords\n",
        "from nltk.stem import WordNetLemmatizer\n",
        "lemmatizer = WordNetLemmatizer()\n",
        "import datetime\n",
        "\n",
        "from scipy import stats\n",
        "from scipy.sparse import hstack, csr_matrix\n",
        "from sklearn.model_selection import train_test_split, cross_val_score\n",
        "\n",
        "from collections import Counter\n",
        "from nltk.corpus import stopwords\n",
        "from nltk.util import ngrams\n",
        "\n",
        "import string\n",
        "import gensim\n",
        "from gensim.models.phrases import Phraser, Phrases\n",
        "from gensim.models.word2vec import Word2Vec\n",
        "from sklearn.manifold import TSNE\n",
        "\n",
        "from sklearn.feature_extraction.text import TfidfVectorizer\n",
        "from sklearn.preprocessing import StandardScaler\n",
        "from sklearn.linear_model import LogisticRegression\n",
        "from sklearn.svm import LinearSVC\n",
        "from sklearn.multiclass import OneVsRestClassifier\n",
        "pd.set_option('max_colwidth',400)\n",
        "from bs4 import BeautifulSoup\n",
        "import re\n",
        "\n",
        "from tqdm import tqdm\n",
        "from bokeh.io import output_notebook, output_file\n",
        "from bokeh.plotting import show, figure\n",
        "%matplotlib inline\n",
        "from collections import defaultdict"
      ],
      "execution_count": 1,
      "outputs": [
        {
          "output_type": "stream",
          "text": [
            "[nltk_data] Downloading package gutenberg to /root/nltk_data...\n",
            "[nltk_data]   Unzipping corpora/gutenberg.zip.\n",
            "[nltk_data] Downloading package punkt to /root/nltk_data...\n",
            "[nltk_data]   Unzipping tokenizers/punkt.zip.\n",
            "[nltk_data] Downloading package stopwords to /root/nltk_data...\n",
            "[nltk_data]   Unzipping corpora/stopwords.zip.\n",
            "[nltk_data] Downloading package wordnet to /root/nltk_data...\n",
            "[nltk_data]   Unzipping corpora/wordnet.zip.\n",
            "[nltk_data] Downloading package averaged_perceptron_tagger to\n",
            "[nltk_data]     /root/nltk_data...\n",
            "[nltk_data]   Unzipping taggers/averaged_perceptron_tagger.zip.\n"
          ],
          "name": "stdout"
        }
      ]
    },
    {
      "cell_type": "code",
      "metadata": {
        "id": "C4UTUIKZCTGI"
      },
      "source": [
        "from nltk import pos_tag\n",
        "from nltk.corpus import stopwords\n",
        "from nltk.stem import WordNetLemmatizer\n",
        "from sklearn.preprocessing import LabelEncoder\n",
        "from collections import defaultdict\n",
        "from nltk.corpus import wordnet as wn\n",
        "from sklearn.feature_extraction.text import TfidfVectorizer\n",
        "from sklearn import model_selection, naive_bayes, svm\n",
        "from sklearn.metrics import accuracy_score"
      ],
      "execution_count": 2,
      "outputs": []
    },
    {
      "cell_type": "code",
      "metadata": {
        "id": "1Idxw1Fni-y5"
      },
      "source": [
        "from keras.utils import to_categorical\n",
        "import random\n",
        "from sklearn.model_selection import train_test_split\n",
        "from keras.preprocessing import sequence\n",
        "from keras.preprocessing.text import Tokenizer\n",
        "from keras.layers import Dense,Dropout,Embedding,LSTM\n",
        "from keras.callbacks import EarlyStopping\n",
        "from keras.losses import categorical_crossentropy\n",
        "from keras.optimizers import Adam\n",
        "from keras.models import Sequential\n"
      ],
      "execution_count": 3,
      "outputs": []
    },
    {
      "cell_type": "code",
      "metadata": {
        "id": "8HdG-m84VRtF"
      },
      "source": [
        "# from google.colab import drive \n",
        "# drive.mount('/content/gdrive/', force_remount=True)"
      ],
      "execution_count": null,
      "outputs": []
    },
    {
      "cell_type": "code",
      "metadata": {
        "id": "8JKzKlXx3mYC"
      },
      "source": [
        "import urllib.request as req\n",
        "import tarfile\n",
        "import os\n",
        "\n",
        "imdb_url=\"https://ai.stanford.edu/~amaas/data/sentiment/aclImdb_v1.tar.gz\"\n",
        "save_filename=\"aclImdb_v1.tar.gz\"\n",
        "if not os.path.exists(save_filename):\n",
        "    req.urlretrieve(imdb_url,save_filename)\n",
        "\n",
        "imdb_folder=\"aclImdb\"\n",
        "if not os.path.exists(imdb_folder):\n",
        "     with tarfile.open(save_filename) as tar:\n",
        "         tar.extractall()\n"
      ],
      "execution_count": 4,
      "outputs": []
    },
    {
      "cell_type": "code",
      "metadata": {
        "id": "PQTsTOl0LWTb"
      },
      "source": [
        "#Convert the dataset from files to a python DataFrame\n",
        "import pandas as pd\n",
        "import os\n",
        "\n",
        "folder=\"aclImdb\"\n",
        "labels = {'pos': 1, 'neg': 0}\n",
        "\n",
        "df = pd.DataFrame()\n",
        "for f in ('test', 'train'):\n",
        "    for l in ('pos', 'neg'):\n",
        "        path = os.path.join(folder, f, l)\n",
        "        for file in os.listdir (path) :\n",
        "            with open(os.path.join(path, file),'r', encoding='utf-8') as infile:\n",
        "                 txt = infile.read()\n",
        " \n",
        "            df = df.append([[txt, labels[l]]],ignore_index=True)\n",
        "df.columns = ['review', 'sentiment']  "
      ],
      "execution_count": 5,
      "outputs": []
    },
    {
      "cell_type": "code",
      "metadata": {
        "id": "6C3DRo7-MlFB"
      },
      "source": [
        "df.to_csv(\"movie_review.csv\")"
      ],
      "execution_count": 6,
      "outputs": []
    },
    {
      "cell_type": "code",
      "metadata": {
        "id": "i1rNd2wmOXQH"
      },
      "source": [
        "movie_reviews=pd.read_csv(\"movie_review.csv\",index_col=0)"
      ],
      "execution_count": 7,
      "outputs": []
    },
    {
      "cell_type": "code",
      "metadata": {
        "colab": {
          "base_uri": "https://localhost:8080/",
          "height": 289
        },
        "id": "RfaxkFYrLrK5",
        "outputId": "81a8ea93-8769-4ebe-b001-47d76406b258"
      },
      "source": [
        "movie_reviews.isnull().values.any()\n",
        "\n",
        "movie_reviews.head()"
      ],
      "execution_count": 8,
      "outputs": [
        {
          "output_type": "execute_result",
          "data": {
            "text/html": [
              "<div>\n",
              "<style scoped>\n",
              "    .dataframe tbody tr th:only-of-type {\n",
              "        vertical-align: middle;\n",
              "    }\n",
              "\n",
              "    .dataframe tbody tr th {\n",
              "        vertical-align: top;\n",
              "    }\n",
              "\n",
              "    .dataframe thead th {\n",
              "        text-align: right;\n",
              "    }\n",
              "</style>\n",
              "<table border=\"1\" class=\"dataframe\">\n",
              "  <thead>\n",
              "    <tr style=\"text-align: right;\">\n",
              "      <th></th>\n",
              "      <th>review</th>\n",
              "      <th>sentiment</th>\n",
              "    </tr>\n",
              "  </thead>\n",
              "  <tbody>\n",
              "    <tr>\n",
              "      <th>0</th>\n",
              "      <td>Another good animation from Disney. Sequels are not always that great and tend to follow the same plot as the original. However, the son of Tramp tries to savor the world out side the home and family he knows and learns where he actually belongs. Being a junkyard dog is not for everyone, er dog that is, but Scamp overcomes adversity. The voices of the various characters were superb and provide...</td>\n",
              "      <td>1</td>\n",
              "    </tr>\n",
              "    <tr>\n",
              "      <th>1</th>\n",
              "      <td>THIS REVIEW MAY CONTAIN SPOILERS! The Decline of Western Civilization......what a great title eh? And of coarse a great movie. This is the best concert film I have ever seen. A close second being the Talking Heads movie \"Stop Making Sense\". I first heard of this movie when Waynes World came out in 1992. I looked at the director's name Penelope Spheeris and thought cool name, what else has he d...</td>\n",
              "      <td>1</td>\n",
              "    </tr>\n",
              "    <tr>\n",
              "      <th>2</th>\n",
              "      <td>This film is a joy to watch and should do well on DVD and video. I suppose you really have to be Irish to appreciate the some of the subtlties such as accent, colloquialisms and the dress sense of some of the characters but let me assure you that when Dylan Moran impersonates 'Barreler' the impersonation is quite familiar to most people from Dublin because we have many characters in our fine c...</td>\n",
              "      <td>1</td>\n",
              "    </tr>\n",
              "    <tr>\n",
              "      <th>3</th>\n",
              "      <td>Wesley Snipes is perfectly cast as Blade, a half human, half vampire known the daywalker. He has all their strengths and his only weakness is the thirst for blood. Since he teamed up with whistler (Kris Kristofferson) he has hunted down vampires who have lived amongst us unnoticed for centuries, but omnipotent overlord Deacon Frost (Stephen Dorff) is tired of living in harmony with the humans ...</td>\n",
              "      <td>1</td>\n",
              "    </tr>\n",
              "    <tr>\n",
              "      <th>4</th>\n",
              "      <td>CONTAINS \"SPOILER\" INFORMATION. Watch this director's other film, \"Earth\", at some point. It's a better film, but this one isn't bad just different.&lt;br /&gt;&lt;br /&gt;A rare feminist point of view from an Indian filmmaker. Tradition, rituals, duty, secrets, and the portrayal of strict sex roles make this an engaging and culturally dynamic film viewing experience. All of the married characters lack th...</td>\n",
              "      <td>1</td>\n",
              "    </tr>\n",
              "  </tbody>\n",
              "</table>\n",
              "</div>"
            ],
            "text/plain": [
              "                                                                                                                                                                                                                                                                                                                                                                                                            review  sentiment\n",
              "0  Another good animation from Disney. Sequels are not always that great and tend to follow the same plot as the original. However, the son of Tramp tries to savor the world out side the home and family he knows and learns where he actually belongs. Being a junkyard dog is not for everyone, er dog that is, but Scamp overcomes adversity. The voices of the various characters were superb and provide...          1\n",
              "1  THIS REVIEW MAY CONTAIN SPOILERS! The Decline of Western Civilization......what a great title eh? And of coarse a great movie. This is the best concert film I have ever seen. A close second being the Talking Heads movie \"Stop Making Sense\". I first heard of this movie when Waynes World came out in 1992. I looked at the director's name Penelope Spheeris and thought cool name, what else has he d...          1\n",
              "2  This film is a joy to watch and should do well on DVD and video. I suppose you really have to be Irish to appreciate the some of the subtlties such as accent, colloquialisms and the dress sense of some of the characters but let me assure you that when Dylan Moran impersonates 'Barreler' the impersonation is quite familiar to most people from Dublin because we have many characters in our fine c...          1\n",
              "3  Wesley Snipes is perfectly cast as Blade, a half human, half vampire known the daywalker. He has all their strengths and his only weakness is the thirst for blood. Since he teamed up with whistler (Kris Kristofferson) he has hunted down vampires who have lived amongst us unnoticed for centuries, but omnipotent overlord Deacon Frost (Stephen Dorff) is tired of living in harmony with the humans ...          1\n",
              "4  CONTAINS \"SPOILER\" INFORMATION. Watch this director's other film, \"Earth\", at some point. It's a better film, but this one isn't bad just different.<br /><br />A rare feminist point of view from an Indian filmmaker. Tradition, rituals, duty, secrets, and the portrayal of strict sex roles make this an engaging and culturally dynamic film viewing experience. All of the married characters lack th...          1"
            ]
          },
          "metadata": {
            "tags": []
          },
          "execution_count": 8
        }
      ]
    },
    {
      "cell_type": "code",
      "metadata": {
        "colab": {
          "base_uri": "https://localhost:8080/",
          "height": 296
        },
        "id": "xHFwDqXMOfuC",
        "outputId": "c43a6ff1-a649-4c80-ed43-edabab14e16e"
      },
      "source": [
        "import seaborn as sns\n",
        "sns.countplot(x='sentiment', data=movie_reviews)"
      ],
      "execution_count": 9,
      "outputs": [
        {
          "output_type": "execute_result",
          "data": {
            "text/plain": [
              "<matplotlib.axes._subplots.AxesSubplot at 0x7f3e0f978eb8>"
            ]
          },
          "metadata": {
            "tags": []
          },
          "execution_count": 9
        },
        {
          "output_type": "display_data",
          "data": {
            "image/png": "[encoded data removed]",
            "text/plain": [
              "<Figure size 432x288 with 1 Axes>"
            ]
          },
          "metadata": {
            "tags": [],
            "needs_background": "light"
          }
        }
      ]
    },
    {
      "cell_type": "code",
      "metadata": {
        "colab": {
          "base_uri": "https://localhost:8080/"
        },
        "id": "7L2iVYHtMvJj",
        "outputId": "6e599f7a-03cc-41b6-e3d7-f10ba115bb26"
      },
      "source": [
        "movie_reviews.shape"
      ],
      "execution_count": 10,
      "outputs": [
        {
          "output_type": "execute_result",
          "data": {
            "text/plain": [
              "(50000, 2)"
            ]
          },
          "metadata": {
            "tags": []
          },
          "execution_count": 10
        }
      ]
    },
    {
      "cell_type": "code",
      "metadata": {
        "colab": {
          "base_uri": "https://localhost:8080/"
        },
        "id": "-PwAnmTwczyh",
        "outputId": "e3d90697-c16a-47ec-f822-2868354b7ac5"
      },
      "source": [
        "print(len(movie_reviews))"
      ],
      "execution_count": 11,
      "outputs": [
        {
          "output_type": "stream",
          "text": [
            "50000\n"
          ],
          "name": "stdout"
        }
      ]
    },
    {
      "cell_type": "code",
      "metadata": {
        "id": "YrIysigtPnGO"
      },
      "source": [
        "def preprocess_text(sen):\n",
        "    # Removing html tags\n",
        "    sentence = remove_tags(sen)\n",
        "\n",
        "    # Remove punctuations and numbers\n",
        "    sentence = re.sub('[^a-zA-Z]', ' ', sentence)\n",
        "\n",
        "    # Single character removal\n",
        "    sentence = re.sub(r\"\\s+[a-zA-Z]\\s+\", ' ', sentence)\n",
        "\n",
        "    # Removing multiple spaces\n",
        "    sentence = re.sub(r'\\s+', ' ', sentence)\n",
        "\n",
        "    return sentence"
      ],
      "execution_count": 12,
      "outputs": []
    },
    {
      "cell_type": "code",
      "metadata": {
        "id": "PwwY6vcgPp7H"
      },
      "source": [
        "TAG_RE = re.compile(r'<[^>]+>')\n",
        "\n",
        "def remove_tags(text):\n",
        "    return TAG_RE.sub('', text)"
      ],
      "execution_count": 13,
      "outputs": []
    },
    {
      "cell_type": "code",
      "metadata": {
        "id": "hjSl6nxCPsCO"
      },
      "source": [
        "X = []\n",
        "sentences = list(movie_reviews['review'])\n",
        "for sen in sentences:\n",
        "    X.append(preprocess_text(sen))"
      ],
      "execution_count": 14,
      "outputs": []
    },
    {
      "cell_type": "code",
      "metadata": {
        "id": "ATn47HLtRJYE"
      },
      "source": [
        "y = movie_reviews['sentiment']"
      ],
      "execution_count": 15,
      "outputs": []
    },
    {
      "cell_type": "code",
      "metadata": {
        "id": "GJmUN_z8QNgw"
      },
      "source": [
        "X_train, X_test, y_train, y_test = train_test_split(X, y, test_size=0.20, random_state=42)"
      ],
      "execution_count": 16,
      "outputs": []
    },
    {
      "cell_type": "code",
      "metadata": {
        "colab": {
          "base_uri": "https://localhost:8080/"
        },
        "id": "zPoui3qhzJlX",
        "outputId": "fdd2b27b-8c17-4805-9b11-6a3fa13ad261"
      },
      "source": [
        "#feature extraction with Tf-idf vectorizer\n",
        "from sklearn.feature_extraction.text import TfidfTransformer\n",
        "from sklearn.feature_extraction.text import TfidfVectorizer\n",
        "vectorizer = TfidfVectorizer(max_features=10000)\n",
        "train_vectors = vectorizer.fit_transform(X_train)\n",
        "test_vectors = vectorizer.transform(X_test)\n",
        "print(train_vectors.shape, test_vectors.shape)"
      ],
      "execution_count": 17,
      "outputs": [
        {
          "output_type": "stream",
          "text": [
            "(40000, 10000) (10000, 10000)\n"
          ],
          "name": "stdout"
        }
      ]
    },
    {
      "cell_type": "code",
      "metadata": {
        "id": "bdE5nZpqz1Ga"
      },
      "source": [
        "#use ML algorithms classifier\n",
        "#use a Naive Bayes Classifier and train the model on the training set.\n",
        "from sklearn.naive_bayes import MultinomialNB\n",
        "clf = MultinomialNB().fit(train_vectors, y_train)"
      ],
      "execution_count": 18,
      "outputs": []
    },
    {
      "cell_type": "code",
      "metadata": {
        "colab": {
          "base_uri": "https://localhost:8080/"
        },
        "id": "rbQLSsoA0KCr",
        "outputId": "d235c14f-11a9-4086-a673-2e19314020d0"
      },
      "source": [
        "#test the performance of our model on the test set to predict the sentiment labels\n",
        "from  sklearn.metrics  import accuracy_score\n",
        "predicted = clf.predict(test_vectors)\n",
        "print(\"Naive Bayes Accuracy Score -> \", accuracy_score(y_test,predicted)*100)\n"
      ],
      "execution_count": 19,
      "outputs": [
        {
          "output_type": "stream",
          "text": [
            "Naive Bayes Accuracy Score ->  85.75\n"
          ],
          "name": "stdout"
        }
      ]
    },
    {
      "cell_type": "code",
      "metadata": {
        "id": "jFsQ3At_3qpH",
        "colab": {
          "base_uri": "https://localhost:8080/"
        },
        "outputId": "1c89e6db-d76b-4803-e8ec-93ffa30d3923"
      },
      "source": [
        "#use SVM- Support Vector Machine\n",
        "# fit the training dataset on the classifier\n",
        "from sklearn import svm\n",
        "SVM = svm.SVC(C=1.0, kernel='linear', degree=3, gamma='auto')\n",
        "SVM.fit(train_vectors,y_train)\n",
        "# predict the labels on validation dataset\n",
        "predictions_SVM = SVM.predict(test_vectors)\n",
        "# Use accuracy_score function to get the accuracy\n",
        "print(\"SVM Accuracy Score -> \",accuracy_score(predictions_SVM, y_test)*100)"
      ],
      "execution_count": null,
      "outputs": [
        {
          "output_type": "stream",
          "text": [
            "SVM Accuracy Score ->  89.41\n"
          ],
          "name": "stdout"
        }
      ]
    },
    {
      "cell_type": "markdown",
      "metadata": {
        "id": "ynFdLvGB2sk_"
      },
      "source": [
        "**Learning word embedding **\n"
      ]
    },
    {
      "cell_type": "code",
      "metadata": {
        "colab": {
          "base_uri": "https://localhost:8080/"
        },
        "id": "vLmt_IWG6XvH",
        "outputId": "34ced552-b7b8-48db-8e38-003a2bbb87a9"
      },
      "source": [
        "#Below code converts the text to integer indexes, now ready to be used in Keras embedding layer.\n",
        "\n",
        "from tensorflow.python.keras.preprocessing.text import Tokenizer\n",
        "from tensorflow.python.keras.preprocessing.sequence import pad_sequences\n",
        "\n",
        "tokenizer_obj=Tokenizer()\n",
        "total_reviews= X_train + X_test\n",
        "tokenizer_obj.fit_on_texts(total_reviews)\n",
        "\n",
        "\n",
        "#define the maximum lenght of list in corpus\n",
        "max_lenght=max([len(s.split()) for s in total_reviews])\n",
        "print('Maximum lenght', max_lenght)\n",
        "\n",
        "#define the number of unique words in the corpus \n",
        "vocab_size=len(tokenizer_obj.word_index)+1\n",
        "print('The number of unique words in the corpus' ,vocab_size)\n",
        "\n",
        "X_train_tokens= tokenizer_obj.texts_to_sequences(X_train)\n",
        "X_test_tokens= tokenizer_obj.texts_to_sequences(X_test)\n",
        "\n",
        "#We add padding to make all the vectors of same length (max_length)\n",
        "X_train_pad=pad_sequences(X_train_tokens, maxlen=max_lenght, padding='post')\n",
        "X_test_pad=pad_sequences(X_test_tokens, maxlen=max_lenght, padding='post')"
      ],
      "execution_count": 20,
      "outputs": [
        {
          "output_type": "stream",
          "text": [
            "maximum lenght 2362\n",
            "the number of unique words in the corpus 101399\n"
          ],
          "name": "stdout"
        }
      ]
    },
    {
      "cell_type": "markdown",
      "metadata": {
        "id": "T6Vssfw2FzPD"
      },
      "source": [
        "**Train word2vec Embedding**\n"
      ]
    },
    {
      "cell_type": "code",
      "metadata": {
        "id": "NwJ5XRI3R8Rl"
      },
      "source": [
        "review_lines=list()\n",
        "lines=movie_reviews['review'].values.tolist()\n",
        "\n",
        "for line in lines:\n",
        "  tokens=word_tokenize(line)\n",
        "  #convert to lower case\n",
        "  tokens=[w.lower() for w in tokens]\n",
        "  #remove punctuation from each word\n",
        "  table=str.maketrans('','',string.punctuation)\n",
        "  stripped=[w.translate(table) for w in tokens]\n",
        "  #remove remaining tokens that are not alphabetic\n",
        "  words=[word for word in stripped if word.isalpha()]\n",
        "  #filter out stop words\n",
        "  stop_words=set(stopwords.words('english'))\n",
        "  words=[w for w in words if not w in stop_words]\n",
        "  review_lines.append(words)"
      ],
      "execution_count": 21,
      "outputs": []
    },
    {
      "cell_type": "code",
      "metadata": {
        "id": "otBEZkljTNJ5",
        "colab": {
          "base_uri": "https://localhost:8080/"
        },
        "outputId": "72238088-fd49-4e86-e01b-4ee8cb02a8c2"
      },
      "source": [
        "len(review_lines)"
      ],
      "execution_count": 22,
      "outputs": [
        {
          "output_type": "execute_result",
          "data": {
            "text/plain": [
              "50000"
            ]
          },
          "metadata": {
            "tags": []
          },
          "execution_count": 22
        }
      ]
    },
    {
      "cell_type": "code",
      "metadata": {
        "id": "gIWg9_e0F6SI",
        "colab": {
          "base_uri": "https://localhost:8080/"
        },
        "outputId": "73df09af-44a4-4797-f64d-c2940481d672"
      },
      "source": [
        "#creating word embeddings with word2vec \n",
        "EMBEDDING_DIM=100\n",
        "model = gensim.models.Word2Vec(sentences=review_lines, size=EMBEDDING_DIM,sg=1, window=10, iter=5,min_count=10, workers=4)\n",
        "\n",
        "#vocab size\n",
        "words=list(model.wv.vocab)\n",
        "print('Vovabulary size:%d' % len(words))\n"
      ],
      "execution_count": 23,
      "outputs": [
        {
          "output_type": "stream",
          "text": [
            "Vovabulary size:28327\n"
          ],
          "name": "stdout"
        }
      ]
    },
    {
      "cell_type": "code",
      "metadata": {
        "id": "5F9EvcUqIvsO"
      },
      "source": [
        "#save model\n",
        "filename='imdb_embedding_word2vec.txt'\n",
        "model.wv.save_word2vec_format(filename, binary=False)\n"
      ],
      "execution_count": 24,
      "outputs": []
    },
    {
      "cell_type": "code",
      "metadata": {
        "id": "RSV9A9myHZvt",
        "colab": {
          "base_uri": "https://localhost:8080/"
        },
        "outputId": "fc53cdb4-c011-40dd-b896-e5bbf5a09b42"
      },
      "source": [
        "#Check the size of the vocabulary\n",
        "#Vocabulary size is equal to the number of tokens from our corpus that had occurred at least 10 times\n",
        "len(model.wv.vocab)"
      ],
      "execution_count": 25,
      "outputs": [
        {
          "output_type": "execute_result",
          "data": {
            "text/plain": [
              "28327"
            ]
          },
          "metadata": {
            "tags": []
          },
          "execution_count": 25
        }
      ]
    },
    {
      "cell_type": "code",
      "metadata": {
        "id": "e8ED0dK3Hj3p"
      },
      "source": [
        "#t-SNE for dimensionality reduction reducing 64-dimensional Project movie reviews word-vector space down to two dimensions\n",
        "tsne = TSNE(n_components=2, n_iter=1000)\n",
        "X_2d = tsne.fit_transform(model.wv[model.wv.vocab])\n",
        "coords_df = pd.DataFrame(X_2d, columns=['x','y'])\n",
        "coords_df['token'] = model.wv.vocab.keys()"
      ],
      "execution_count": 26,
      "outputs": []
    },
    {
      "cell_type": "code",
      "metadata": {
        "id": "0rmf3YtP4zHv"
      },
      "source": [
        "coords_df.to_csv('reduce_dimentions.csv', index=False)"
      ],
      "execution_count": 27,
      "outputs": []
    },
    {
      "cell_type": "code",
      "metadata": {
        "id": "_8WEOwYB48Xw"
      },
      "source": [
        " coords_df = pd.read_csv('reduce_dimentions.csv')"
      ],
      "execution_count": 28,
      "outputs": []
    },
    {
      "cell_type": "code",
      "metadata": {
        "colab": {
          "base_uri": "https://localhost:8080/",
          "height": 204
        },
        "id": "zU5VAvfg5C-i",
        "outputId": "ce7275e5-ef08-4bb8-d3fc-4733abd0a3ff"
      },
      "source": [
        "coords_df.head()"
      ],
      "execution_count": 29,
      "outputs": [
        {
          "output_type": "execute_result",
          "data": {
            "text/html": [
              "<div>\n",
              "<style scoped>\n",
              "    .dataframe tbody tr th:only-of-type {\n",
              "        vertical-align: middle;\n",
              "    }\n",
              "\n",
              "    .dataframe tbody tr th {\n",
              "        vertical-align: top;\n",
              "    }\n",
              "\n",
              "    .dataframe thead th {\n",
              "        text-align: right;\n",
              "    }\n",
              "</style>\n",
              "<table border=\"1\" class=\"dataframe\">\n",
              "  <thead>\n",
              "    <tr style=\"text-align: right;\">\n",
              "      <th></th>\n",
              "      <th>x</th>\n",
              "      <th>y</th>\n",
              "      <th>token</th>\n",
              "    </tr>\n",
              "  </thead>\n",
              "  <tbody>\n",
              "    <tr>\n",
              "      <th>0</th>\n",
              "      <td>28.315847</td>\n",
              "      <td>16.702972</td>\n",
              "      <td>another</td>\n",
              "    </tr>\n",
              "    <tr>\n",
              "      <th>1</th>\n",
              "      <td>39.560947</td>\n",
              "      <td>-14.298949</td>\n",
              "      <td>good</td>\n",
              "    </tr>\n",
              "    <tr>\n",
              "      <th>2</th>\n",
              "      <td>40.368880</td>\n",
              "      <td>3.074302</td>\n",
              "      <td>animation</td>\n",
              "    </tr>\n",
              "    <tr>\n",
              "      <th>3</th>\n",
              "      <td>40.407642</td>\n",
              "      <td>3.462471</td>\n",
              "      <td>disney</td>\n",
              "    </tr>\n",
              "    <tr>\n",
              "      <th>4</th>\n",
              "      <td>37.177418</td>\n",
              "      <td>-0.072529</td>\n",
              "      <td>sequels</td>\n",
              "    </tr>\n",
              "  </tbody>\n",
              "</table>\n",
              "</div>"
            ],
            "text/plain": [
              "           x          y      token\n",
              "0  28.315847  16.702972    another\n",
              "1  39.560947 -14.298949       good\n",
              "2  40.368880   3.074302  animation\n",
              "3  40.407642   3.462471     disney\n",
              "4  37.177418  -0.072529    sequels"
            ]
          },
          "metadata": {
            "tags": []
          },
          "execution_count": 29
        }
      ]
    },
    {
      "cell_type": "code",
      "metadata": {
        "colab": {
          "base_uri": "https://localhost:8080/",
          "height": 817
        },
        "id": "dotpUE4nO3xp",
        "outputId": "d50adc4f-db9e-4ffa-edf0-67b25a466898"
      },
      "source": [
        "#Create Interactive bokeh two-dimensional word-vector plot\n",
        "output_notebook()\n",
        "subset_df = coords_df.sample(n=5000)\n",
        "p = figure(plot_width=800, plot_height=800)\n",
        "_ = p.text(x=subset_df.x, y=subset_df.y, text=subset_df.token)\n",
        "show(p)"
      ],
      "execution_count": 30,
      "outputs": [
        {
          "output_type": "display_data",
          "data": {
            "application/javascript": [
              "\n",
              "(function(root) {\n",
              "  function now() {\n",
              "    return new Date();\n",
              "  }\n",
              "\n",
              "  var force = true;\n",
              "\n",
              "  if (typeof root._bokeh_onload_callbacks === \"undefined\" || force === true) {\n",
              "    root._bokeh_onload_callbacks = [];\n",
              "    root._bokeh_is_loading = undefined;\n",
              "  }\n",
              "\n",
              "  var JS_MIME_TYPE = 'application/javascript';\n",
              "  var HTML_MIME_TYPE = 'text/html';\n",
              "  var EXEC_MIME_TYPE = 'application/vnd.bokehjs_exec.v0+json';\n",
              "  var CLASS_NAME = 'output_bokeh rendered_html';\n",
              "\n",
              "  /**\n",
              "   * Render data to the DOM node\n",
              "   */\n",
              "  function render(props, node) {\n",
              "    var script = document.createElement(\"script\");\n",
              "    node.appendChild(script);\n",
              "  }\n",
              "\n",
              "  /**\n",
              "   * Handle when an output is cleared or removed\n",
              "   */\n",
              "  function handleClearOutput(event, handle) {\n",
              "    var cell = handle.cell;\n",
              "\n",
              "    var id = cell.output_area._bokeh_element_id;\n",
              "    var server_id = cell.output_area._bokeh_server_id;\n",
              "    // Clean up Bokeh references\n",
              "    if (id != null && id in Bokeh.index) {\n",
              "      Bokeh.index[id].model.document.clear();\n",
              "      delete Bokeh.index[id];\n",
              "    }\n",
              "\n",
              "    if (server_id !== undefined) {\n",
              "      // Clean up Bokeh references\n",
              "      var cmd = \"from bokeh.io.state import curstate; print(curstate().uuid_to_server['\" + server_id + \"'].get_sessions()[0].document.roots[0]._id)\";\n",
              "      cell.notebook.kernel.execute(cmd, {\n",
              "        iopub: {\n",
              "          output: function(msg) {\n",
              "            var id = msg.content.text.trim();\n",
              "            if (id in Bokeh.index) {\n",
              "              Bokeh.index[id].model.document.clear();\n",
              "              delete Bokeh.index[id];\n",
              "            }\n",
              "          }\n",
              "        }\n",
              "      });\n",
              "      // Destroy server and session\n",
              "      var cmd = \"import bokeh.io.notebook as ion; ion.destroy_server('\" + server_id + \"')\";\n",
              "      cell.notebook.kernel.execute(cmd);\n",
              "    }\n",
              "  }\n",
              "\n",
              "  /**\n",
              "   * Handle when a new output is added\n",
              "   */\n",
              "  function handleAddOutput(event, handle) {\n",
              "    var output_area = handle.output_area;\n",
              "    var output = handle.output;\n",
              "\n",
              "    // limit handleAddOutput to display_data with EXEC_MIME_TYPE content only\n",
              "    if ((output.output_type != \"display_data\") || (!output.data.hasOwnProperty(EXEC_MIME_TYPE))) {\n",
              "      return\n",
              "    }\n",
              "\n",
              "    var toinsert = output_area.element.find(\".\" + CLASS_NAME.split(' ')[0]);\n",
              "\n",
              "    if (output.metadata[EXEC_MIME_TYPE][\"id\"] !== undefined) {\n",
              "      toinsert[toinsert.length - 1].firstChild.textContent = output.data[JS_MIME_TYPE];\n",
              "      // store reference to embed id on output_area\n",
              "      output_area._bokeh_element_id = output.metadata[EXEC_MIME_TYPE][\"id\"];\n",
              "    }\n",
              "    if (output.metadata[EXEC_MIME_TYPE][\"server_id\"] !== undefined) {\n",
              "      var bk_div = document.createElement(\"div\");\n",
              "      bk_div.innerHTML = output.data[HTML_MIME_TYPE];\n",
              "      var script_attrs = bk_div.children[0].attributes;\n",
              "      for (var i = 0; i < script_attrs.length; i++) {\n",
              "        toinsert[toinsert.length - 1].firstChild.setAttribute(script_attrs[i].name, script_attrs[i].value);\n",
              "        toinsert[toinsert.length - 1].firstChild.textContent = bk_div.children[0].textContent\n",
              "      }\n",
              "      // store reference to server id on output_area\n",
              "      output_area._bokeh_server_id = output.metadata[EXEC_MIME_TYPE][\"server_id\"];\n",
              "    }\n",
              "  }\n",
              "\n",
              "  function register_renderer(events, OutputArea) {\n",
              "\n",
              "    function append_mime(data, metadata, element) {\n",
              "      // create a DOM node to render to\n",
              "      var toinsert = this.create_output_subarea(\n",
              "        metadata,\n",
              "        CLASS_NAME,\n",
              "        EXEC_MIME_TYPE\n",
              "      );\n",
              "      this.keyboard_manager.register_events(toinsert);\n",
              "      // Render to node\n",
              "      var props = {data: data, metadata: metadata[EXEC_MIME_TYPE]};\n",
              "      render(props, toinsert[toinsert.length - 1]);\n",
              "      element.append(toinsert);\n",
              "      return toinsert\n",
              "    }\n",
              "\n",
              "    /* Handle when an output is cleared or removed */\n",
              "    events.on('clear_output.CodeCell', handleClearOutput);\n",
              "    events.on('delete.Cell', handleClearOutput);\n",
              "\n",
              "    /* Handle when a new output is added */\n",
              "    events.on('output_added.OutputArea', handleAddOutput);\n",
              "\n",
              "    /**\n",
              "     * Register the mime type and append_mime function with output_area\n",
              "     */\n",
              "    OutputArea.prototype.register_mime_type(EXEC_MIME_TYPE, append_mime, {\n",
              "      /* Is output safe? */\n",
              "      safe: true,\n",
              "      /* Index of renderer in `output_area.display_order` */\n",
              "      index: 0\n",
              "    });\n",
              "  }\n",
              "\n",
              "  // register the mime type if in Jupyter Notebook environment and previously unregistered\n",
              "  if (root.Jupyter !== undefined) {\n",
              "    var events = require('base/js/events');\n",
              "    var OutputArea = require('notebook/js/outputarea').OutputArea;\n",
              "\n",
              "    if (OutputArea.prototype.mime_types().indexOf(EXEC_MIME_TYPE) == -1) {\n",
              "      register_renderer(events, OutputArea);\n",
              "    }\n",
              "  }\n",
              "\n",
              "  \n",
              "  if (typeof (root._bokeh_timeout) === \"undefined\" || force === true) {\n",
              "    root._bokeh_timeout = Date.now() + 5000;\n",
              "    root._bokeh_failed_load = false;\n",
              "  }\n",
              "\n",
              "  var NB_LOAD_WARNING = {'data': {'text/html':\n",
              "     \"<div style='background-color: #fdd'>\\n\"+\n",
              "     \"<p>\\n\"+\n",
              "     \"BokehJS does not appear to have successfully loaded. If loading BokehJS from CDN, this \\n\"+\n",
              "     \"may be due to a slow or bad network connection. Possible fixes:\\n\"+\n",
              "     \"</p>\\n\"+\n",
              "     \"<ul>\\n\"+\n",
              "     \"<li>re-rerun `output_notebook()` to attempt to load from CDN again, or</li>\\n\"+\n",
              "     \"<li>use INLINE resources instead, as so:</li>\\n\"+\n",
              "     \"</ul>\\n\"+\n",
              "     \"<code>\\n\"+\n",
              "     \"from bokeh.resources import INLINE\\n\"+\n",
              "     \"output_notebook(resources=INLINE)\\n\"+\n",
              "     \"</code>\\n\"+\n",
              "     \"</div>\"}};\n",
              "\n",
              "  function display_loaded() {\n",
              "    var el = document.getElementById(null);\n",
              "    if (el != null) {\n",
              "      el.textContent = \"BokehJS is loading...\";\n",
              "    }\n",
              "    if (root.Bokeh !== undefined) {\n",
              "      if (el != null) {\n",
              "        el.textContent = \"BokehJS \" + root.Bokeh.version + \" successfully loaded.\";\n",
              "      }\n",
              "    } else if (Date.now() < root._bokeh_timeout) {\n",
              "      setTimeout(display_loaded, 100)\n",
              "    }\n",
              "  }\n",
              "\n",
              "\n",
              "  function run_callbacks() {\n",
              "    try {\n",
              "      root._bokeh_onload_callbacks.forEach(function(callback) {\n",
              "        if (callback != null)\n",
              "          callback();\n",
              "      });\n",
              "    } finally {\n",
              "      delete root._bokeh_onload_callbacks\n",
              "    }\n",
              "    console.debug(\"Bokeh: all callbacks have finished\");\n",
              "  }\n",
              "\n",
              "  function load_libs(css_urls, js_urls, callback) {\n",
              "    if (css_urls == null) css_urls = [];\n",
              "    if (js_urls == null) js_urls = [];\n",
              "\n",
              "    root._bokeh_onload_callbacks.push(callback);\n",
              "    if (root._bokeh_is_loading > 0) {\n",
              "      console.debug(\"Bokeh: BokehJS is being loaded, scheduling callback at\", now());\n",
              "      return null;\n",
              "    }\n",
              "    if (js_urls == null || js_urls.length === 0) {\n",
              "      run_callbacks();\n",
              "      return null;\n",
              "    }\n",
              "    console.debug(\"Bokeh: BokehJS not loaded, scheduling load and callback at\", now());\n",
              "    root._bokeh_is_loading = css_urls.length + js_urls.length;\n",
              "\n",
              "    function on_load() {\n",
              "      root._bokeh_is_loading--;\n",
              "      if (root._bokeh_is_loading === 0) {\n",
              "        console.debug(\"Bokeh: all BokehJS libraries/stylesheets loaded\");\n",
              "        run_callbacks()\n",
              "      }\n",
              "    }\n",
              "\n",
              "    function on_error() {\n",
              "      console.error(\"failed to load \" + url);\n",
              "    }\n",
              "\n",
              "    for (var i = 0; i < css_urls.length; i++) {\n",
              "      var url = css_urls[i];\n",
              "      const element = document.createElement(\"link\");\n",
              "      element.onload = on_load;\n",
              "      element.onerror = on_error;\n",
              "      element.rel = \"stylesheet\";\n",
              "      element.type = \"text/css\";\n",
              "      element.href = url;\n",
              "      console.debug(\"Bokeh: injecting link tag for BokehJS stylesheet: \", url);\n",
              "      document.body.appendChild(element);\n",
              "    }\n",
              "\n",
              "    const hashes = {\"https://cdn.bokeh.org/bokeh/release/bokeh-2.1.1.min.js\": \"kLr4fYcqcSpbuI95brIH3vnnYCquzzSxHPU6XGQCIkQRGJwhg0StNbj1eegrHs12\", \"https://cdn.bokeh.org/bokeh/release/bokeh-widgets-2.1.1.min.js\": \"xIGPmVtaOm+z0BqfSOMn4lOR6ciex448GIKG4eE61LsAvmGj48XcMQZtKcE/UXZe\", \"https://cdn.bokeh.org/bokeh/release/bokeh-tables-2.1.1.min.js\": \"Dc9u1wF/0zApGIWoBbH77iWEHtdmkuYWG839Uzmv8y8yBLXebjO9ZnERsde5Ln/P\", \"https://cdn.bokeh.org/bokeh/release/bokeh-gl-2.1.1.min.js\": \"cT9JaBz7GiRXdENrJLZNSC6eMNF3nh3fa5fTF51Svp+ukxPdwcU5kGXGPBgDCa2j\"};\n",
              "\n",
              "    for (var i = 0; i < js_urls.length; i++) {\n",
              "      var url = js_urls[i];\n",
              "      var element = document.createElement('script');\n",
              "      element.onload = on_load;\n",
              "      element.onerror = on_error;\n",
              "      element.async = false;\n",
              "      element.src = url;\n",
              "      if (url in hashes) {\n",
              "        element.crossOrigin = \"anonymous\";\n",
              "        element.integrity = \"sha384-\" + hashes[url];\n",
              "      }\n",
              "      console.debug(\"Bokeh: injecting script tag for BokehJS library: \", url);\n",
              "      document.head.appendChild(element);\n",
              "    }\n",
              "  };\n",
              "\n",
              "  function inject_raw_css(css) {\n",
              "    const element = document.createElement(\"style\");\n",
              "    element.appendChild(document.createTextNode(css));\n",
              "    document.body.appendChild(element);\n",
              "  }\n",
              "\n",
              "  \n",
              "  var js_urls = [\"https://cdn.bokeh.org/bokeh/release/bokeh-2.1.1.min.js\", \"https://cdn.bokeh.org/bokeh/release/bokeh-widgets-2.1.1.min.js\", \"https://cdn.bokeh.org/bokeh/release/bokeh-tables-2.1.1.min.js\", \"https://cdn.bokeh.org/bokeh/release/bokeh-gl-2.1.1.min.js\"];\n",
              "  var css_urls = [];\n",
              "  \n",
              "\n",
              "  var inline_js = [\n",
              "    function(Bokeh) {\n",
              "      Bokeh.set_log_level(\"info\");\n",
              "    },\n",
              "    function(Bokeh) {\n",
              "    \n",
              "    \n",
              "    }\n",
              "  ];\n",
              "\n",
              "  function run_inline_js() {\n",
              "    \n",
              "    if (root.Bokeh !== undefined || force === true) {\n",
              "      \n",
              "    for (var i = 0; i < inline_js.length; i++) {\n",
              "      inline_js[i].call(root, root.Bokeh);\n",
              "    }\n",
              "    } else if (Date.now() < root._bokeh_timeout) {\n",
              "      setTimeout(run_inline_js, 100);\n",
              "    } else if (!root._bokeh_failed_load) {\n",
              "      console.log(\"Bokeh: BokehJS failed to load within specified timeout.\");\n",
              "      root._bokeh_failed_load = true;\n",
              "    } else if (force !== true) {\n",
              "      var cell = $(document.getElementById(null)).parents('.cell').data().cell;\n",
              "      cell.output_area.append_execute_result(NB_LOAD_WARNING)\n",
              "    }\n",
              "\n",
              "  }\n",
              "\n",
              "  if (root._bokeh_is_loading === 0) {\n",
              "    console.debug(\"Bokeh: BokehJS loaded, going straight to plotting\");\n",
              "    run_inline_js();\n",
              "  } else {\n",
              "    load_libs(css_urls, js_urls, function() {\n",
              "      console.debug(\"Bokeh: BokehJS plotting callback run at\", now());\n",
              "      run_inline_js();\n",
              "    });\n",
              "  }\n",
              "}(window));"
            ],
            "application/vnd.bokehjs_load.v0+json": "\n(function(root) {\n  function now() {\n    return new Date();\n  }\n\n  var force = true;\n\n  if (typeof root._bokeh_onload_callbacks === \"undefined\" || force === true) {\n    root._bokeh_onload_callbacks = [];\n    root._bokeh_is_loading = undefined;\n  }\n\n  \n\n  \n  if (typeof (root._bokeh_timeout) === \"undefined\" || force === true) {\n    root._bokeh_timeout = Date.now() + 5000;\n    root._bokeh_failed_load = false;\n  }\n\n  var NB_LOAD_WARNING = {'data': {'text/html':\n     \"<div style='background-color: #fdd'>\\n\"+\n     \"<p>\\n\"+\n     \"BokehJS does not appear to have successfully loaded. If loading BokehJS from CDN, this \\n\"+\n     \"may be due to a slow or bad network connection. Possible fixes:\\n\"+\n     \"</p>\\n\"+\n     \"<ul>\\n\"+\n     \"<li>re-rerun `output_notebook()` to attempt to load from CDN again, or</li>\\n\"+\n     \"<li>use INLINE resources instead, as so:</li>\\n\"+\n     \"</ul>\\n\"+\n     \"<code>\\n\"+\n     \"from bokeh.resources import INLINE\\n\"+\n     \"output_notebook(resources=INLINE)\\n\"+\n     \"</code>\\n\"+\n     \"</div>\"}};\n\n  function display_loaded() {\n    var el = document.getElementById(null);\n    if (el != null) {\n      el.textContent = \"BokehJS is loading...\";\n    }\n    if (root.Bokeh !== undefined) {\n      if (el != null) {\n        el.textContent = \"BokehJS \" + root.Bokeh.version + \" successfully loaded.\";\n      }\n    } else if (Date.now() < root._bokeh_timeout) {\n      setTimeout(display_loaded, 100)\n    }\n  }\n\n\n  function run_callbacks() {\n    try {\n      root._bokeh_onload_callbacks.forEach(function(callback) {\n        if (callback != null)\n          callback();\n      });\n    } finally {\n      delete root._bokeh_onload_callbacks\n    }\n    console.debug(\"Bokeh: all callbacks have finished\");\n  }\n\n  function load_libs(css_urls, js_urls, callback) {\n    if (css_urls == null) css_urls = [];\n    if (js_urls == null) js_urls = [];\n\n    root._bokeh_onload_callbacks.push(callback);\n    if (root._bokeh_is_loading > 0) {\n      console.debug(\"Bokeh: BokehJS is being loaded, scheduling callback at\", now());\n      return null;\n    }\n    if (js_urls == null || js_urls.length === 0) {\n      run_callbacks();\n      return null;\n    }\n    console.debug(\"Bokeh: BokehJS not loaded, scheduling load and callback at\", now());\n    root._bokeh_is_loading = css_urls.length + js_urls.length;\n\n    function on_load() {\n      root._bokeh_is_loading--;\n      if (root._bokeh_is_loading === 0) {\n        console.debug(\"Bokeh: all BokehJS libraries/stylesheets loaded\");\n        run_callbacks()\n      }\n    }\n\n    function on_error() {\n      console.error(\"failed to load \" + url);\n    }\n\n    for (var i = 0; i < css_urls.length; i++) {\n      var url = css_urls[i];\n      const element = document.createElement(\"link\");\n      element.onload = on_load;\n      element.onerror = on_error;\n      element.rel = \"stylesheet\";\n      element.type = \"text/css\";\n      element.href = url;\n      console.debug(\"Bokeh: injecting link tag for BokehJS stylesheet: \", url);\n      document.body.appendChild(element);\n    }\n\n    const hashes = {\"https://cdn.bokeh.org/bokeh/release/bokeh-2.1.1.min.js\": \"kLr4fYcqcSpbuI95brIH3vnnYCquzzSxHPU6XGQCIkQRGJwhg0StNbj1eegrHs12\", \"https://cdn.bokeh.org/bokeh/release/bokeh-widgets-2.1.1.min.js\": \"xIGPmVtaOm+z0BqfSOMn4lOR6ciex448GIKG4eE61LsAvmGj48XcMQZtKcE/UXZe\", \"https://cdn.bokeh.org/bokeh/release/bokeh-tables-2.1.1.min.js\": \"Dc9u1wF/0zApGIWoBbH77iWEHtdmkuYWG839Uzmv8y8yBLXebjO9ZnERsde5Ln/P\", \"https://cdn.bokeh.org/bokeh/release/bokeh-gl-2.1.1.min.js\": \"cT9JaBz7GiRXdENrJLZNSC6eMNF3nh3fa5fTF51Svp+ukxPdwcU5kGXGPBgDCa2j\"};\n\n    for (var i = 0; i < js_urls.length; i++) {\n      var url = js_urls[i];\n      var element = document.createElement('script');\n      element.onload = on_load;\n      element.onerror = on_error;\n      element.async = false;\n      element.src = url;\n      if (url in hashes) {\n        element.crossOrigin = \"anonymous\";\n        element.integrity = \"sha384-\" + hashes[url];\n      }\n      console.debug(\"Bokeh: injecting script tag for BokehJS library: \", url);\n      document.head.appendChild(element);\n    }\n  };\n\n  function inject_raw_css(css) {\n    const element = document.createElement(\"style\");\n    element.appendChild(document.createTextNode(css));\n    document.body.appendChild(element);\n  }\n\n  \n  var js_urls = [\"https://cdn.bokeh.org/bokeh/release/bokeh-2.1.1.min.js\", \"https://cdn.bokeh.org/bokeh/release/bokeh-widgets-2.1.1.min.js\", \"https://cdn.bokeh.org/bokeh/release/bokeh-tables-2.1.1.min.js\", \"https://cdn.bokeh.org/bokeh/release/bokeh-gl-2.1.1.min.js\"];\n  var css_urls = [];\n  \n\n  var inline_js = [\n    function(Bokeh) {\n      Bokeh.set_log_level(\"info\");\n    },\n    function(Bokeh) {\n    \n    \n    }\n  ];\n\n  function run_inline_js() {\n    \n    if (root.Bokeh !== undefined || force === true) {\n      \n    for (var i = 0; i < inline_js.length; i++) {\n      inline_js[i].call(root, root.Bokeh);\n    }\n    } else if (Date.now() < root._bokeh_timeout) {\n      setTimeout(run_inline_js, 100);\n    } else if (!root._bokeh_failed_load) {\n      console.log(\"Bokeh: BokehJS failed to load within specified timeout.\");\n      root._bokeh_failed_load = true;\n    } else if (force !== true) {\n      var cell = $(document.getElementById(null)).parents('.cell').data().cell;\n      cell.output_area.append_execute_result(NB_LOAD_WARNING)\n    }\n\n  }\n\n  if (root._bokeh_is_loading === 0) {\n    console.debug(\"Bokeh: BokehJS loaded, going straight to plotting\");\n    run_inline_js();\n  } else {\n    load_libs(css_urls, js_urls, function() {\n      console.debug(\"Bokeh: BokehJS plotting callback run at\", now());\n      run_inline_js();\n    });\n  }\n}(window));"
          },
          "metadata": {
            "tags": []
          }
        },
        {
          "output_type": "display_data",
          "data": {
            "text/html": [
              "\n",
              "\n",
              "\n",
              "\n",
              "\n",
              "\n",
              "  <div class=\"bk-root\" id=\"fb6f4eb7-4c7d-416b-881f-60f8d3e4f08b\" data-root-id=\"1001\"></div>\n"
            ]
          },
          "metadata": {
            "tags": []
          }
        },
        {
          "output_type": "display_data",
          "data": {
            "application/javascript": [
              "(function(root) {\n",
              "  function embed_document(root) {\n",
              "    \n",
              "  var docs_json = {\"4e27b9cb-ec38-45bf-b299-faa2f5ee6370\":{\"roots\":{\"references\":[{\"attributes\":{\"below\":[{\"id\":\"1010\"}],\"center\":[{\"id\":\"1013\"},{\"id\":\"1017\"}],\"left\":[{\"id\":\"1014\"}],\"plot_height\":800,\"plot_width\":800,\"renderers\":[{\"id\":\"1035\"}],\"title\":{\"id\":\"1037\"},\"toolbar\":{\"id\":\"1025\"},\"x_range\":{\"id\":\"1002\"},\"x_scale\":{\"id\":\"1006\"},\"y_range\":{\"id\":\"1004\"},\"y_scale\":{\"id\":\"1008\"}},\"id\":\"1001\",\"subtype\":\"Figure\",\"type\":\"Plot\"},{\"attributes\":{\"overlay\":{\"id\":\"1024\"}},\"id\":\"1020\",\"type\":\"BoxZoomTool\"},{\"attributes\":{\"axis\":{\"id\":\"1014\"},\"dimension\":1,\"ticker\":null},\"id\":\"1017\",\"type\":\"Grid\"},{\"attributes\":{},\"id\":\"1021\",\"type\":\"SaveTool\"},{\"attributes\":{\"formatter\":{\"id\":\"1042\"},\"ticker\":{\"id\":\"1015\"}},\"id\":\"1014\",\"type\":\"LinearAxis\"},{\"attributes\":{},\"id\":\"1022\",\"type\":\"ResetTool\"},{\"attributes\":{},\"id\":\"1015\",\"type\":\"BasicTicker\"},{\"attributes\":{},\"id\":\"1023\",\"type\":\"HelpTool\"},{\"attributes\":{},\"id\":\"1045\",\"type\":\"Selection\"},{\"attributes\":{\"active_drag\":\"auto\",\"active_inspect\":\"auto\",\"active_multi\":null,\"active_scroll\":\"auto\",\"active_tap\":\"auto\",\"tools\":[{\"id\":\"1018\"},{\"id\":\"1019\"},{\"id\":\"1020\"},{\"id\":\"1021\"},{\"id\":\"1022\"},{\"id\":\"1023\"}]},\"id\":\"1025\",\"type\":\"Toolbar\"},{\"attributes\":{\"data\":{\"text\":[\"intrigues\",\"chilling\",\"softened\",\"genius\",\"kersey\",\"shard\",\"premises\",\"identities\",\"burton\",\"buddhist\",\"sidney\",\"baywatch\",\"forbes\",\"gyrating\",\"conflicting\",\"sprays\",\"leatherface\",\"cop\",\"bullets\",\"sliced\",\"benefactor\",\"backbone\",\"adversaries\",\"venturing\",\"retiring\",\"rapist\",\"nerd\",\"dozen\",\"seattle\",\"intercourse\",\"perversity\",\"plotting\",\"catches\",\"nakata\",\"handcuffs\",\"disciple\",\"combo\",\"debts\",\"unanswered\",\"would\",\"overtime\",\"aggravating\",\"counselor\",\"sautet\",\"outbursts\",\"sid\",\"gross\",\"actress\",\"poked\",\"edgier\",\"deviate\",\"busy\",\"thunderbird\",\"looks\",\"mechanics\",\"musical\",\"salles\",\"reviving\",\"able\",\"bathsheba\",\"butler\",\"crippled\",\"commonplace\",\"placid\",\"napoleon\",\"naught\",\"tracker\",\"pelagia\",\"relating\",\"tends\",\"fragmented\",\"shinobi\",\"rantings\",\"waldo\",\"nurturing\",\"accident\",\"targeting\",\"maneating\",\"physicist\",\"springs\",\"ramin\",\"spastic\",\"masturbating\",\"chasey\",\"mythical\",\"services\",\"rgv\",\"enterprising\",\"garnered\",\"laborers\",\"juke\",\"sandy\",\"stupefying\",\"elinor\",\"leaded\",\"web\",\"archibald\",\"err\",\"driven\",\"shadowed\",\"refusal\",\"designated\",\"spectacle\",\"jailed\",\"dragged\",\"hatcher\",\"dada\",\"halfdozen\",\"alfred\",\"wellestablished\",\"redd\",\"vomiting\",\"customs\",\"acquitted\",\"pauline\",\"desired\",\"superhero\",\"fiction\",\"faulkner\",\"wynn\",\"dahlia\",\"reference\",\"greedy\",\"bells\",\"overjoyed\",\"boyfriend\",\"uncompromising\",\"connolly\",\"everest\",\"rios\",\"extracting\",\"efficiently\",\"macready\",\"almasy\",\"gays\",\"paraphrase\",\"administrator\",\"perverted\",\"opposed\",\"smacking\",\"screenings\",\"stating\",\"j\",\"nazareth\",\"tug\",\"inconsistencies\",\"ditz\",\"unfunny\",\"vices\",\"dichotomy\",\"croc\",\"snap\",\"decade\",\"guttenberg\",\"bicker\",\"specially\",\"dutchman\",\"mao\",\"chiba\",\"hectic\",\"hold\",\"romantically\",\"meters\",\"subtext\",\"jewels\",\"tiring\",\"man\",\"sampson\",\"flavia\",\"mattei\",\"roasted\",\"munich\",\"dies\",\"chrissy\",\"miserably\",\"identified\",\"swims\",\"brick\",\"schepisi\",\"kali\",\"worms\",\"colby\",\"doctors\",\"apologized\",\"affair\",\"tarr\",\"shops\",\"omissions\",\"feral\",\"free\",\"discovered\",\"lillies\",\"pounding\",\"blond\",\"boggling\",\"taste\",\"acharya\",\"paused\",\"psychologically\",\"adolph\",\"gonzo\",\"norton\",\"meyer\",\"mediocrity\",\"surfaces\",\"clive\",\"poof\",\"unruly\",\"prof\",\"proficiency\",\"anorexic\",\"crimson\",\"figment\",\"overpopulated\",\"heather\",\"knives\",\"sweetie\",\"galaxy\",\"acquainted\",\"sneering\",\"gabriele\",\"straightforward\",\"rooftop\",\"st\\u00e9phane\",\"christopher\",\"ensuring\",\"creeper\",\"requisite\",\"smithee\",\"escaping\",\"viper\",\"vantage\",\"grandiose\",\"entrenched\",\"knocking\",\"moran\",\"premier\",\"nina\",\"capri\",\"decorate\",\"float\",\"rhysmeyers\",\"alternatively\",\"melts\",\"vaughn\",\"daredevil\",\"drastic\",\"world\",\"trait\",\"revolutions\",\"munster\",\"clouseau\",\"tricked\",\"jaded\",\"competitions\",\"baby\",\"witchery\",\"gaming\",\"stranded\",\"trnka\",\"dry\",\"breathed\",\"lighted\",\"zeal\",\"bills\",\"evelyn\",\"explains\",\"doting\",\"headphones\",\"knickers\",\"ire\",\"bastards\",\"krishna\",\"enliven\",\"programmes\",\"option\",\"impresses\",\"foreseeable\",\"whatever\",\"monopoly\",\"catastrophic\",\"torturing\",\"rosy\",\"benefited\",\"maintained\",\"pointofview\",\"rebuild\",\"microscopic\",\"mcteer\",\"wholesome\",\"vial\",\"unerotic\",\"employing\",\"term\",\"mehta\",\"upstart\",\"classroom\",\"era\",\"mcdermott\",\"wakes\",\"vodka\",\"desk\",\"lovitz\",\"shoving\",\"lloyd\",\"furst\",\"introverted\",\"coproducer\",\"nazism\",\"houseman\",\"mckee\",\"halsey\",\"spills\",\"emraan\",\"holbrook\",\"becomes\",\"yiddish\",\"wrists\",\"pinning\",\"definitions\",\"gamera\",\"gratification\",\"inhuman\",\"check\",\"infatuated\",\"churned\",\"raiding\",\"whistling\",\"hackneyed\",\"laidback\",\"locations\",\"beasts\",\"reactions\",\"lorenz\",\"unbridled\",\"dull\",\"prosecuted\",\"seaver\",\"reload\",\"pornography\",\"saddens\",\"words\",\"kabei\",\"butts\",\"interviewing\",\"nonfans\",\"inadequate\",\"kaiser\",\"bizet\",\"samhain\",\"oppressed\",\"gratuitous\",\"glue\",\"prick\",\"forgetting\",\"fixing\",\"manservant\",\"imitated\",\"worlds\",\"crayon\",\"incessantly\",\"driveway\",\"depressing\",\"fails\",\"foxhole\",\"quietly\",\"lighter\",\"sayles\",\"dedlock\",\"hordes\",\"denzel\",\"delpy\",\"homemaker\",\"converted\",\"cuba\",\"leftovers\",\"excised\",\"mutually\",\"persona\",\"leaving\",\"scotland\",\"dash\",\"grownup\",\"toned\",\"wellconstructed\",\"mad\",\"retains\",\"slurs\",\"potentially\",\"yarn\",\"coulier\",\"hotheaded\",\"carrie\",\"positions\",\"civilizations\",\"dressing\",\"iran\",\"padding\",\"imitation\",\"delia\",\"mournful\",\"goines\",\"popularity\",\"conning\",\"bulgaria\",\"impressing\",\"banjos\",\"overs\",\"samourai\",\"operatic\",\"meager\",\"outdoor\",\"undermine\",\"steiner\",\"need\",\"challenging\",\"noteworthy\",\"gis\",\"kwai\",\"syd\",\"extend\",\"supporting\",\"din\",\"far\",\"rhode\",\"multiple\",\"successors\",\"predictable\",\"stupendous\",\"cris\",\"grading\",\"nettie\",\"yossi\",\"steptoe\",\"alejandro\",\"gripped\",\"mobster\",\"preppy\",\"matuschek\",\"forensics\",\"film\",\"brutalized\",\"abortions\",\"dinocroc\",\"deanna\",\"suspending\",\"manuel\",\"sanjay\",\"squirm\",\"gilligan\",\"good\",\"suave\",\"activity\",\"mcintire\",\"deacon\",\"obstacle\",\"glitch\",\"roads\",\"leigh\",\"immersing\",\"bront\\u00eb\",\"callers\",\"diarrhea\",\"thick\",\"remake\",\"determined\",\"flu\",\"wiedzmin\",\"ceremony\",\"taime\",\"nurtured\",\"scar\",\"mildmannered\",\"threat\",\"lois\",\"elevate\",\"clavier\",\"impregnated\",\"feuding\",\"refuge\",\"spiked\",\"zahn\",\"mcnichol\",\"mulholland\",\"notion\",\"stealth\",\"duplicated\",\"zing\",\"revival\",\"fender\",\"welldirected\",\"repeat\",\"hospital\",\"stomped\",\"intolerant\",\"todays\",\"fondness\",\"immature\",\"characteristically\",\"outrage\",\"goofs\",\"heinlein\",\"notorious\",\"dickinson\",\"stems\",\"environmentalist\",\"eikenberry\",\"eschews\",\"melee\",\"vignette\",\"approval\",\"arrangements\",\"tempestuous\",\"frolicking\",\"domesticated\",\"immediacy\",\"fastidious\",\"pulsing\",\"endowed\",\"jealousy\",\"burtynsky\",\"skaters\",\"interpretation\",\"gratuitously\",\"essex\",\"dor\",\"admiral\",\"tessa\",\"molina\",\"chickens\",\"diminishes\",\"funfilled\",\"coco\",\"stinkers\",\"meadows\",\"madefortelevision\",\"skeptic\",\"officially\",\"claudio\",\"kim\",\"bumbling\",\"tsai\",\"delivery\",\"scrub\",\"kirkland\",\"smartly\",\"geniuses\",\"soldier\",\"recomend\",\"respect\",\"stefan\",\"anupam\",\"mormons\",\"imperfections\",\"scalpel\",\"fastmoving\",\"auditorium\",\"foil\",\"ensemble\",\"slots\",\"riker\",\"foes\",\"pt\",\"hearn\",\"gratitude\",\"confines\",\"created\",\"embodies\",\"revised\",\"mcdowell\",\"coarse\",\"lahti\",\"imbecilic\",\"vs\",\"horrifyingly\",\"disaffected\",\"alcoholism\",\"hanka\",\"reunites\",\"discoveries\",\"mcclory\",\"winners\",\"arturo\",\"motionless\",\"disability\",\"comedienne\",\"inclusive\",\"emotive\",\"casanova\",\"tcm\",\"remade\",\"villon\",\"downward\",\"whirl\",\"lyon\",\"ramgopal\",\"borough\",\"praise\",\"fluids\",\"ditched\",\"trauma\",\"schroeder\",\"reconciliation\",\"flatter\",\"cullen\",\"linear\",\"pineapple\",\"levine\",\"mysteries\",\"espionage\",\"faux\",\"ros\",\"emotionally\",\"alfredo\",\"gymnastics\",\"utilize\",\"chicken\",\"bello\",\"heels\",\"rideau\",\"owl\",\"defies\",\"cracker\",\"bikini\",\"malicious\",\"siodmak\",\"monastery\",\"shawl\",\"insiders\",\"estrangement\",\"contributing\",\"tangentially\",\"grace\",\"modernday\",\"dell\",\"nondescript\",\"snuff\",\"drunken\",\"ringo\",\"lars\",\"weaknesses\",\"henchmen\",\"mentally\",\"hodder\",\"irvin\",\"distorts\",\"mastery\",\"bundy\",\"whereabouts\",\"meanings\",\"rumoured\",\"elimination\",\"punch\",\"filmgoer\",\"lovemaking\",\"pictured\",\"demunn\",\"macmurray\",\"masterworks\",\"societies\",\"tart\",\"dissecting\",\"biased\",\"rim\",\"chong\",\"sparring\",\"pilot\",\"infancy\",\"crappy\",\"prominently\",\"wore\",\"baked\",\"ancestor\",\"foul\",\"catholic\",\"population\",\"sirk\",\"mediums\",\"ketchup\",\"unrealistic\",\"crouse\",\"saif\",\"singing\",\"developing\",\"belles\",\"programming\",\"meaning\",\"amin\",\"fiddler\",\"excellent\",\"pearly\",\"nauseatingly\",\"antiwar\",\"headmistress\",\"stalking\",\"lying\",\"minnesota\",\"tribal\",\"selfesteem\",\"reccomend\",\"tours\",\"gabor\",\"bertolucci\",\"pendleton\",\"prashant\",\"recklessness\",\"amityville\",\"whisked\",\"deane\",\"resource\",\"euripides\",\"gialli\",\"sloppiness\",\"significant\",\"asner\",\"estonia\",\"tormented\",\"dee\",\"vance\",\"hazing\",\"cgrade\",\"contrast\",\"magically\",\"duryea\",\"grunge\",\"westerns\",\"summarize\",\"prc\",\"nearperfect\",\"marigold\",\"devotes\",\"horrorgore\",\"singularly\",\"mincing\",\"temperatures\",\"deserts\",\"riddick\",\"airman\",\"cartoonlike\",\"enlisted\",\"elicited\",\"still\",\"befriending\",\"concoction\",\"inkling\",\"equally\",\"ali\",\"look\",\"troublesome\",\"defeated\",\"barracks\",\"valette\",\"prot\\u00e9e\",\"economy\",\"hip\",\"mummies\",\"kids\",\"highway\",\"dances\",\"attest\",\"roma\",\"ridding\",\"flowing\",\"highquality\",\"million\",\"im\",\"splendid\",\"frees\",\"awhile\",\"eko\",\"fuss\",\"lightyears\",\"subsequently\",\"generosity\",\"claustrophobic\",\"labs\",\"rahul\",\"bruises\",\"espagnole\",\"dresser\",\"ronny\",\"unspeakably\",\"manipulating\",\"berlin\",\"oozes\",\"hike\",\"dreamgirls\",\"interplay\",\"worldweary\",\"outdated\",\"camaraderie\",\"ade\",\"simba\",\"morrow\",\"gleeson\",\"alan\",\"latenight\",\"beneath\",\"forest\",\"seconds\",\"investigates\",\"nations\",\"pa\",\"area\",\"apparently\",\"allies\",\"adoptive\",\"distinguishing\",\"tesis\",\"shabby\",\"west\",\"embarrasses\",\"thai\",\"thailand\",\"hickory\",\"tierney\",\"muppet\",\"harshness\",\"thumb\",\"trappers\",\"pains\",\"guignol\",\"swashbuckler\",\"rhoda\",\"cliff\",\"recreation\",\"directing\",\"jane\",\"boys\",\"gogo\",\"jolts\",\"promote\",\"fetus\",\"listens\",\"routine\",\"tim\",\"franchises\",\"koichi\",\"uncannily\",\"relaxed\",\"numbers\",\"cole\",\"ana\",\"besotted\",\"hands\",\"unfinished\",\"julio\",\"polar\",\"genevieve\",\"seats\",\"agile\",\"olin\",\"barney\",\"swimsuit\",\"weirder\",\"reach\",\"dutifully\",\"tat\",\"proxy\",\"exuded\",\"rewatching\",\"visual\",\"diatribes\",\"antifascist\",\"embarassing\",\"unearthed\",\"alltoo\",\"severed\",\"fragile\",\"ted\",\"maintenance\",\"lorne\",\"marvelous\",\"waking\",\"taking\",\"noirish\",\"innate\",\"admirably\",\"launching\",\"horseback\",\"buckwheat\",\"brolin\",\"england\",\"shorts\",\"zombie\",\"pasteur\",\"nfl\",\"criticise\",\"calibur\",\"subtleties\",\"request\",\"snyder\",\"dreamcast\",\"arts\",\"augmented\",\"newsreel\",\"raquel\",\"transfixed\",\"marched\",\"sabato\",\"audacity\",\"intentionally\",\"rio\",\"drebin\",\"stu\",\"alain\",\"gunfire\",\"morland\",\"everybody\",\"homicide\",\"dictators\",\"sheryl\",\"affairs\",\"allegedly\",\"directorcowriter\",\"instincts\",\"bypassed\",\"oath\",\"smiled\",\"rolls\",\"codes\",\"ceylon\",\"sh\",\"exlover\",\"timers\",\"louder\",\"willpower\",\"priyanka\",\"eliza\",\"troubles\",\"waitress\",\"artemisia\",\"shaped\",\"supernatural\",\"sampling\",\"backup\",\"downplay\",\"fav\",\"sondheim\",\"mishaps\",\"tracy\",\"definitely\",\"family\",\"jefferson\",\"hesitated\",\"pretense\",\"mortal\",\"armour\",\"howls\",\"highsmith\",\"pretensions\",\"panoramas\",\"cancels\",\"funk\",\"revisionism\",\"coroner\",\"cheapen\",\"noting\",\"pitch\",\"starve\",\"lowbrow\",\"redneck\",\"eartha\",\"afoul\",\"recovered\",\"ealing\",\"assumption\",\"teja\",\"violated\",\"snobs\",\"cutouts\",\"discomforting\",\"daytoday\",\"reportedly\",\"rhyming\",\"enlightened\",\"sacred\",\"epic\",\"sending\",\"abhorrent\",\"nba\",\"entities\",\"poison\",\"pleasantville\",\"foppish\",\"stardom\",\"embittered\",\"noooo\",\"awe\",\"orient\",\"murphy\",\"favourably\",\"agenda\",\"quote\",\"reluctantly\",\"longtime\",\"acknowledged\",\"teeny\",\"fanfare\",\"trusts\",\"rupture\",\"andrews\",\"pranks\",\"braga\",\"mos\",\"tiein\",\"wave\",\"rocco\",\"multiethnic\",\"ike\",\"hellman\",\"horizon\",\"mink\",\"bundle\",\"scanning\",\"football\",\"burr\",\"samson\",\"strewn\",\"bernadette\",\"suspicions\",\"astrid\",\"angered\",\"barest\",\"investing\",\"illfitting\",\"achieves\",\"characterizations\",\"jeter\",\"conrad\",\"inflicting\",\"matthias\",\"holler\",\"upcoming\",\"huston\",\"waters\",\"theoretical\",\"traumas\",\"blatant\",\"ferland\",\"halfbrother\",\"wary\",\"weights\",\"phoned\",\"donut\",\"eckhart\",\"categorize\",\"favour\",\"executions\",\"evenings\",\"necklace\",\"apache\",\"differently\",\"twain\",\"interested\",\"ie\",\"montgomery\",\"irony\",\"practise\",\"charlize\",\"roundtree\",\"strange\",\"davidtz\",\"packs\",\"hills\",\"accessible\",\"secretary\",\"crossroads\",\"helping\",\"lurch\",\"eleven\",\"anne\",\"kiddie\",\"underrated\",\"dakota\",\"safran\",\"tee\",\"toaster\",\"coated\",\"arc\",\"alamo\",\"allegra\",\"harley\",\"apron\",\"story\",\"yak\",\"schwartz\",\"mcginley\",\"hunt\",\"contradicts\",\"cheesecake\",\"storylines\",\"escaped\",\"contradictions\",\"sadness\",\"swing\",\"recollection\",\"congresswoman\",\"forums\",\"idiocracy\",\"triton\",\"auto\",\"doctrine\",\"vignettes\",\"dempster\",\"yankee\",\"goofy\",\"jettisoned\",\"reclaim\",\"invents\",\"getaway\",\"square\",\"norris\",\"madly\",\"restore\",\"grable\",\"belonging\",\"sammi\",\"barbershop\",\"fly\",\"raccoon\",\"squadron\",\"anders\",\"messenger\",\"miriam\",\"martialarts\",\"lukewarm\",\"marsden\",\"winged\",\"lowrent\",\"poldi\",\"shoddiness\",\"mildred\",\"critical\",\"patterson\",\"duel\",\"airwolf\",\"copious\",\"vulcans\",\"griffiths\",\"weary\",\"apeman\",\"politics\",\"permitted\",\"sequal\",\"launched\",\"patently\",\"topping\",\"liability\",\"temporary\",\"plentiful\",\"breeds\",\"ends\",\"publisher\",\"lad\",\"danner\",\"trivialboring\",\"palette\",\"sofia\",\"defender\",\"animating\",\"squat\",\"women\",\"ps\",\"outfits\",\"bawling\",\"materialism\",\"intrude\",\"toyoda\",\"gimmicky\",\"folks\",\"barrel\",\"mega\",\"jumbled\",\"watch\",\"underplays\",\"nevertheless\",\"seems\",\"ambiguous\",\"sunset\",\"signifies\",\"inspirational\",\"nothing\",\"kira\",\"singular\",\"wigs\",\"spells\",\"unabashedly\",\"reincarnation\",\"shreds\",\"elaine\",\"lunar\",\"altogether\",\"confederate\",\"lq\",\"schubert\",\"abandoning\",\"meals\",\"swill\",\"stacy\",\"ghosts\",\"frankfurt\",\"mateo\",\"proper\",\"lithgow\",\"hapless\",\"sec\",\"aloof\",\"dragoon\",\"jenna\",\"enacted\",\"beatles\",\"cum\",\"tetsur\\u00f4\",\"adieu\",\"frown\",\"girl\",\"monitor\",\"else\",\"framing\",\"loft\",\"cest\",\"sol\",\"lynda\",\"pharaoh\",\"resorting\",\"hut\",\"catandmouse\",\"hepburn\",\"wincott\",\"bummer\",\"regan\",\"dis\",\"humphrey\",\"cora\",\"gutsy\",\"ceo\",\"mel\",\"wiz\",\"nb\",\"falcone\",\"rat\",\"rennie\",\"wreak\",\"media\",\"terrorising\",\"loosen\",\"abbey\",\"gold\",\"bordering\",\"principals\",\"historians\",\"kills\",\"saikano\",\"avoidable\",\"ego\",\"handling\",\"quartet\",\"brazilian\",\"expanded\",\"tentacle\",\"priceless\",\"hmmm\",\"bungalow\",\"jacksons\",\"trenton\",\"riddler\",\"diminishing\",\"lengthy\",\"fences\",\"sapir\",\"discouraged\",\"integrating\",\"exploiting\",\"ewan\",\"paragraph\",\"metaphors\",\"passivity\",\"righteous\",\"zombification\",\"likewise\",\"remembering\",\"mame\",\"dogtown\",\"bathroom\",\"resilient\",\"bbfc\",\"heading\",\"hillside\",\"personnel\",\"continually\",\"phase\",\"exams\",\"futuristic\",\"hulk\",\"stalker\",\"communicated\",\"yelnats\",\"pong\",\"irresistibly\",\"jeremiah\",\"overflowing\",\"mill\",\"crossover\",\"shtrafbat\",\"meena\",\"martian\",\"cabbage\",\"jolie\",\"pazu\",\"pm\",\"redeeming\",\"palminteri\",\"guarded\",\"hype\",\"singers\",\"chewed\",\"limited\",\"canyon\",\"offence\",\"humanity\",\"pickens\",\"bunch\",\"handyman\",\"risqu\\u00e9\",\"ballot\",\"lo\",\"teaches\",\"grasping\",\"frequently\",\"stretches\",\"pinkett\",\"rut\",\"keerthana\",\"typewriter\",\"berkley\",\"deneuve\",\"tmnt\",\"soccer\",\"tested\",\"example\",\"registers\",\"venerable\",\"top\",\"fade\",\"ore\",\"nervously\",\"venezuela\",\"mutant\",\"bassanio\",\"scene\",\"forgotten\",\"clowning\",\"oozing\",\"nellie\",\"stylings\",\"gettysburg\",\"cranking\",\"stinky\",\"stink\",\"suspicion\",\"alleviate\",\"faster\",\"prag\",\"idiotic\",\"throughout\",\"mighty\",\"heartbreakingly\",\"hi\",\"telekinetic\",\"prevented\",\"believably\",\"guarding\",\"sctv\",\"vietnam\",\"alphabet\",\"sabre\",\"viii\",\"gasoline\",\"bottoms\",\"chose\",\"teenagers\",\"awash\",\"molded\",\"florentine\",\"mystic\",\"backers\",\"demise\",\"creepily\",\"hmm\",\"comfort\",\"rapaport\",\"seducing\",\"overdrive\",\"merrygoround\",\"yul\",\"castaways\",\"afraid\",\"cane\",\"catcher\",\"hilary\",\"spiced\",\"exceptions\",\"bloodless\",\"players\",\"goodtimes\",\"cylons\",\"pestilence\",\"pal\",\"decent\",\"lucifer\",\"cnn\",\"cultures\",\"ekin\",\"schoolteacher\",\"womanizing\",\"chaplin\",\"plenty\",\"handbook\",\"khan\",\"maddy\",\"touring\",\"vinny\",\"choose\",\"improve\",\"frame\",\"sci\",\"udita\",\"carrere\",\"urgency\",\"izzard\",\"guardians\",\"cups\",\"fx\",\"picker\",\"wrongs\",\"nazi\",\"foch\",\"fing\",\"honour\",\"whiner\",\"follies\",\"supported\",\"classically\",\"visionaries\",\"rages\",\"texture\",\"ruehl\",\"lady\",\"tears\",\"fumbling\",\"happened\",\"spoke\",\"wet\",\"suburb\",\"nixon\",\"terrifyingly\",\"chabrol\",\"veronika\",\"snobbery\",\"shred\",\"equipment\",\"insomnia\",\"charmingly\",\"expedition\",\"shift\",\"burgundy\",\"whereby\",\"nell\",\"nausicaa\",\"favor\",\"binding\",\"asthmatic\",\"democrats\",\"martha\",\"notices\",\"swear\",\"yard\",\"marshall\",\"docile\",\"metamorphosis\",\"titan\",\"gigolo\",\"honourable\",\"fairuza\",\"percival\",\"component\",\"burned\",\"hoodlums\",\"whatsoever\",\"reads\",\"coined\",\"coven\",\"vampirism\",\"vessels\",\"snide\",\"klingon\",\"poisonous\",\"degenerated\",\"skunk\",\"vilified\",\"magoo\",\"realization\",\"functioning\",\"pitching\",\"arty\",\"chomsky\",\"tint\",\"likened\",\"probes\",\"chips\",\"legitimacy\",\"heartland\",\"horizons\",\"buffoonery\",\"brutal\",\"snow\",\"waldemar\",\"rollicking\",\"obligations\",\"devout\",\"suspecting\",\"fascinating\",\"toting\",\"poorly\",\"vip\",\"nonsensical\",\"propelled\",\"vadar\",\"matrix\",\"landa\",\"suburban\",\"cameramen\",\"invoked\",\"darvi\",\"missouri\",\"gundam\",\"disguised\",\"undefined\",\"organize\",\"tenor\",\"visionary\",\"thespian\",\"denying\",\"obrien\",\"godlike\",\"medieval\",\"helpfully\",\"dignity\",\"baths\",\"hustler\",\"weeks\",\"monument\",\"evocation\",\"hastily\",\"amelio\",\"implanted\",\"disliking\",\"newark\",\"diametrically\",\"part\",\"summertime\",\"camilla\",\"gerard\",\"cheers\",\"utilizes\",\"theater\",\"antiheroes\",\"steadfast\",\"propel\",\"circle\",\"dominion\",\"wyoming\",\"yun\",\"atypical\",\"lovejoy\",\"paperhouse\",\"easter\",\"bites\",\"wander\",\"durning\",\"justifying\",\"overthehill\",\"recovers\",\"provide\",\"marvellously\",\"whitey\",\"dishonest\",\"absence\",\"triggers\",\"lsd\",\"woolf\",\"grew\",\"harlan\",\"cub\",\"yale\",\"okeeffe\",\"abduction\",\"antwerp\",\"manufactured\",\"cathy\",\"entertaining\",\"trail\",\"leave\",\"visage\",\"sidekicks\",\"shyster\",\"protect\",\"alfonso\",\"somers\",\"psychedelic\",\"amants\",\"danny\",\"clinic\",\"itthe\",\"monologue\",\"provine\",\"ridden\",\"distribute\",\"lumet\",\"stanton\",\"saturation\",\"fraction\",\"dorky\",\"airhead\",\"tiff\",\"biopics\",\"prevail\",\"earthlings\",\"trinian\",\"selfpity\",\"fabrication\",\"chants\",\"frantic\",\"absolute\",\"reinventing\",\"conquered\",\"fat\",\"nailed\",\"wannabes\",\"detour\",\"goodlooking\",\"richly\",\"pathos\",\"laboured\",\"tries\",\"informer\",\"unforced\",\"baron\",\"sly\",\"individual\",\"facets\",\"treasure\",\"flush\",\"casualty\",\"marlow\",\"relegated\",\"steady\",\"wanders\",\"mantra\",\"scientific\",\"denis\",\"bravura\",\"hawk\",\"eddy\",\"domination\",\"dyke\",\"fandom\",\"screening\",\"purdom\",\"create\",\"reworked\",\"appointed\",\"pools\",\"cork\",\"spit\",\"shopkeeper\",\"saccharine\",\"root\",\"evp\",\"puzzle\",\"meiko\",\"backwater\",\"fabulous\",\"boasting\",\"fbi\",\"slows\",\"craziness\",\"juliet\",\"fatigue\",\"hitch\",\"cinderella\",\"dourif\",\"sophie\",\"adore\",\"vicinity\",\"implies\",\"radiator\",\"blades\",\"enhance\",\"games\",\"tales\",\"bhorror\",\"macleane\",\"radiant\",\"silva\",\"minuses\",\"dinos\",\"intimidating\",\"abraham\",\"hated\",\"twirling\",\"basically\",\"undermined\",\"dutcher\",\"respond\",\"woke\",\"storybook\",\"conan\",\"lynchian\",\"pappas\",\"godzilla\",\"crashes\",\"shaman\",\"popping\",\"peer\",\"borel\",\"batty\",\"dot\",\"lib\",\"biographical\",\"enzo\",\"seville\",\"sleaziness\",\"rob\",\"dimwit\",\"scissors\",\"november\",\"sitka\",\"randomly\",\"empathize\",\"macy\",\"underscores\",\"fitzgerald\",\"hippie\",\"sickening\",\"ny\",\"undercurrents\",\"engineer\",\"excused\",\"coffy\",\"stupidity\",\"insane\",\"annoying\",\"know\",\"brooklyn\",\"moodiness\",\"shawshank\",\"warbling\",\"merman\",\"reminding\",\"wardens\",\"warwick\",\"moustache\",\"favourite\",\"clones\",\"subjected\",\"kells\",\"cup\",\"rub\",\"cumming\",\"behaving\",\"feinstone\",\"periphery\",\"distractions\",\"dream\",\"runt\",\"budgetary\",\"treadwell\",\"bali\",\"brooding\",\"oyama\",\"fuse\",\"agren\",\"lands\",\"restless\",\"subtitles\",\"corporal\",\"birmingham\",\"crossword\",\"brightly\",\"bell\",\"misplaced\",\"browne\",\"biggie\",\"millionaire\",\"carlyle\",\"central\",\"translating\",\"thingy\",\"dandy\",\"subservient\",\"baring\",\"springwood\",\"macbeth\",\"boggy\",\"weiss\",\"parliament\",\"infuses\",\"lusting\",\"exemplifies\",\"mumbojumbo\",\"ronda\",\"yentl\",\"stroll\",\"texas\",\"buildup\",\"christy\",\"naivety\",\"ideologies\",\"rigoletto\",\"salad\",\"recruitment\",\"armin\",\"noonan\",\"juxtaposing\",\"tintin\",\"samurai\",\"stoolie\",\"druid\",\"rebane\",\"retrospective\",\"jewison\",\"protests\",\"laid\",\"boxes\",\"selina\",\"hooker\",\"skill\",\"simple\",\"math\",\"nielson\",\"flew\",\"bacteria\",\"invisibility\",\"geraldine\",\"instruct\",\"getup\",\"siege\",\"heartthrob\",\"jot\",\"paws\",\"tasks\",\"departing\",\"outfield\",\"embraces\",\"country\",\"indirect\",\"longs\",\"pubic\",\"ww\",\"nevada\",\"hardship\",\"auteuil\",\"outdoors\",\"flourishes\",\"bend\",\"volunteer\",\"stiff\",\"deaths\",\"edison\",\"hornblower\",\"pertwee\",\"sarandon\",\"riproaring\",\"swirling\",\"nocturnal\",\"aim\",\"insects\",\"organizations\",\"shoddily\",\"condemned\",\"medley\",\"wolverine\",\"culture\",\"voices\",\"psychiatric\",\"compares\",\"approximation\",\"supporter\",\"plank\",\"belies\",\"enjoyed\",\"blindingly\",\"doody\",\"animatronics\",\"reopened\",\"jurgen\",\"competently\",\"adorable\",\"untidy\",\"sato\",\"cache\",\"eisner\",\"doom\",\"heartbreaking\",\"recognizable\",\"patrons\",\"wellplaced\",\"incongruous\",\"strain\",\"straightfaced\",\"stuck\",\"hiring\",\"tomboyish\",\"terrorized\",\"frenchmen\",\"juicy\",\"storming\",\"inquiry\",\"bout\",\"chaser\",\"ghettos\",\"vibes\",\"illogical\",\"text\",\"fundamentalists\",\"markoff\",\"plans\",\"realism\",\"indulgent\",\"hiv\",\"cavemen\",\"willy\",\"toddler\",\"staggering\",\"cobwebs\",\"memorable\",\"panoramic\",\"abnormal\",\"tired\",\"illustrates\",\"workplace\",\"closeted\",\"heterosexual\",\"unspectacular\",\"accumulated\",\"intervenes\",\"ping\",\"boldly\",\"module\",\"strategies\",\"frequency\",\"mothers\",\"regardless\",\"relaxing\",\"mannen\",\"juarez\",\"elias\",\"xena\",\"concentrated\",\"goldsmith\",\"wringing\",\"idealist\",\"geeky\",\"reshoots\",\"shelves\",\"connery\",\"gossett\",\"namesake\",\"beijing\",\"neatly\",\"speculate\",\"moreover\",\"stitches\",\"yuzna\",\"south\",\"bouncer\",\"inn\",\"coot\",\"crummy\",\"insert\",\"auteurs\",\"clout\",\"incarnation\",\"zanuck\",\"photographer\",\"btk\",\"hallways\",\"festering\",\"pittsburgh\",\"shapes\",\"kat\",\"lacklustre\",\"flesheating\",\"peeing\",\"underappreciated\",\"hutton\",\"ongoing\",\"surfer\",\"machinegun\",\"freakish\",\"shepard\",\"darkest\",\"practice\",\"economics\",\"pullman\",\"harried\",\"tenement\",\"ripe\",\"course\",\"virtually\",\"interminably\",\"allusion\",\"haste\",\"nauseating\",\"branagh\",\"clap\",\"database\",\"strangler\",\"carradine\",\"cultured\",\"culkin\",\"temperamental\",\"dizzying\",\"heaven\",\"uneasy\",\"revelation\",\"deschanel\",\"pajamas\",\"uncompelling\",\"bankrupt\",\"labute\",\"aristocratic\",\"hickson\",\"transportation\",\"okeefe\",\"raf\",\"reused\",\"grunt\",\"rani\",\"society\",\"chad\",\"collect\",\"decisions\",\"cult\",\"composers\",\"laugh\",\"market\",\"comprehensive\",\"hongsheng\",\"ka\",\"ballsy\",\"pirates\",\"spilsbury\",\"louella\",\"heroics\",\"barthelmess\",\"nutbourne\",\"spreads\",\"elicit\",\"contractual\",\"friedkin\",\"culprit\",\"skippy\",\"transporter\",\"adolf\",\"legal\",\"unspeakable\",\"colony\",\"murdoch\",\"brothel\",\"tools\",\"talisman\",\"pieces\",\"cafe\",\"astounded\",\"lumbering\",\"substantive\",\"tomato\",\"lopez\",\"clich\\u00e9s\",\"winded\",\"aliens\",\"unfaithfulness\",\"cruddy\",\"batteries\",\"homer\",\"farming\",\"continental\",\"outcast\",\"lowell\",\"nerve\",\"representing\",\"kitten\",\"rotten\",\"cillian\",\"platitudes\",\"glamorized\",\"filmgoers\",\"malta\",\"captions\",\"venantini\",\"wretched\",\"barber\",\"scheider\",\"confides\",\"slowness\",\"staggers\",\"bottomline\",\"herr\",\"entertainments\",\"unimportant\",\"nanette\",\"wiley\",\"licence\",\"indication\",\"scully\",\"admirable\",\"lucid\",\"yadav\",\"dug\",\"plausible\",\"feathered\",\"leonora\",\"synthesis\",\"spacek\",\"embeth\",\"disclosed\",\"slacker\",\"presto\",\"hears\",\"awesome\",\"making\",\"awsome\",\"selfconfident\",\"heartwrenching\",\"evade\",\"foremost\",\"afterschool\",\"speck\",\"bile\",\"sporadic\",\"spine\",\"afternoons\",\"recipes\",\"enthralled\",\"scott\",\"foreigner\",\"ravings\",\"tantamount\",\"historical\",\"winning\",\"instructs\",\"interlude\",\"unneeded\",\"remarkably\",\"shipment\",\"feeble\",\"transforming\",\"asleep\",\"frechette\",\"renewed\",\"yearning\",\"mcadams\",\"jackal\",\"overdoing\",\"guillotine\",\"egocentric\",\"draft\",\"lounge\",\"pitches\",\"amplify\",\"adkins\",\"unexpected\",\"fought\",\"flicks\",\"firsthand\",\"icy\",\"slut\",\"mcbain\",\"bubblegum\",\"cheerleader\",\"claire\",\"forensic\",\"accept\",\"roommates\",\"thats\",\"normally\",\"sadler\",\"bloodsucking\",\"handed\",\"matteroffact\",\"freewheeling\",\"wipe\",\"jokingly\",\"ismael\",\"pryor\",\"simone\",\"stomps\",\"nomads\",\"roeper\",\"interracial\",\"skipped\",\"warmer\",\"pound\",\"apprentice\",\"sidesplitting\",\"humanistic\",\"decreased\",\"chivalry\",\"accusing\",\"radiate\",\"ishwar\",\"villainous\",\"missionaries\",\"imaginable\",\"commentary\",\"serialkiller\",\"deth\",\"thrashing\",\"history\",\"imo\",\"grinning\",\"avoids\",\"bids\",\"lovable\",\"charmless\",\"skywalker\",\"mercer\",\"detention\",\"warn\",\"clubbed\",\"rangoon\",\"int\",\"template\",\"chupacabra\",\"touted\",\"kaleidoscope\",\"telltale\",\"superstition\",\"mysterythriller\",\"humiliating\",\"underpinnings\",\"va\",\"ski\",\"virtue\",\"traps\",\"judged\",\"abby\",\"misuse\",\"uneven\",\"dagger\",\"meryl\",\"chucked\",\"smallest\",\"cuthbert\",\"rube\",\"tool\",\"ateam\",\"embryo\",\"gobble\",\"suited\",\"rtd\",\"aged\",\"broker\",\"jeanmarc\",\"sp\",\"cavorting\",\"zhao\",\"creaks\",\"lex\",\"bourvil\",\"groping\",\"arbitrary\",\"bette\",\"sensual\",\"relic\",\"protesting\",\"barres\",\"participation\",\"tunes\",\"lurk\",\"baz\",\"showings\",\"someplace\",\"grinds\",\"cardiff\",\"creeping\",\"migrant\",\"future\",\"spreading\",\"recent\",\"allowance\",\"highpriced\",\"tailor\",\"thrust\",\"barbeau\",\"faithfully\",\"rolle\",\"thomerson\",\"moritz\",\"inseparable\",\"hewitt\",\"jesse\",\"linger\",\"piercing\",\"cheetah\",\"travelling\",\"authors\",\"incest\",\"anguished\",\"shrieks\",\"letterman\",\"annoys\",\"spectrum\",\"bloodshed\",\"snorefest\",\"reformatory\",\"hackett\",\"comedies\",\"millionaires\",\"locking\",\"noire\",\"godard\",\"louisa\",\"cheney\",\"portly\",\"pork\",\"preventing\",\"alimony\",\"outofcontrol\",\"suit\",\"innocence\",\"miseenscene\",\"spaces\",\"invade\",\"zasu\",\"strip\",\"nobrainer\",\"landers\",\"sensed\",\"misanthropic\",\"demeanour\",\"articulate\",\"ouimet\",\"published\",\"tower\",\"kicked\",\"wheelchairbound\",\"rattlesnake\",\"blackmailer\",\"melancholic\",\"frewer\",\"speedman\",\"inner\",\"currents\",\"planted\",\"debt\",\"parsons\",\"shelf\",\"rhonda\",\"probability\",\"magnet\",\"rednecks\",\"housing\",\"lana\",\"archetypal\",\"locating\",\"spacey\",\"baffles\",\"curtains\",\"teacher\",\"impacted\",\"disagreed\",\"corbett\",\"kulkarni\",\"dispose\",\"starz\",\"laments\",\"tel\",\"erupting\",\"aloofness\",\"giraffe\",\"stain\",\"negotiation\",\"iam\",\"oranges\",\"usual\",\"granddaughter\",\"strayer\",\"creeped\",\"fourteen\",\"identity\",\"sung\",\"bmw\",\"shadows\",\"rrating\",\"romanticcomedy\",\"crazier\",\"subhuman\",\"saw\",\"needles\",\"swept\",\"northeast\",\"aneta\",\"sharp\",\"chuckie\",\"masala\",\"monarchy\",\"braff\",\"fa\",\"sexier\",\"svend\",\"cmon\",\"figuratively\",\"kgb\",\"spying\",\"carre\",\"gaffes\",\"hockey\",\"lyric\",\"grades\",\"realize\",\"creek\",\"stereotypical\",\"jacks\",\"wellmade\",\"moh\",\"soup\",\"reflective\",\"satisfactorily\",\"abigail\",\"vanish\",\"goodhearted\",\"imagination\",\"commie\",\"technologies\",\"pose\",\"captures\",\"represents\",\"reanimator\",\"overkill\",\"solutions\",\"cheating\",\"meeker\",\"kundera\",\"resumed\",\"marquis\",\"dislike\",\"remy\",\"clique\",\"nonexistant\",\"adrienne\",\"graham\",\"offerings\",\"atheists\",\"kunal\",\"cash\",\"backstage\",\"exceeds\",\"criminal\",\"tardis\",\"viking\",\"vainly\",\"infuriates\",\"cassavettes\",\"neonazi\",\"thrive\",\"walking\",\"unkempt\",\"laying\",\"depict\",\"dana\",\"librarians\",\"excessive\",\"soften\",\"talkative\",\"soar\",\"infects\",\"rajpal\",\"runofthemill\",\"appeared\",\"assisted\",\"deny\",\"tyra\",\"verbal\",\"inflections\",\"pitted\",\"smiley\",\"watermelon\",\"unpolished\",\"walt\",\"traditional\",\"canceled\",\"undue\",\"caught\",\"campus\",\"ahh\",\"ducks\",\"deposed\",\"campfire\",\"giallo\",\"pigeons\",\"noam\",\"execution\",\"flatness\",\"comfy\",\"accompanying\",\"undramatic\",\"childrens\",\"broken\",\"burke\",\"tabloid\",\"backwards\",\"ruled\",\"one\",\"rate\",\"flamenco\",\"phones\",\"brownrigg\",\"cooper\",\"given\",\"ave\",\"quatermass\",\"strait\",\"metaphorical\",\"bock\",\"fullblown\",\"bw\",\"succeed\",\"rash\",\"dahmer\",\"poehler\",\"ivanna\",\"polarized\",\"mustsee\",\"selfconfidence\",\"momentous\",\"storyteller\",\"arabic\",\"land\",\"tricks\",\"styles\",\"guild\",\"fishing\",\"undertones\",\"klara\",\"olga\",\"irreversible\",\"ray\",\"maggot\",\"chicago\",\"fleetingly\",\"revert\",\"madsen\",\"maligned\",\"renfield\",\"mines\",\"accountant\",\"smokes\",\"criminals\",\"awakening\",\"unfortunate\",\"keeler\",\"disparate\",\"recast\",\"express\",\"betrayal\",\"anachronism\",\"previous\",\"beetle\",\"jnr\",\"babs\",\"royston\",\"although\",\"wine\",\"appetites\",\"infant\",\"sony\",\"sliver\",\"ought\",\"brittle\",\"throbbing\",\"goodguy\",\"kutcher\",\"pyar\",\"noone\",\"starship\",\"mccann\",\"chelsea\",\"interns\",\"hank\",\"joaquin\",\"studied\",\"ia\",\"bewildering\",\"perpetuate\",\"carmilla\",\"shutting\",\"vouch\",\"hypnotize\",\"joyride\",\"accentuates\",\"irritating\",\"moreno\",\"horn\",\"rocked\",\"mr\",\"unsentimental\",\"talents\",\"remains\",\"transparent\",\"vibe\",\"detroit\",\"federation\",\"potente\",\"geishas\",\"cohn\",\"pastoral\",\"heretic\",\"malden\",\"meaningless\",\"outlets\",\"villians\",\"formulate\",\"vivah\",\"jacob\",\"concocted\",\"external\",\"lucinda\",\"cocktail\",\"hallam\",\"react\",\"purposes\",\"stupidly\",\"incredulity\",\"skelton\",\"seize\",\"bernhard\",\"mcbeal\",\"hungary\",\"merrill\",\"fresher\",\"germany\",\"enrico\",\"itch\",\"things\",\"prem\",\"doozy\",\"overzealous\",\"zucker\",\"forgetful\",\"sorts\",\"discernible\",\"dummy\",\"dialogs\",\"fingered\",\"duvivier\",\"henceforth\",\"overlapping\",\"sirens\",\"notions\",\"breasts\",\"objections\",\"briefcase\",\"snooping\",\"scandals\",\"carla\",\"castration\",\"wellchosen\",\"numbing\",\"secret\",\"sevenups\",\"boundaries\",\"comer\",\"scrubs\",\"matin\\u00e9e\",\"amused\",\"directorial\",\"impatiently\",\"bashed\",\"flowery\",\"cycle\",\"test\",\"deserved\",\"lock\",\"aura\",\"programmer\",\"shown\",\"sickened\",\"wounded\",\"boll\",\"increase\",\"mala\",\"coherently\",\"persuade\",\"purple\",\"weirdo\",\"excerpts\",\"cassidy\",\"bra\",\"publicized\",\"dreaded\",\"cochran\",\"crenna\",\"cold\",\"miserable\",\"mummy\",\"dropdead\",\"bowler\",\"wooing\",\"tramp\",\"intrigued\",\"sentences\",\"brujo\",\"skips\",\"coincidences\",\"tapdancing\",\"oldschool\",\"uncles\",\"debbie\",\"mansfield\",\"francine\",\"banana\",\"strapping\",\"stand\",\"sweep\",\"lynch\",\"outlandish\",\"anarchy\",\"fugitives\",\"tripod\",\"sensuous\",\"pedecaris\",\"restrained\",\"shoot\",\"calling\",\"barrett\",\"lotr\",\"void\",\"onion\",\"conform\",\"spell\",\"simmering\",\"sesame\",\"warhol\",\"eminently\",\"workings\",\"inexorable\",\"oscar\",\"hots\",\"elaborate\",\"fab\",\"curt\",\"versions\",\"angelic\",\"noriko\",\"victimized\",\"sequential\",\"testing\",\"thinker\",\"mazzello\",\"cravat\",\"kilter\",\"ishq\",\"earth\",\"snippets\",\"factotum\",\"mentioning\",\"slog\",\"cellar\",\"scotch\",\"monstrosity\",\"grot\",\"leaps\",\"explode\",\"imdbcom\",\"shutter\",\"farting\",\"trepidation\",\"nation\",\"cinematheque\",\"soulful\",\"stirs\",\"competence\",\"macmahon\",\"naturalistic\",\"blip\",\"dramatic\",\"neilsen\",\"eloquence\",\"cleaver\",\"refugees\",\"siegel\",\"cashed\",\"fortunes\",\"characterdriven\",\"overlooks\",\"snooze\",\"cp\",\"amanda\",\"disabled\",\"indignation\",\"geeks\",\"courageous\",\"abhishek\",\"occurs\",\"ozzy\",\"forbidden\",\"squire\",\"come\",\"apologetic\",\"manos\",\"orca\",\"exploration\",\"finer\",\"wholly\",\"rocky\",\"vermin\",\"roddy\",\"vibrancy\",\"guerrilla\",\"tab\",\"bone\",\"motherinlaw\",\"giggles\",\"help\",\"understands\",\"disservice\",\"unwashed\",\"cornfield\",\"dominates\",\"leland\",\"goring\",\"wuhl\",\"bullitt\",\"protestant\",\"inhumanity\",\"dismally\",\"stops\",\"sayer\",\"visitors\",\"gabe\",\"dues\",\"rerun\",\"peewee\",\"plus\",\"reubens\",\"nonthreatening\",\"regularly\",\"interruptions\",\"squeamish\",\"darkness\",\"fantastically\",\"isamar\",\"strong\",\"struggling\",\"phoolan\",\"dave\",\"fluff\",\"unveiling\",\"psychopaths\",\"exudes\",\"yasuko\",\"alarmingly\",\"cutest\",\"sumi\",\"selfindulgence\",\"bloodlust\",\"workable\",\"hearse\",\"policeman\",\"popular\",\"missing\",\"bail\",\"dynasty\",\"distributors\",\"macarthur\",\"resembling\",\"recurrent\",\"prospective\",\"kaylee\",\"oddballs\",\"franciscus\",\"distinctively\",\"strangeness\",\"reservations\",\"faculties\",\"roguish\",\"trojan\",\"crews\",\"mausoleum\",\"milo\",\"offensively\",\"implant\",\"coolly\",\"departure\",\"cato\",\"cheryl\",\"angles\",\"seen\",\"prot\\u00e9g\\u00e9\",\"sydow\",\"incompetent\",\"obnoxious\",\"lampooned\",\"backdrop\",\"together\",\"rohmer\",\"peggy\",\"daan\",\"dimensional\",\"naive\",\"describing\",\"swat\",\"jung\",\"bar\",\"downright\",\"synch\",\"hitching\",\"infused\",\"samuels\",\"neighbors\",\"sorely\",\"asked\",\"spree\",\"jp\",\"pbs\",\"reimagining\",\"mandarin\",\"ordering\",\"scenarios\",\"matthau\",\"recycle\",\"guantanamo\",\"screened\",\"parrot\",\"dragonfly\",\"flashing\",\"actionadventure\",\"wines\",\"avpr\",\"skirts\",\"puppies\",\"donkey\",\"raines\",\"residing\",\"infested\",\"odyssey\",\"arises\",\"asinine\",\"blackwater\",\"kungfu\",\"barricade\",\"turntable\",\"arlington\",\"preposterous\",\"hinges\",\"sibling\",\"kazuo\",\"kristofferson\",\"backside\",\"fez\",\"rolfe\",\"brighten\",\"yuksu\",\"treason\",\"englishman\",\"actuality\",\"wring\",\"gosh\",\"absorbs\",\"pursuit\",\"contra\",\"apart\",\"crimes\",\"eduardo\",\"inexpressive\",\"tatum\",\"richness\",\"crises\",\"stodgy\",\"bermuda\",\"putdown\",\"disastrous\",\"fastpaced\",\"picky\",\"brightness\",\"seuss\",\"forgives\",\"incarnate\",\"zucco\",\"novelist\",\"gary\",\"japanese\",\"tackedon\",\"bowing\",\"deborah\",\"transvestites\",\"dostoyevsky\",\"duran\",\"sillier\",\"untimely\",\"cowboys\",\"mon\",\"pacifist\",\"homosexuals\",\"allaround\",\"culminates\",\"dieing\",\"discussion\",\"lieutenant\",\"breach\",\"scavenger\",\"plaid\",\"nouvelle\",\"reece\",\"inefficient\",\"democrat\",\"pollution\",\"id\",\"subject\",\"slam\",\"owning\",\"bubbling\",\"helm\",\"bottles\",\"afterwards\",\"enchanted\",\"trisha\",\"blackie\",\"convincing\",\"situation\",\"response\",\"krabb\\u00e9\",\"posse\",\"unbeatable\",\"scantily\",\"tristan\",\"shenanigans\",\"hunter\",\"succumb\",\"bass\",\"assassination\",\"atlas\",\"rules\",\"incidentally\",\"suffering\",\"sera\",\"ref\",\"monsters\",\"shooters\",\"bantering\",\"carmichael\",\"rehashes\",\"mornings\",\"dudes\",\"venezia\",\"temptation\",\"narnia\",\"labeled\",\"miner\",\"realised\",\"wastes\",\"convictions\",\"cantankerous\",\"rodgers\",\"desiring\",\"zp\",\"expressions\",\"many\",\"throwing\",\"kincaid\",\"authentically\",\"ewww\",\"unseen\",\"beg\",\"pivotal\",\"fathers\",\"shove\",\"jokey\",\"luminaries\",\"glossy\",\"fiercely\",\"missy\",\"kmart\",\"natali\",\"happier\",\"delete\",\"outcasts\",\"coleman\",\"truer\",\"mermaid\",\"dialects\",\"overplay\",\"greenstreet\",\"climaxes\",\"unravels\",\"christie\",\"passed\",\"referring\",\"meadow\",\"filmi\",\"wallach\",\"lenny\",\"golan\",\"druginduced\",\"degraded\",\"diving\",\"cricket\",\"syrup\",\"overt\",\"token\",\"surrealistic\",\"relying\",\"edgeoftheseat\",\"chemicals\",\"starters\",\"council\",\"specialty\",\"whit\",\"smoker\",\"right\",\"aims\",\"couldnt\",\"variation\",\"foreshadowed\",\"terminal\",\"theatrically\",\"whats\",\"syrupy\",\"flurry\",\"stations\",\"invited\",\"rehab\",\"shrug\",\"morphing\",\"benjamin\",\"indifference\",\"wuthering\",\"conversation\",\"staggeringly\",\"plucky\",\"crisis\",\"supposedly\",\"peripheral\",\"idea\",\"nri\",\"resurrected\",\"fondly\",\"strains\",\"drinking\",\"blocks\",\"cases\",\"marked\",\"indescribable\",\"dracula\",\"fantasies\",\"overproduced\",\"visions\",\"karisma\",\"loudly\",\"dread\",\"femininity\",\"marcello\",\"campy\",\"brainless\",\"vegas\",\"lovably\",\"nordic\",\"wages\",\"brisson\",\"looney\",\"degenerate\",\"aldrich\",\"vain\",\"cetera\",\"rabbits\",\"bischoff\",\"kinski\",\"imagined\",\"correspondence\",\"detractors\",\"smokers\",\"clever\",\"subtitled\",\"complained\",\"pakistan\",\"rome\",\"triumphant\",\"aslan\",\"miscast\",\"kovacs\",\"gain\",\"kingpin\",\"signifying\",\"improves\",\"intruder\",\"amalgamation\",\"macchio\",\"caucasian\",\"promotion\",\"jackets\",\"exhusband\",\"moustaches\",\"money\",\"sells\",\"clonus\",\"djs\",\"religions\",\"regrets\",\"unwavering\",\"lag\",\"exotic\",\"larson\",\"nationwide\",\"vanna\",\"fulfilling\",\"successes\",\"newbie\",\"creepers\",\"titled\",\"obsession\",\"levels\",\"gerrit\",\"anticommunist\",\"rosalie\",\"lowdown\",\"eureka\",\"radically\",\"zeke\",\"intonation\",\"woodward\",\"meets\",\"inhabitant\",\"dvdr\",\"dueling\",\"cures\",\"humanoids\",\"chauvinist\",\"afternoon\",\"doyeon\",\"chaste\",\"battling\",\"mcconaughey\",\"katey\",\"lovett\",\"fireball\",\"dishwater\",\"reveals\",\"comforting\",\"keith\",\"manned\",\"autopilot\",\"theo\",\"bronze\",\"suggesting\",\"dutiful\",\"loops\",\"hardboiled\",\"findings\",\"groundbreaking\",\"impressionistic\",\"majors\",\"hardy\",\"awoke\",\"claw\",\"pere\",\"antena\",\"zombielike\",\"martinez\",\"mussolini\",\"mush\",\"adonijah\",\"owls\",\"wannabe\",\"affiliate\",\"monotone\",\"saturn\",\"craps\",\"infantile\",\"poop\",\"merrick\",\"undertone\",\"staggered\",\"airliner\",\"betcha\",\"onebyone\",\"responds\",\"badmovie\",\"kung\",\"raises\",\"moonshine\",\"familyfriendly\",\"dramedy\",\"pryce\",\"tenney\",\"geoffrey\",\"degrading\",\"discredited\",\"tora\",\"parasites\",\"handful\",\"spoton\",\"hysterical\",\"enormous\",\"mario\",\"grenades\",\"saturday\",\"hastings\",\"transplant\",\"tweak\",\"characterized\",\"narrator\",\"nowhere\",\"sepia\",\"vintage\",\"directed\",\"interpersonal\",\"rabbit\",\"pratt\",\"repulsive\",\"wouldbe\",\"fairy\",\"impulse\",\"synthesizer\",\"goebbels\",\"concussion\",\"spirituality\",\"bernstein\",\"purchased\",\"salman\",\"ballerina\",\"smugness\",\"fragment\",\"endgame\",\"infamy\",\"recommending\",\"hound\",\"mundae\",\"penance\",\"straightheads\",\"metaphor\",\"crusher\",\"squalid\",\"prosaic\",\"lavish\",\"ott\",\"comers\",\"prescribed\",\"merle\",\"tuesday\",\"considered\",\"stroker\",\"serial\",\"fuckland\",\"shrugs\",\"gilles\",\"weakens\",\"dribble\",\"toy\",\"liberal\",\"rattled\",\"toulon\",\"pleads\",\"artful\",\"recognizes\",\"asking\",\"cuddle\",\"watched\",\"switched\",\"driftwood\",\"ark\",\"becoming\",\"whacky\",\"hermann\",\"jacket\",\"checklist\",\"purely\",\"signal\",\"selfinvolved\",\"congrats\",\"hypnotized\",\"processing\",\"gordonlevitt\",\"regains\",\"dying\",\"internet\",\"tanker\",\"esther\",\"demonstrates\",\"mikes\",\"furry\",\"chaos\",\"selfsacrifice\",\"stepping\",\"swamps\",\"bickford\",\"heflin\",\"evoking\",\"jannings\",\"tubbs\",\"concepts\",\"awarded\",\"briggs\",\"uncertainty\",\"ilona\",\"mosquito\",\"addy\",\"miyagi\",\"prelude\",\"surrender\",\"tickle\",\"cackling\",\"burrowing\",\"function\",\"knight\",\"heroine\",\"filmic\",\"fame\",\"borne\",\"cajun\",\"rufus\",\"stimulates\",\"snoring\",\"cushing\",\"beller\",\"brotherly\",\"bikes\",\"maverick\",\"marbles\",\"feck\",\"spray\",\"ko\",\"matured\",\"pier\",\"shouting\",\"thicker\",\"woos\",\"redo\",\"client\",\"hides\",\"ample\",\"nearest\",\"saddened\",\"finished\",\"craggy\",\"orchid\",\"ishii\",\"bevy\",\"astonishingly\",\"grizzly\",\"scenery\",\"dude\",\"zemeckis\",\"analogy\",\"empire\",\"visualization\",\"climatic\",\"globetrotting\",\"bludgeon\",\"proceeding\",\"rooms\",\"wrestling\",\"nichole\",\"iliad\",\"weaves\",\"damage\",\"equipped\",\"stitzer\",\"accusations\",\"duller\",\"corners\",\"fest\",\"eisenstein\",\"deceptive\",\"cringeworthy\",\"episodic\",\"commands\",\"plutonium\",\"repetitious\",\"gut\",\"granny\",\"usher\",\"architectural\",\"bouzaglo\",\"brawls\",\"oz\",\"unconditional\",\"goings\",\"massacred\",\"sharks\",\"sj\\u00f6str\\u00f6m\",\"gathered\",\"separated\",\"aniston\",\"silenced\",\"spiraling\",\"blanks\",\"complacency\",\"chain\",\"whistler\",\"reconstructed\",\"truth\",\"rosenberg\",\"edwardian\",\"misunderstanding\",\"manipulator\",\"sondra\",\"linda\",\"degrades\",\"teeth\",\"mimicking\",\"magnificently\",\"sad\",\"lamour\",\"grouch\",\"pataki\",\"carr\\u00e8re\",\"america\",\"ashton\",\"masterwork\",\"choi\",\"steveo\",\"renfro\",\"underwear\",\"servais\",\"swapping\",\"ethel\",\"slide\",\"stocked\",\"communists\",\"cyber\",\"rounded\",\"apparitions\",\"hind\",\"recommends\",\"vividly\",\"fane\",\"headaches\",\"beheaded\",\"dmitri\",\"weeping\",\"theodore\",\"ostensibly\",\"thiessen\",\"wallace\",\"crown\",\"telepathic\",\"fashionable\",\"hitandrun\",\"jason\",\"clashing\",\"feresten\",\"envisioned\",\"demon\",\"accompany\",\"fencing\",\"omalley\",\"thrift\",\"wide\",\"influential\",\"morons\",\"aristocats\",\"vice\",\"devolve\",\"inserts\",\"powerfully\",\"sparkle\",\"settled\",\"cliche\",\"spite\",\"cloning\",\"supplying\",\"effectively\",\"type\",\"maids\",\"joins\",\"hatred\",\"entries\",\"establish\",\"franco\",\"colorized\",\"silicone\",\"lit\",\"jcvd\",\"circus\",\"pooh\",\"loony\",\"precarious\",\"furnace\",\"company\",\"drinker\",\"melody\",\"melissa\",\"mil\",\"preproduction\",\"expectation\",\"vito\",\"composite\",\"developers\",\"virginity\",\"edwards\",\"featurelength\",\"feast\",\"cancelled\",\"passenger\",\"wrestlers\",\"threats\",\"fraser\",\"rails\",\"parents\",\"maryland\",\"stained\",\"cooks\",\"since\",\"dubliners\",\"haggis\",\"haphazardly\",\"wally\",\"london\",\"billing\",\"dam\",\"bridges\",\"zealous\",\"essence\",\"harmony\",\"phantom\",\"veering\",\"dough\",\"execute\",\"crockett\",\"commented\",\"illuminating\",\"humans\",\"albright\",\"misleading\",\"landau\",\"exposed\",\"madison\",\"spiritually\",\"tongues\",\"wellsuited\",\"showgirl\",\"ugliest\",\"unsettled\",\"excellence\",\"flaw\",\"repelled\",\"liotta\",\"sounds\",\"madcap\",\"bel\",\"aspire\",\"amputated\",\"archenemy\",\"sensuality\",\"outdone\",\"admiration\",\"brokeback\",\"identifiable\",\"threeway\",\"cure\",\"solidly\",\"davies\",\"filtered\",\"impersonating\",\"contemporaries\",\"depended\",\"return\",\"packages\",\"hulce\",\"uhf\",\"behaviors\",\"frida\",\"jeon\",\"isabelle\",\"disrobe\",\"excitement\",\"foreign\",\"judaism\",\"obtain\",\"assignment\",\"loan\",\"disappeared\",\"whites\",\"christensen\",\"inexplicable\",\"durante\",\"lenz\",\"interfering\",\"indelible\",\"underestimated\",\"belly\",\"milano\",\"cigarette\",\"softporn\",\"oven\",\"krumholtz\",\"splendored\",\"cameraman\",\"fianc\\u00e9e\",\"scathing\",\"divine\",\"consultant\",\"reconciled\",\"clutch\",\"diverse\",\"circles\",\"virgil\",\"tongueincheek\",\"wedding\",\"rothrock\",\"payoff\",\"trade\",\"baba\",\"precise\",\"botched\",\"persists\",\"trim\",\"develop\",\"skater\",\"walton\",\"maintains\",\"adhere\",\"lion\",\"gran\",\"purge\",\"hosseini\",\"partial\",\"grotesque\",\"rating\",\"adaptation\",\"howling\",\"nicknamed\",\"ness\",\"envy\",\"abounds\",\"realistic\",\"lightness\",\"scrapped\",\"puts\",\"explaining\",\"stew\",\"resistant\",\"jost\",\"jasper\",\"unapologetically\",\"stint\",\"tooth\",\"tedious\",\"interactions\",\"jourdan\",\"downtoearth\",\"renamed\",\"mortensen\",\"implication\",\"vanished\",\"pluck\",\"tin\",\"stott\",\"kill\",\"inventor\",\"amick\",\"rereleased\",\"bragging\",\"ciaran\",\"save\",\"cheesier\",\"edelman\",\"bank\",\"raising\",\"mancuso\",\"donovan\",\"romcom\",\"replied\",\"physicists\",\"edgy\",\"indescribably\",\"youre\",\"embracing\",\"spinal\",\"dearly\",\"bennett\",\"divorcing\",\"combine\",\"jap\",\"transforms\",\"elegantly\",\"tr\",\"jones\",\"platter\",\"lurches\",\"khanna\",\"goddard\",\"renaissance\",\"perished\",\"meditative\",\"alpha\",\"scarecrows\",\"looser\",\"opted\",\"em\",\"tm\",\"elected\",\"cardboard\",\"relay\",\"hear\",\"unfolds\",\"hector\",\"pinky\",\"emma\",\"painfully\",\"message\",\"abominations\",\"yvaine\",\"satire\",\"fetisov\",\"semi\",\"griffin\",\"vigilante\",\"beheading\",\"flocked\",\"unsurpassed\",\"squeezing\",\"deplorable\",\"allotted\",\"swipe\",\"besson\",\"erased\",\"gradually\",\"debonair\",\"youknowwhat\",\"holly\",\"diet\",\"spades\",\"gimmicks\",\"momentum\",\"banished\",\"conviction\",\"respectively\",\"puzo\",\"tidbits\",\"confirms\",\"comedy\",\"viola\",\"wei\",\"entirely\",\"fight\",\"earrings\",\"shiver\",\"ladd\",\"wafer\",\"care\",\"runner\",\"rampant\",\"trumpet\",\"mayne\",\"milligan\",\"lies\",\"dumbest\",\"leaud\",\"inane\",\"generational\",\"protagonists\",\"kara\",\"besides\",\"reptile\",\"underside\",\"larenz\",\"exhibition\",\"alltime\",\"cabin\",\"mistake\",\"mojo\",\"masterpieces\",\"vienna\",\"barrymore\",\"motive\",\"reluctant\",\"sustain\",\"spotty\",\"medallion\",\"folded\",\"societal\",\"vengeful\",\"pov\",\"proving\",\"assure\",\"rarer\",\"glorifies\",\"gilbert\",\"caricature\",\"compensated\",\"mesmerized\",\"condie\",\"expectant\",\"adjust\",\"washing\",\"curiously\",\"connors\",\"bogdanovich\",\"laziness\",\"antifreeze\",\"beans\",\"applause\",\"dw\",\"ounce\",\"bronx\",\"fontaine\",\"abbie\",\"phallic\",\"henny\",\"duffell\",\"directtovideo\",\"superior\",\"shouted\",\"cuff\",\"overrated\",\"omg\",\"fits\",\"janssen\",\"scowls\",\"materialize\",\"wrinkles\",\"cannibals\",\"dreaming\",\"baffled\",\"technologically\",\"langella\",\"diy\",\"hmmmm\",\"flashlights\",\"suits\",\"format\",\"mar\",\"hugh\",\"lurks\",\"uppermiddle\",\"impotence\",\"eglantine\",\"stallone\",\"aur\",\"sabers\",\"quotable\",\"merely\",\"shootouts\",\"erase\",\"rectify\",\"unprofessional\",\"suite\",\"shamed\",\"sampedro\",\"disorders\",\"resents\",\"addition\",\"intently\",\"hat\",\"maniacally\",\"tone\",\"scumbags\",\"slicker\",\"bogie\",\"legally\",\"episode\",\"trooper\",\"softcore\",\"hess\",\"cartoonist\",\"oversaw\",\"bluntly\",\"meagre\",\"rushes\",\"picturesque\",\"overton\",\"policemen\",\"carpenter\",\"j\\u00fcrgen\",\"leaked\",\"holland\",\"blessings\",\"repo\",\"underwood\",\"bugging\",\"advantage\",\"cubans\",\"wondering\",\"respectability\",\"trainspotting\",\"factors\",\"pointers\",\"lawman\",\"angela\",\"ans\",\"hyperbole\",\"emphasizes\",\"outrun\",\"brits\",\"publish\",\"summons\",\"bodycount\",\"buyer\",\"named\",\"sacrilegious\",\"polluted\",\"addictions\",\"meg\",\"adam\",\"neri\",\"truely\",\"rapists\",\"telegraph\",\"recognizing\",\"laura\",\"liz\",\"pinned\",\"felon\",\"hanging\",\"zeta\",\"sykes\",\"bro\",\"hunger\",\"blurry\",\"dun\",\"redundancy\",\"vogel\",\"prized\",\"sandals\",\"homes\",\"vacations\",\"stun\",\"lonesome\",\"hahahaha\",\"inaccessible\",\"maynard\",\"sage\",\"willies\",\"revelations\",\"armies\",\"goldeneye\",\"engulfed\",\"felix\",\"unity\",\"pushing\",\"judicial\",\"criteria\",\"brenda\",\"buns\",\"paroled\",\"modelling\",\"either\",\"descends\",\"yash\",\"lineup\",\"hartman\",\"basterds\",\"gullible\",\"disrupts\",\"roofs\",\"dola\",\"permit\",\"elsewhere\",\"vortex\",\"experimenting\",\"possibility\",\"assertion\",\"capulet\",\"winona\",\"bald\",\"pigs\",\"darryl\",\"priest\",\"hurley\",\"superman\",\"burst\",\"dropped\",\"spectacularly\",\"lem\",\"unlucky\",\"tree\",\"jodorowsky\",\"hillbilly\",\"neanderthal\",\"warlock\",\"bleep\",\"animation\",\"rene\",\"mark\",\"letter\",\"reflections\",\"setback\",\"resulting\",\"wendy\",\"christians\",\"danube\",\"nevsky\",\"archaeologists\",\"butterflies\",\"polyester\",\"pregnancy\",\"cameo\",\"axe\",\"shakes\",\"assaulting\",\"jouvet\",\"focal\",\"aquatic\",\"prudish\",\"oak\",\"peddler\",\"swords\",\"viewpoints\",\"allegations\",\"takeshi\",\"marcy\",\"dwindling\",\"lie\",\"decarlo\",\"horner\",\"differed\",\"poking\",\"casket\",\"sagemiller\",\"remorse\",\"attracted\",\"welding\",\"heroin\",\"believeable\",\"humanist\",\"antwone\",\"ado\",\"barclay\",\"understated\",\"engrossed\",\"phew\",\"cocoon\",\"punjabi\",\"katja\",\"stuntman\",\"changeling\",\"strike\",\"noroi\",\"curves\",\"chang\",\"stir\",\"snob\",\"middleaged\",\"revealed\",\"boman\",\"inaudible\",\"according\",\"influencing\",\"shakti\",\"mac\",\"roped\",\"connotations\",\"sacked\",\"cancer\",\"annals\",\"licensed\",\"screentime\",\"workmanlike\",\"slip\",\"moves\",\"renders\",\"shinji\",\"maniacs\",\"oppressors\",\"mclaglen\",\"believable\",\"unrelated\",\"ranking\",\"cruiser\",\"marienbad\",\"morals\",\"shi\",\"gent\",\"cowboy\",\"gates\",\"yet\",\"confrontational\",\"cities\",\"degradation\",\"rowlands\",\"witching\",\"deconstructing\",\"whenever\",\"connelly\",\"popped\",\"druids\",\"camps\",\"profiles\",\"magnitude\",\"fave\",\"tas\",\"enticing\",\"wicked\",\"flatly\",\"mobility\",\"pay\",\"sheltered\",\"joanna\",\"margo\",\"sheldon\",\"kahn\",\"email\",\"cheesiest\",\"conceptually\",\"censors\",\"concur\",\"wrench\",\"paradiso\",\"comet\",\"humanoid\",\"jaunty\",\"jellyfish\",\"lobotomy\",\"killian\",\"knowles\",\"baisemoi\",\"harmon\",\"surly\",\"tangle\",\"sicilian\",\"cringed\",\"hauer\",\"tables\",\"assurance\",\"impressively\",\"jess\",\"razorsharp\",\"somethings\",\"armchair\",\"micheal\",\"ton\",\"abstract\",\"winfield\",\"doublecross\",\"digging\",\"frye\",\"spends\",\"traits\",\"evaluation\",\"misogynist\",\"prostitutes\",\"mannerisms\",\"crybaby\",\"gene\",\"beneficial\",\"chung\",\"buffoon\",\"marlee\",\"sarne\",\"ingeniously\",\"poem\",\"cahoots\",\"barb\",\"snails\",\"drifters\",\"arid\",\"potty\",\"tang\",\"thee\",\"destiny\",\"defenses\",\"crops\",\"temptress\",\"recur\",\"milquetoast\",\"ravens\",\"relationships\",\"flagging\",\"tar\",\"eyesight\",\"hijack\",\"zuniga\",\"talespin\",\"khalid\",\"chief\",\"acquaintance\",\"statues\",\"official\",\"slug\",\"credentials\",\"civilian\",\"compared\",\"selfrighteous\",\"rock\",\"koteas\",\"gunplay\",\"guitarist\",\"prosperity\",\"peaked\",\"reappearance\",\"national\",\"voss\",\"grandmother\",\"palms\",\"beginner\",\"kites\",\"raised\",\"dock\",\"genx\",\"fries\",\"suitcase\",\"jerk\",\"aaron\",\"whalley\",\"curio\",\"ibm\",\"sting\",\"plumbing\",\"height\",\"isles\",\"shock\",\"considerate\",\"interests\",\"mess\",\"hating\",\"gas\",\"hypothetical\",\"hiphop\",\"spain\",\"oneofakind\",\"petula\",\"dwight\",\"cookiecutter\",\"tempest\",\"advertisement\",\"bikers\",\"saps\",\"elite\",\"highlighting\",\"soderbergh\",\"wise\",\"horus\",\"schlocky\",\"orthodox\",\"feathers\",\"havent\",\"voight\",\"squeals\",\"imprisoned\",\"bewitching\",\"joslyn\",\"moonraker\",\"carts\",\"conceit\",\"freddy\",\"holm\",\"mentioned\",\"regional\",\"templar\",\"undermines\",\"dumped\",\"shot\",\"alluring\",\"devours\",\"harmonious\",\"welldeveloped\",\"bacio\",\"dermot\",\"celebratory\",\"initially\",\"seasonal\",\"didactic\",\"cruz\",\"morgue\",\"discern\",\"dirk\",\"tribulations\",\"impulsive\",\"ascension\",\"blowhard\",\"intellectuals\",\"helplessly\",\"hypocrisy\",\"grins\",\"concoct\",\"stays\",\"conscientious\",\"mostel\",\"angie\",\"main\",\"chic\",\"lakes\",\"breathtaking\",\"lyricist\",\"dripping\",\"game\",\"braveheart\",\"clemens\",\"walter\",\"uwe\",\"cheadle\",\"sinners\",\"fastforward\",\"contracted\",\"recover\",\"sonia\",\"platonic\",\"basinger\",\"spooks\",\"proposed\",\"furlong\",\"narcissism\",\"bb\",\"thesiger\",\"kiran\",\"productive\",\"formats\",\"trolls\",\"simmons\",\"bus\",\"zhu\",\"balloons\",\"denver\",\"maclaine\",\"dench\",\"hohl\",\"shanks\",\"inger\",\"deceased\",\"rest\",\"wallowing\",\"selznick\",\"guided\",\"handicap\",\"fps\",\"speaks\",\"das\",\"golino\",\"fests\",\"embarking\",\"xbox\",\"linden\",\"kindergarten\",\"storyline\",\"reproduced\",\"mayall\",\"definately\",\"longoria\",\"inhabits\",\"caleb\",\"cultists\",\"perpetrator\",\"demands\",\"description\",\"martine\",\"magic\",\"bitten\",\"extending\",\"slipshod\",\"melodramas\",\"jacobs\",\"cannibalistic\",\"leak\",\"individuality\",\"indie\",\"improbable\",\"duress\",\"qualified\",\"flatout\",\"erotica\",\"bracelet\",\"fatale\",\"monks\",\"boothe\",\"inherit\",\"bloodsoaked\",\"properties\",\"dissolving\",\"standin\",\"ic\",\"surroundings\",\"bark\",\"penning\",\"yahoo\",\"derail\",\"suyeon\",\"brideshead\",\"chokes\",\"murdered\",\"yugoslav\",\"transcendental\",\"applauds\",\"cassio\",\"pasolini\",\"prodigious\",\"builder\",\"feckless\",\"brutus\",\"lieu\",\"copies\",\"menacing\",\"sadly\",\"delighted\",\"cranes\",\"strangled\",\"overgrown\",\"behalf\",\"raucous\",\"nightly\",\"acres\",\"ephemeral\",\"hhh\",\"horemheb\",\"bullshit\",\"hammers\",\"discerning\",\"ecology\",\"gould\",\"landowner\",\"viewing\",\"wellknown\",\"installments\",\"government\",\"extramarital\",\"betrays\",\"casio\",\"wizardry\",\"anybody\",\"historically\",\"gently\",\"bladerunner\",\"afar\",\"vocal\",\"fword\",\"haynes\",\"letdown\",\"cousins\",\"lift\",\"russel\",\"tasty\",\"eod\",\"costly\",\"greer\",\"tremaine\",\"christophe\",\"rooster\",\"jasmine\",\"spanky\",\"wonderment\",\"filter\",\"snl\",\"selfparody\",\"mutiny\",\"una\",\"painstaking\",\"missus\",\"koolaid\",\"amar\",\"elijah\",\"creasy\",\"adverse\",\"tibetan\",\"flint\",\"parisian\",\"rave\",\"anderson\",\"wade\",\"bounced\",\"potion\",\"profusely\",\"resurfaced\",\"sanders\",\"building\",\"contingent\",\"londoners\",\"recognisable\",\"carries\",\"stacey\",\"decked\",\"hydraulic\",\"entitled\",\"leaking\",\"jonas\",\"relish\",\"northwest\",\"cavern\",\"minton\",\"sexes\",\"uncontrollable\",\"notoriety\",\"riotous\",\"pendulum\",\"uphill\",\"tackle\",\"hamming\",\"tugs\",\"detail\",\"rewrite\",\"burying\",\"impersonators\",\"sneers\",\"wynorski\",\"suicide\",\"abominable\",\"mistakenly\",\"tasked\",\"sensible\",\"plumber\",\"westerner\",\"ryder\",\"supper\",\"value\",\"drawing\",\"clair\",\"withdraw\",\"egotistical\",\"cleaners\",\"natalia\",\"sa\",\"splattering\",\"ether\",\"casino\",\"earnestly\",\"lords\",\"controversial\",\"ooze\",\"absolutely\",\"eliminating\",\"moviemaking\",\"temperament\",\"fishoutofwater\",\"nights\",\"acutely\",\"casa\",\"boxing\",\"kline\",\"drugstore\",\"esteem\",\"jc\",\"existed\",\"hillyer\",\"filming\",\"venture\",\"terri\",\"averill\",\"currently\",\"sneak\",\"pinjar\",\"gouge\",\"rec\",\"punisher\",\"aback\",\"eclipse\",\"dependent\",\"alcoholics\",\"mp\",\"spontaneous\",\"george\",\"lesserknown\",\"scratches\",\"impacts\",\"prostitution\",\"baptists\",\"rupert\",\"flood\",\"deviant\",\"haunts\",\"workingclass\",\"incriminating\",\"cameroon\",\"filmmaking\",\"stardust\",\"follower\",\"mille\",\"snakes\",\"handycam\",\"minogue\",\"busted\",\"hur\",\"crawling\",\"lava\",\"jerking\",\"minus\",\"avert\",\"packed\",\"spaniard\",\"spraying\",\"breckinridge\",\"drowning\",\"iberia\",\"adviser\",\"austrian\",\"innocently\",\"dentist\",\"selfabsorbed\",\"strokes\",\"nono\",\"priyadarshan\",\"nip\",\"mcdonalds\",\"greta\",\"undertaken\",\"museums\",\"tourette\",\"worse\",\"space\",\"astronomical\",\"written\",\"trois\",\"meera\",\"timeframe\",\"titillate\",\"wavers\",\"amnesty\",\"writeup\",\"specialeffects\",\"blackwhite\",\"oscarnominated\",\"jeez\",\"invaluable\",\"determination\",\"grunting\",\"weakened\",\"terse\",\"flopping\",\"conflicts\",\"flushing\",\"onscreen\",\"confusing\",\"following\",\"harem\",\"cemented\",\"poignancy\",\"wrapping\",\"massacres\",\"newspaper\",\"eloquent\",\"extras\",\"routines\",\"disarray\",\"impacting\",\"mcphillip\",\"sanderson\",\"soninlaw\",\"conflicted\",\"flaws\",\"transferred\",\"homecoming\",\"poe\",\"foreboding\",\"pliers\",\"row\",\"digestible\",\"ep\",\"lamp\",\"kg\",\"rumor\",\"graves\",\"inserting\",\"caustic\",\"maetel\",\"jets\",\"prize\",\"capable\",\"paint\",\"taunts\",\"repay\",\"belafonte\",\"shelly\",\"youngish\",\"novice\",\"boobies\",\"rustic\",\"gorillas\",\"stupider\",\"added\",\"bugs\",\"luciano\",\"emotionless\",\"aimlessly\",\"tealc\",\"scuzzy\",\"lawyer\",\"ranging\",\"mirrormask\",\"lata\",\"chastity\",\"compelling\",\"hindrance\",\"thankful\",\"insignificance\",\"moved\",\"yo\",\"israelis\",\"kitamura\",\"metal\",\"peralta\",\"ploys\",\"grey\",\"wirework\",\"decoration\",\"moonlighting\",\"exec\",\"admire\",\"whisky\",\"reenactment\",\"underscore\",\"scamp\",\"retail\",\"di\",\"rooting\",\"reprehensible\",\"nyc\",\"pod\",\"caused\",\"rust\",\"crafting\",\"undercover\",\"tourist\",\"defense\",\"abdomen\",\"madeline\",\"shortcomings\",\"shtick\",\"munsters\",\"concealed\",\"stable\",\"iowa\",\"intends\",\"insular\",\"antidote\",\"teary\",\"aspires\",\"akin\",\"moroccan\",\"cultivated\",\"teachers\",\"successfully\",\"inspiration\",\"eaton\",\"subordinates\",\"stands\",\"sumptuous\",\"cheering\",\"mcanally\",\"jigsaw\",\"lackey\",\"guy\",\"annie\",\"potts\",\"warmly\",\"binodini\",\"caring\",\"liberally\",\"guess\",\"emery\",\"scrambled\",\"claudius\",\"woolsey\",\"disco\",\"primary\",\"ronnie\",\"bottled\",\"oddly\",\"blaming\",\"tyrant\",\"tragic\",\"mckenzie\",\"spiral\",\"visited\",\"sketchy\",\"accomplishing\",\"elevators\",\"dizzy\",\"haka\",\"danilo\",\"possessive\",\"sags\",\"rackham\",\"hopelessly\",\"retired\",\"preparation\",\"unrecognizable\",\"endemic\",\"qualify\",\"warned\",\"permits\",\"geller\",\"kit\",\"shocking\",\"swamp\",\"responded\",\"limp\",\"hickok\",\"withstand\",\"screwball\",\"credence\",\"fake\",\"vicky\",\"myra\",\"lawler\",\"spread\",\"lists\",\"gruesome\",\"lifethreatening\",\"tightening\",\"quotient\",\"junkie\",\"snarky\",\"deuces\",\"breakin\",\"duct\",\"snuck\",\"plotted\",\"commission\",\"consolation\",\"hackenstein\",\"woolrich\",\"saddle\",\"killing\",\"underhanded\",\"reflects\",\"hurling\",\"beaver\",\"insomniac\",\"violinist\",\"nobility\",\"arabian\",\"undercut\",\"kiddies\",\"cd\",\"aerial\",\"oriented\",\"witherspoon\",\"knowitall\",\"zebra\",\"statements\",\"bumper\",\"chinese\",\"silents\",\"invention\",\"scored\",\"haley\",\"kellerman\",\"inclined\",\"cyborgs\",\"allimportant\",\"ecological\",\"hirsch\",\"benito\",\"zippy\",\"screamed\",\"covered\",\"paradox\",\"styrofoam\",\"auditioning\",\"hog\",\"boone\",\"facile\",\"weighty\",\"attempts\",\"caf\\u00e9\",\"replay\",\"aswell\",\"expendable\",\"reg\",\"unwisely\",\"devastated\",\"whos\",\"troubled\",\"redeem\",\"claustrophobia\",\"rites\",\"neurotic\",\"masterpiece\",\"nauseous\",\"extracted\",\"richie\",\"davos\",\"redemptive\",\"decapitations\",\"factual\",\"tightened\",\"censored\",\"virgin\",\"rejecting\",\"dresses\",\"minimum\",\"subculture\",\"perros\",\"fernandez\",\"sullavan\",\"housewives\",\"jfk\",\"despair\",\"ensures\",\"marple\",\"hatches\",\"deafening\",\"tow\",\"concern\",\"spatula\",\"climbs\",\"romeo\",\"lets\"],\"x\":{\"__ndarray__\":\"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\",\"dtype\":\"float64\",\"order\":\"little\",\"shape\":[5000]},\"y\":{\"__ndarray__\":\"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\",\"dtype\":\"float64\",\"order\":\"little\",\"shape\":[5000]}},\"selected\":{\"id\":\"1045\"},\"selection_policy\":{\"id\":\"1044\"}},\"id\":\"1032\",\"type\":\"ColumnDataSource\"},{\"attributes\":{},\"id\":\"1044\",\"type\":\"UnionRenderers\"},{\"attributes\":{\"text_color\":{\"value\":\"black\"},\"x\":{\"field\":\"x\"},\"y\":{\"field\":\"y\"}},\"id\":\"1033\",\"type\":\"Text\"},{\"attributes\":{},\"id\":\"1042\",\"type\":\"BasicTickFormatter\"},{\"attributes\":{},\"id\":\"1002\",\"type\":\"DataRange1d\"},{\"attributes\":{\"bottom_units\":\"screen\",\"fill_alpha\":0.5,\"fill_color\":\"lightgrey\",\"left_units\":\"screen\",\"level\":\"overlay\",\"line_alpha\":1.0,\"line_color\":\"black\",\"line_dash\":[4,4],\"line_width\":2,\"right_units\":\"screen\",\"top_units\":\"screen\"},\"id\":\"1024\",\"type\":\"BoxAnnotation\"},{\"attributes\":{},\"id\":\"1040\",\"type\":\"BasicTickFormatter\"},{\"attributes\":{},\"id\":\"1004\",\"type\":\"DataRange1d\"},{\"attributes\":{\"source\":{\"id\":\"1032\"}},\"id\":\"1036\",\"type\":\"CDSView\"},{\"attributes\":{},\"id\":\"1006\",\"type\":\"LinearScale\"},{\"attributes\":{\"text_alpha\":{\"value\":0.1},\"text_color\":{\"value\":\"black\"},\"x\":{\"field\":\"x\"},\"y\":{\"field\":\"y\"}},\"id\":\"1034\",\"type\":\"Text\"},{\"attributes\":{\"data_source\":{\"id\":\"1032\"},\"glyph\":{\"id\":\"1033\"},\"hover_glyph\":null,\"muted_glyph\":null,\"nonselection_glyph\":{\"id\":\"1034\"},\"selection_glyph\":null,\"view\":{\"id\":\"1036\"}},\"id\":\"1035\",\"type\":\"GlyphRenderer\"},{\"attributes\":{},\"id\":\"1008\",\"type\":\"LinearScale\"},{\"attributes\":{\"formatter\":{\"id\":\"1040\"},\"ticker\":{\"id\":\"1011\"}},\"id\":\"1010\",\"type\":\"LinearAxis\"},{\"attributes\":{},\"id\":\"1011\",\"type\":\"BasicTicker\"},{\"attributes\":{\"text\":\"\"},\"id\":\"1037\",\"type\":\"Title\"},{\"attributes\":{\"axis\":{\"id\":\"1010\"},\"ticker\":null},\"id\":\"1013\",\"type\":\"Grid\"},{\"attributes\":{},\"id\":\"1018\",\"type\":\"PanTool\"},{\"attributes\":{},\"id\":\"1019\",\"type\":\"WheelZoomTool\"}],\"root_ids\":[\"1001\"]},\"title\":\"Bokeh Application\",\"version\":\"2.1.1\"}};\n",
              "  var render_items = [{\"docid\":\"4e27b9cb-ec38-45bf-b299-faa2f5ee6370\",\"root_ids\":[\"1001\"],\"roots\":{\"1001\":\"fb6f4eb7-4c7d-416b-881f-60f8d3e4f08b\"}}];\n",
              "  root.Bokeh.embed.embed_items_notebook(docs_json, render_items);\n",
              "\n",
              "  }\n",
              "  if (root.Bokeh !== undefined) {\n",
              "    embed_document(root);\n",
              "  } else {\n",
              "    var attempts = 0;\n",
              "    var timer = setInterval(function(root) {\n",
              "      if (root.Bokeh !== undefined) {\n",
              "        clearInterval(timer);\n",
              "        embed_document(root);\n",
              "      } else {\n",
              "        attempts++;\n",
              "        if (attempts > 100) {\n",
              "          clearInterval(timer);\n",
              "          console.log(\"Bokeh: ERROR: Unable to run BokehJS code because BokehJS library is missing\");\n",
              "        }\n",
              "      }\n",
              "    }, 10, root)\n",
              "  }\n",
              "})(window);"
            ],
            "application/vnd.bokehjs_exec.v0+json": ""
          },
          "metadata": {
            "tags": [],
            "application/vnd.bokehjs_exec.v0+json": {
              "id": "1001"
            }
          }
        }
      ]
    },
    {
      "cell_type": "code",
      "metadata": {
        "id": "-F47M3YVHcRJ",
        "colab": {
          "base_uri": "https://localhost:8080/"
        },
        "outputId": "bd3ebe46-a15c-44dc-95da-d76d2e4e0cbf"
      },
      "source": [
        "model.wv.most_similar('movie', topn=3)"
      ],
      "execution_count": 31,
      "outputs": [
        {
          "output_type": "stream",
          "text": [
            "/usr/local/lib/python3.6/dist-packages/gensim/matutils.py:737: FutureWarning: Conversion of the second argument of issubdtype from `int` to `np.signedinteger` is deprecated. In future, it will be treated as `np.int64 == np.dtype(int).type`.\n",
            "  if np.issubdtype(vec.dtype, np.int):\n"
          ],
          "name": "stderr"
        },
        {
          "output_type": "execute_result",
          "data": {
            "text/plain": [
              "[('film', 0.856487512588501),\n",
              " ('sequal', 0.7777935862541199),\n",
              " ('hesitated', 0.7712117433547974)]"
            ]
          },
          "metadata": {
            "tags": []
          },
          "execution_count": 31
        }
      ]
    },
    {
      "cell_type": "code",
      "metadata": {
        "id": "sRx8bxR8HdU8",
        "colab": {
          "base_uri": "https://localhost:8080/",
          "height": 123
        },
        "outputId": "42003f9f-b172-4880-cc9b-aef81c0e5db1"
      },
      "source": [
        "model.wv.doesnt_match(\"woman king queen movie\".split())"
      ],
      "execution_count": 32,
      "outputs": [
        {
          "output_type": "stream",
          "text": [
            "/usr/local/lib/python3.6/dist-packages/gensim/models/keyedvectors.py:895: FutureWarning: arrays to stack must be passed as a \"sequence\" type such as list or tuple. Support for non-sequence iterables such as generators is deprecated as of NumPy 1.16 and will raise an error in the future.\n",
            "  vectors = vstack(self.word_vec(word, use_norm=True) for word in used_words).astype(REAL)\n",
            "/usr/local/lib/python3.6/dist-packages/gensim/matutils.py:737: FutureWarning: Conversion of the second argument of issubdtype from `int` to `np.signedinteger` is deprecated. In future, it will be treated as `np.int64 == np.dtype(int).type`.\n",
            "  if np.issubdtype(vec.dtype, np.int):\n"
          ],
          "name": "stderr"
        },
        {
          "output_type": "execute_result",
          "data": {
            "application/vnd.google.colaboratory.intrinsic+json": {
              "type": "string"
            },
            "text/plain": [
              "'movie'"
            ]
          },
          "metadata": {
            "tags": []
          },
          "execution_count": 32
        }
      ]
    },
    {
      "cell_type": "code",
      "metadata": {
        "colab": {
          "base_uri": "https://localhost:8080/"
        },
        "id": "uo8c0GhvfiBp",
        "outputId": "4c0a9269-e39c-4817-dd93-fad0bc03a1dc"
      },
      "source": [
        "model.wv.most_similar('horrible')"
      ],
      "execution_count": 33,
      "outputs": [
        {
          "output_type": "stream",
          "text": [
            "/usr/local/lib/python3.6/dist-packages/gensim/matutils.py:737: FutureWarning: Conversion of the second argument of issubdtype from `int` to `np.signedinteger` is deprecated. In future, it will be treated as `np.int64 == np.dtype(int).type`.\n",
            "  if np.issubdtype(vec.dtype, np.int):\n"
          ],
          "name": "stderr"
        },
        {
          "output_type": "execute_result",
          "data": {
            "text/plain": [
              "[('terrible', 0.8945765495300293),\n",
              " ('awful', 0.8609350919723511),\n",
              " ('bad', 0.8176149129867554),\n",
              " ('pathetic', 0.7806077003479004),\n",
              " ('horrendous', 0.7789108753204346),\n",
              " ('atrocious', 0.7779361605644226),\n",
              " ('lousy', 0.7631365060806274),\n",
              " ('horrid', 0.7581247091293335),\n",
              " ('godawful', 0.7510504722595215),\n",
              " ('laughable', 0.7370618581771851)]"
            ]
          },
          "metadata": {
            "tags": []
          },
          "execution_count": 33
        }
      ]
    },
    {
      "cell_type": "code",
      "metadata": {
        "id": "KRvk8dAkHfnB",
        "colab": {
          "base_uri": "https://localhost:8080/"
        },
        "outputId": "8d382ff7-1d23-490e-b019-4cf9e81533e0"
      },
      "source": [
        "#As a final little intrinsic test, we can compute word-vector analogies\n",
        "\n",
        "model.wv.most_similar(positive=[\"woman\", \"king\"], negative=[\"man\"])"
      ],
      "execution_count": 34,
      "outputs": [
        {
          "output_type": "stream",
          "text": [
            "/usr/local/lib/python3.6/dist-packages/gensim/matutils.py:737: FutureWarning: Conversion of the second argument of issubdtype from `int` to `np.signedinteger` is deprecated. In future, it will be treated as `np.int64 == np.dtype(int).type`.\n",
            "  if np.issubdtype(vec.dtype, np.int):\n"
          ],
          "name": "stderr"
        },
        {
          "output_type": "execute_result",
          "data": {
            "text/plain": [
              "[('duchess', 0.5966563820838928),\n",
              " ('throne', 0.5882924795150757),\n",
              " ('queen', 0.578282356262207),\n",
              " ('ursula', 0.5562005043029785),\n",
              " ('monarch', 0.5494451522827148),\n",
              " ('viii', 0.5490291118621826),\n",
              " ('triton', 0.5447302460670471),\n",
              " ('victoria', 0.542542576789856),\n",
              " ('stepsisters', 0.5413815975189209),\n",
              " ('lollobrigida', 0.5342751145362854)]"
            ]
          },
          "metadata": {
            "tags": []
          },
          "execution_count": 34
        }
      ]
    },
    {
      "cell_type": "markdown",
      "metadata": {
        "id": "ElUFb4IgJ0o6"
      },
      "source": [
        "**Use Pre-trained Embedding**"
      ]
    },
    {
      "cell_type": "code",
      "metadata": {
        "id": "1dz69SfLJ5jE"
      },
      "source": [
        "#Let us extract the word embeddings from the stored file(imdb_embedding_word2vec.txt).\n",
        "from keras.layers import Embedding\n",
        "import os\n",
        "\n",
        "embeddings_index = {}\n",
        "f = open(os.path.join('','imdb_embedding_word2vec.txt'), encoding=\"utf-8\")\n",
        "for line in f:\n",
        "  values=line.split()\n",
        "  word=values[0]\n",
        "  coefs=np.asarray(values[1:])\n",
        "  embeddings_index[word]=coefs\n",
        "f.close()"
      ],
      "execution_count": 35,
      "outputs": []
    },
    {
      "cell_type": "code",
      "metadata": {
        "id": "927ZASquMjve",
        "colab": {
          "base_uri": "https://localhost:8080/"
        },
        "outputId": "81a9aad0-f7c5-4262-b9a2-edac6276da33"
      },
      "source": [
        "#The next step is to convert the word embedding into tokenized vector\n",
        "#vectorize the text samples into a 2D integer tensor\n",
        "\n",
        "tokenizer_obj=Tokenizer()\n",
        "tokenizer_obj.fit_on_texts(review_lines)\n",
        "sequences=tokenizer_obj.texts_to_sequences(review_lines)\n",
        "\n",
        "#pad sequences\n",
        "word_index= tokenizer_obj.word_index\n",
        "print('Found %s unique tokens.' % len(word_index))\n",
        "\n",
        "review_pad = pad_sequences(sequences, maxlen=2362)\n",
        "sentiment= df['sentiment'].values\n",
        "print('shape of review tensor:', review_pad.shape)\n",
        "print('Shape of sentiment tensor:', sentiment.shape)\n"
      ],
      "execution_count": 36,
      "outputs": [
        {
          "output_type": "stream",
          "text": [
            "Found 134156 unique tokens.\n",
            "shape of review tensor: (50000, 2362)\n",
            "Shape of sentiment tensor: (50000,)\n"
          ],
          "name": "stdout"
        }
      ]
    },
    {
      "cell_type": "code",
      "metadata": {
        "id": "1RPKqfNRQP4u"
      },
      "source": [
        "#Now we will map embeddings from the loaded word2vec model for each word to\n",
        "#the tokenizer_obj.word_index vocabulary and create a matrix of word vectors.\n",
        "num_words=len (word_index) + 1\n",
        "embedding_matrix=np.zeros((num_words, EMBEDDING_DIM))\n",
        "\n",
        "for word,i in word_index.items():\n",
        "  if i > num_words:\n",
        "    continue\n",
        "  embedding_vector=embeddings_index.get(word)\n",
        "  if embedding_vector is not None:\n",
        "    #words not found in embedding index will be all_zeros.\n",
        "    embedding_matrix[i]=embedding_vector"
      ],
      "execution_count": 37,
      "outputs": []
    },
    {
      "cell_type": "code",
      "metadata": {
        "id": "y-xYvdEURZN5",
        "colab": {
          "base_uri": "https://localhost:8080/"
        },
        "outputId": "520cb055-4086-417e-f66e-1d8588a62463"
      },
      "source": [
        "print(num_words)"
      ],
      "execution_count": 38,
      "outputs": [
        {
          "output_type": "stream",
          "text": [
            "134157\n"
          ],
          "name": "stdout"
        }
      ]
    },
    {
      "cell_type": "markdown",
      "metadata": {
        "id": "PxdgPfhwrtNw"
      },
      "source": [
        "**Build Simple Neural Network Model with word2vec**"
      ]
    },
    {
      "cell_type": "code",
      "metadata": {
        "id": "ncwOQPzctWRM",
        "colab": {
          "base_uri": "https://localhost:8080/"
        },
        "outputId": "720fbc11-9c56-4085-d868-591d015eefbc"
      },
      "source": [
        "#Build Neural Network Model\n",
        "#The model will use an Embedding layer as the first hidden layer.\n",
        "\n",
        "from keras.models import Sequential\n",
        "from keras.layers import Dense, Embedding, LSTM, GRU\n",
        "from keras.layers.embeddings import Embedding\n",
        "from keras.initializers import Constant\n",
        "from keras.layers import Dense, Activation, Flatten\n",
        "\n",
        "#The Embedding layer requires the specification of the vocabulary size (vocab_size),\n",
        "# the size of the real-valued vector space EMBEDDING_DIM = 100,\n",
        "# and the maximum length of input documents max_length .\n",
        "\n",
        "EMBEDDING_DIM= 100\n",
        "print('Build model...')\n",
        "\n",
        "model=Sequential()\n",
        "embedding_layer=Embedding(num_words,EMBEDDING_DIM,\n",
        "                          embeddings_initializer=Constant(embedding_matrix),\n",
        "                          input_length=2362, trainable=False)\n",
        "\n",
        "model.add(embedding_layer)\n",
        "\n",
        "model.add(Flatten())\n",
        "model.add(Dense(1, activation='sigmoid'))\n",
        "model.compile(loss='binary_crossentropy', optimizer='adam', metrics=['accuracy'])"
      ],
      "execution_count": 40,
      "outputs": [
        {
          "output_type": "stream",
          "text": [
            "Build model...\n"
          ],
          "name": "stdout"
        }
      ]
    },
    {
      "cell_type": "code",
      "metadata": {
        "id": "eAG_E_zLxepd",
        "colab": {
          "base_uri": "https://localhost:8080/"
        },
        "outputId": "80180fb8-910d-4838-87aa-c8ec18701a35"
      },
      "source": [
        "model.summary()"
      ],
      "execution_count": 41,
      "outputs": [
        {
          "output_type": "stream",
          "text": [
            "Model: \"sequential_1\"\n",
            "_________________________________________________________________\n",
            "Layer (type)                 Output Shape              Param #   \n",
            "=================================================================\n",
            "embedding_1 (Embedding)      (None, 2362, 100)         13415700  \n",
            "_________________________________________________________________\n",
            "flatten_1 (Flatten)          (None, 236200)            0         \n",
            "_________________________________________________________________\n",
            "dense_1 (Dense)              (None, 1)                 236201    \n",
            "=================================================================\n",
            "Total params: 13,651,901\n",
            "Trainable params: 236,201\n",
            "Non-trainable params: 13,415,700\n",
            "_________________________________________________________________\n"
          ],
          "name": "stdout"
        }
      ]
    },
    {
      "cell_type": "code",
      "metadata": {
        "id": "MA0EWZQTzMOU"
      },
      "source": [
        "#Split the data into a training set and a validation set\n",
        "VALIDATION_SPLIT= 0.2\n",
        "indices = np.arange(review_pad.shape[0])\n",
        "np.random.shuffle(indices)\n",
        "review_pad = review_pad[indices]\n",
        "sentiment=sentiment[indices]\n",
        "num_validation_samples=int(VALIDATION_SPLIT * review_pad.shape[0])\n",
        "\n",
        "X_train_pad = review_pad[:-num_validation_samples]\n",
        "y_train = sentiment[:-num_validation_samples]\n",
        "X_test_pad = review_pad[-num_validation_samples:]\n",
        "y_test = sentiment[-num_validation_samples:]"
      ],
      "execution_count": 42,
      "outputs": []
    },
    {
      "cell_type": "code",
      "metadata": {
        "colab": {
          "base_uri": "https://localhost:8080/"
        },
        "id": "2fDsTRLol8q-",
        "outputId": "dc2c11ac-10e3-43a7-a179-ada3e0b78675"
      },
      "source": [
        "print('shape of X_train_pad tensor:', X_train_pad.shape)\n",
        "print('shape of y_train tensor:', y_train.shape)\n",
        "\n",
        "print('shape of X_test_pad tensor:', X_test_pad.shape)\n",
        "print('shape of y_test tensor:', y_test.shape)"
      ],
      "execution_count": 43,
      "outputs": [
        {
          "output_type": "stream",
          "text": [
            "shape of X_train_pad tensor: (40000, 2362)\n",
            "shape of y_train tensor: (40000,)\n",
            "shape of X_test_pad tensor: (10000, 2362)\n",
            "shape of y_test tensor: (10000,)\n"
          ],
          "name": "stdout"
        }
      ]
    },
    {
      "cell_type": "code",
      "metadata": {
        "id": "uT_l93OcxH3F",
        "colab": {
          "base_uri": "https://localhost:8080/"
        },
        "outputId": "3adac609-d375-4616-bd3c-c29dee3ba08e"
      },
      "source": [
        "#Train Model\n",
        "print('Train Dense Model...')\n",
        "history=model.fit(X_train_pad, y_train, batch_size=128, epochs=6, validation_data=(X_test_pad,y_test), verbose=1)"
      ],
      "execution_count": 44,
      "outputs": [
        {
          "output_type": "stream",
          "text": [
            "Train Dense Model...\n",
            "Epoch 1/6\n",
            "313/313 [==============================] - 15s 49ms/step - loss: 0.4525 - accuracy: 0.8027 - val_loss: 0.3778 - val_accuracy: 0.8407\n",
            "Epoch 2/6\n",
            "313/313 [==============================] - 14s 44ms/step - loss: 0.3143 - accuracy: 0.8763 - val_loss: 0.3542 - val_accuracy: 0.8489\n",
            "Epoch 3/6\n",
            "313/313 [==============================] - 13s 42ms/step - loss: 0.2693 - accuracy: 0.8960 - val_loss: 0.3481 - val_accuracy: 0.8497\n",
            "Epoch 4/6\n",
            "313/313 [==============================] - 13s 43ms/step - loss: 0.2431 - accuracy: 0.9081 - val_loss: 0.3481 - val_accuracy: 0.8497\n",
            "Epoch 5/6\n",
            "313/313 [==============================] - 13s 43ms/step - loss: 0.2221 - accuracy: 0.9175 - val_loss: 0.3572 - val_accuracy: 0.8473\n",
            "Epoch 6/6\n",
            "313/313 [==============================] - 13s 43ms/step - loss: 0.2081 - accuracy: 0.9228 - val_loss: 0.3631 - val_accuracy: 0.8477\n"
          ],
          "name": "stdout"
        }
      ]
    },
    {
      "cell_type": "code",
      "metadata": {
        "colab": {
          "base_uri": "https://localhost:8080/"
        },
        "id": "Xf-tWavbjP2a",
        "outputId": "2d8a1632-982d-4118-b387-14f3f3a5e4a6"
      },
      "source": [
        "score = model.evaluate(X_test_pad, y_test, verbose=1)"
      ],
      "execution_count": 45,
      "outputs": [
        {
          "output_type": "stream",
          "text": [
            "313/313 [==============================] - 3s 10ms/step - loss: 0.3631 - accuracy: 0.8477\n"
          ],
          "name": "stdout"
        }
      ]
    },
    {
      "cell_type": "code",
      "metadata": {
        "colab": {
          "base_uri": "https://localhost:8080/"
        },
        "id": "N68NeCD9jUOS",
        "outputId": "ae167907-6505-4932-d7c2-1ecf385cea15"
      },
      "source": [
        "#To check the test accuracy and loss\n",
        "print(\"Test Score:\", score[0])\n",
        "print(\"Test Accuracy:\", score[1])"
      ],
      "execution_count": 46,
      "outputs": [
        {
          "output_type": "stream",
          "text": [
            "Test Score: 0.36306485533714294\n",
            "Test Accuracy: 0.8476999998092651\n"
          ],
          "name": "stdout"
        }
      ]
    },
    {
      "cell_type": "code",
      "metadata": {
        "id": "KbNZOnq6xvt4",
        "colab": {
          "base_uri": "https://localhost:8080/"
        },
        "outputId": "60cac87e-bccc-406b-db74-20bc4ac8481d"
      },
      "source": [
        "history.history"
      ],
      "execution_count": 47,
      "outputs": [
        {
          "output_type": "execute_result",
          "data": {
            "text/plain": [
              "{'accuracy': [0.8027250170707703,\n",
              "  0.8762500286102295,\n",
              "  0.8959749937057495,\n",
              "  0.908050000667572,\n",
              "  0.9174500107765198,\n",
              "  0.9228000044822693],\n",
              " 'loss': [0.45253118872642517,\n",
              "  0.31430113315582275,\n",
              "  0.2693209648132324,\n",
              "  0.24310658872127533,\n",
              "  0.22210463881492615,\n",
              "  0.20805932581424713],\n",
              " 'val_accuracy': [0.8406999707221985,\n",
              "  0.8489000201225281,\n",
              "  0.8496999740600586,\n",
              "  0.8496999740600586,\n",
              "  0.8472999930381775,\n",
              "  0.8476999998092651],\n",
              " 'val_loss': [0.37780773639678955,\n",
              "  0.3542385697364807,\n",
              "  0.3481006622314453,\n",
              "  0.34806734323501587,\n",
              "  0.3572362959384918,\n",
              "  0.36306479573249817]}"
            ]
          },
          "metadata": {
            "tags": []
          },
          "execution_count": 47
        }
      ]
    },
    {
      "cell_type": "code",
      "metadata": {
        "id": "VBNjXb0dx0o8"
      },
      "source": [
        "def plot_learningCurve(history,epochs):\n",
        "  #Plot training & validation accuray values\n",
        "  epoch_range=range(1,epochs+1)\n",
        "  plt.plot(epoch_range,history.history['accuracy'])\n",
        "  plt.plot(epoch_range, history.history['val_accuracy'])\n",
        "  plt.title('Dense Model accuracy')\n",
        "  plt.ylabel('Accuracy')\n",
        "  plt.xlabel('Epoch')\n",
        "  plt.legend(['Train', 'Val'], loc='upper left')\n",
        "  plt.show()\n",
        "\n",
        "  #Plot training & validation loss values\n",
        "  plt.plot(epoch_range,history.history['loss'])\n",
        "  plt.plot(epoch_range, history.history['val_loss'])\n",
        "  plt.title('Dense Model loss')\n",
        "  plt.ylabel('loss')\n",
        "  plt.xlabel('Epoch')\n",
        "  plt.legend(['Train', 'Val'], loc='upper left')\n",
        "  plt.show()"
      ],
      "execution_count": 70,
      "outputs": []
    },
    {
      "cell_type": "code",
      "metadata": {
        "id": "8-alMQWLx5c2",
        "colab": {
          "base_uri": "https://localhost:8080/",
          "height": 573
        },
        "outputId": "a92af8cc-6e00-4b77-cc56-3b585f0b5fea"
      },
      "source": [
        "plot_learningCurve(history, 6)"
      ],
      "execution_count": 71,
      "outputs": [
        {
          "output_type": "display_data",
          "data": {
            "image/png": "[encoded data removed]",
            "text/plain": [
              "<Figure size 432x288 with 1 Axes>"
            ]
          },
          "metadata": {
            "tags": [],
            "needs_background": "light"
          }
        },
        {
          "output_type": "display_data",
          "data": {
            "image/png": "[encoded data removed]",
            "text/plain": [
              "<Figure size 432x288 with 1 Axes>"
            ]
          },
          "metadata": {
            "tags": [],
            "needs_background": "light"
          }
        }
      ]
    },
    {
      "cell_type": "code",
      "metadata": {
        "id": "L8gKf--cT_YX"
      },
      "source": [
        "y_hat = model.predict(X_test_pad)"
      ],
      "execution_count": 50,
      "outputs": []
    },
    {
      "cell_type": "code",
      "metadata": {
        "colab": {
          "base_uri": "https://localhost:8080/",
          "height": 35
        },
        "id": "bbE-YB2jUHSh",
        "outputId": "9cea2269-fc43-4279-e5e2-a9790cb6fabe"
      },
      "source": [
        "from sklearn.metrics import roc_auc_score\n",
        "pct_auc = roc_auc_score(y_test, y_hat)*100.0\n",
        "\"{:0.2f}\".format(pct_auc)"
      ],
      "execution_count": 51,
      "outputs": [
        {
          "output_type": "execute_result",
          "data": {
            "application/vnd.google.colaboratory.intrinsic+json": {
              "type": "string"
            },
            "text/plain": [
              "'92.19'"
            ]
          },
          "metadata": {
            "tags": []
          },
          "execution_count": 51
        }
      ]
    },
    {
      "cell_type": "code",
      "metadata": {
        "id": "eljHcTQiU39P"
      },
      "source": [
        "float_y_hat = []\n",
        "for y in y_hat:\n",
        "    float_y_hat.append(y[0])\n",
        "ydf = pd.DataFrame(list(zip(float_y_hat, y_test)),\n",
        "                   columns=['y_hat', 'y'])"
      ],
      "execution_count": 52,
      "outputs": []
    },
    {
      "cell_type": "code",
      "metadata": {
        "colab": {
          "base_uri": "https://localhost:8080/",
          "height": 359
        },
        "id": "ZRqVEW2fVJ7A",
        "outputId": "d127f1fd-63b8-4b8a-dfdc-585e1031a707"
      },
      "source": [
        "ydf.head(10)"
      ],
      "execution_count": 53,
      "outputs": [
        {
          "output_type": "execute_result",
          "data": {
            "text/html": [
              "<div>\n",
              "<style scoped>\n",
              "    .dataframe tbody tr th:only-of-type {\n",
              "        vertical-align: middle;\n",
              "    }\n",
              "\n",
              "    .dataframe tbody tr th {\n",
              "        vertical-align: top;\n",
              "    }\n",
              "\n",
              "    .dataframe thead th {\n",
              "        text-align: right;\n",
              "    }\n",
              "</style>\n",
              "<table border=\"1\" class=\"dataframe\">\n",
              "  <thead>\n",
              "    <tr style=\"text-align: right;\">\n",
              "      <th></th>\n",
              "      <th>y_hat</th>\n",
              "      <th>y</th>\n",
              "    </tr>\n",
              "  </thead>\n",
              "  <tbody>\n",
              "    <tr>\n",
              "      <th>0</th>\n",
              "      <td>0.982701</td>\n",
              "      <td>1</td>\n",
              "    </tr>\n",
              "    <tr>\n",
              "      <th>1</th>\n",
              "      <td>0.823021</td>\n",
              "      <td>1</td>\n",
              "    </tr>\n",
              "    <tr>\n",
              "      <th>2</th>\n",
              "      <td>0.015735</td>\n",
              "      <td>0</td>\n",
              "    </tr>\n",
              "    <tr>\n",
              "      <th>3</th>\n",
              "      <td>0.023812</td>\n",
              "      <td>0</td>\n",
              "    </tr>\n",
              "    <tr>\n",
              "      <th>4</th>\n",
              "      <td>0.034458</td>\n",
              "      <td>0</td>\n",
              "    </tr>\n",
              "    <tr>\n",
              "      <th>5</th>\n",
              "      <td>0.973415</td>\n",
              "      <td>1</td>\n",
              "    </tr>\n",
              "    <tr>\n",
              "      <th>6</th>\n",
              "      <td>0.002665</td>\n",
              "      <td>0</td>\n",
              "    </tr>\n",
              "    <tr>\n",
              "      <th>7</th>\n",
              "      <td>0.559821</td>\n",
              "      <td>0</td>\n",
              "    </tr>\n",
              "    <tr>\n",
              "      <th>8</th>\n",
              "      <td>0.021811</td>\n",
              "      <td>0</td>\n",
              "    </tr>\n",
              "    <tr>\n",
              "      <th>9</th>\n",
              "      <td>0.973289</td>\n",
              "      <td>1</td>\n",
              "    </tr>\n",
              "  </tbody>\n",
              "</table>\n",
              "</div>"
            ],
            "text/plain": [
              "      y_hat  y\n",
              "0  0.982701  1\n",
              "1  0.823021  1\n",
              "2  0.015735  0\n",
              "3  0.023812  0\n",
              "4  0.034458  0\n",
              "5  0.973415  1\n",
              "6  0.002665  0\n",
              "7  0.559821  0\n",
              "8  0.021811  0\n",
              "9  0.973289  1"
            ]
          },
          "metadata": {
            "tags": []
          },
          "execution_count": 53
        }
      ]
    },
    {
      "cell_type": "markdown",
      "metadata": {
        "id": "sGKYub-KxJSR"
      },
      "source": [
        "**Build Neural Network Model with GRU**"
      ]
    },
    {
      "cell_type": "code",
      "metadata": {
        "id": "mQnAnr12Rv1V"
      },
      "source": [
        "from keras.models import Sequential\n",
        "from keras.layers import Dense, Embedding, LSTM, GRU\n",
        "from keras.layers.embeddings import Embedding\n",
        "from keras.initializers import Constant\n",
        "\n",
        "#define model\n",
        "\n",
        "model=Sequential()\n",
        "embedding_layer=Embedding(num_words,EMBEDDING_DIM,\n",
        "                          embeddings_initializer=Constant(embedding_matrix),\n",
        "                          input_length=2362, trainable=False)\n",
        "\n",
        "model.add(embedding_layer)\n",
        "model.add(GRU(units=32, dropout=0.2, recurrent_dropout=0.2))\n",
        "model.add(Dense(1,activation='sigmoid'))\n",
        "\n",
        "model.compile(loss='binary_crossentropy', optimizer='adam', metrics=['accuracy'])\n"
      ],
      "execution_count": 55,
      "outputs": []
    },
    {
      "cell_type": "code",
      "metadata": {
        "id": "AwF5GnqKyMDm",
        "colab": {
          "base_uri": "https://localhost:8080/"
        },
        "outputId": "942df894-03b7-4d8c-ca5c-11c8cb018dae"
      },
      "source": [
        "model.summary()"
      ],
      "execution_count": 56,
      "outputs": [
        {
          "output_type": "stream",
          "text": [
            "Model: \"sequential_2\"\n",
            "_________________________________________________________________\n",
            "Layer (type)                 Output Shape              Param #   \n",
            "=================================================================\n",
            "embedding_2 (Embedding)      (None, 2362, 100)         13415700  \n",
            "_________________________________________________________________\n",
            "gru (GRU)                    (None, 32)                12864     \n",
            "_________________________________________________________________\n",
            "dense_2 (Dense)              (None, 1)                 33        \n",
            "=================================================================\n",
            "Total params: 13,428,597\n",
            "Trainable params: 12,897\n",
            "Non-trainable params: 13,415,700\n",
            "_________________________________________________________________\n"
          ],
          "name": "stdout"
        }
      ]
    },
    {
      "cell_type": "code",
      "metadata": {
        "id": "w-pfOuYqyaf_",
        "colab": {
          "base_uri": "https://localhost:8080/"
        },
        "outputId": "a5f1a712-13a2-467e-d1f4-c31ca4f8de7c"
      },
      "source": [
        "#Train Model\n",
        "print('Train GRU Model...')\n",
        "history=model.fit(X_train_pad, y_train, batch_size=128, epochs=6, validation_data=(X_test_pad,y_test), verbose=1)"
      ],
      "execution_count": 57,
      "outputs": [
        {
          "output_type": "stream",
          "text": [
            "Train GRU Model...\n",
            "Epoch 1/6\n",
            "313/313 [==============================] - 1039s 3s/step - loss: 0.4683 - accuracy: 0.7743 - val_loss: 0.3436 - val_accuracy: 0.8590\n",
            "Epoch 2/6\n",
            "313/313 [==============================] - 1051s 3s/step - loss: 0.3506 - accuracy: 0.8506 - val_loss: 0.3069 - val_accuracy: 0.8738\n",
            "Epoch 3/6\n",
            "313/313 [==============================] - 1058s 3s/step - loss: 0.3167 - accuracy: 0.8667 - val_loss: 0.3016 - val_accuracy: 0.8738\n",
            "Epoch 4/6\n",
            "313/313 [==============================] - 1058s 3s/step - loss: 0.3012 - accuracy: 0.8747 - val_loss: 0.3135 - val_accuracy: 0.8668\n",
            "Epoch 5/6\n",
            "313/313 [==============================] - 1053s 3s/step - loss: 0.2944 - accuracy: 0.8769 - val_loss: 0.2682 - val_accuracy: 0.8879\n",
            "Epoch 6/6\n",
            "313/313 [==============================] - 1060s 3s/step - loss: 0.2880 - accuracy: 0.8815 - val_loss: 0.2642 - val_accuracy: 0.8910\n"
          ],
          "name": "stdout"
        }
      ]
    },
    {
      "cell_type": "code",
      "metadata": {
        "id": "ztKp7g0Rjcnb",
        "colab": {
          "base_uri": "https://localhost:8080/"
        },
        "outputId": "32fcf8b2-71a2-4324-ebfc-d23f37bcc7cd"
      },
      "source": [
        "score = model.evaluate(X_test_pad, y_test, verbose=1)"
      ],
      "execution_count": 58,
      "outputs": [
        {
          "output_type": "stream",
          "text": [
            "313/313 [==============================] - 72s 231ms/step - loss: 0.2642 - accuracy: 0.8910\n"
          ],
          "name": "stdout"
        }
      ]
    },
    {
      "cell_type": "code",
      "metadata": {
        "id": "kGKkyKdzjgYq",
        "colab": {
          "base_uri": "https://localhost:8080/"
        },
        "outputId": "89c6bf95-1a1b-4cf0-82b0-e565b02c8b5c"
      },
      "source": [
        "#To check the test accuracy and loss\n",
        "print(\"Test Score:\", score[0])\n",
        "print(\"Test Accuracy:\", score[1])"
      ],
      "execution_count": 59,
      "outputs": [
        {
          "output_type": "stream",
          "text": [
            "Test Score: 0.2641620337963104\n",
            "Test Accuracy: 0.890999972820282\n"
          ],
          "name": "stdout"
        }
      ]
    },
    {
      "cell_type": "code",
      "metadata": {
        "id": "_az2YAMcyTP_",
        "colab": {
          "base_uri": "https://localhost:8080/"
        },
        "outputId": "9fb57916-b0e7-4810-e043-5aa924160755"
      },
      "source": [
        "history.history"
      ],
      "execution_count": 60,
      "outputs": [
        {
          "output_type": "execute_result",
          "data": {
            "text/plain": [
              "{'accuracy': [0.7742999792098999,\n",
              "  0.8505749702453613,\n",
              "  0.8666999936103821,\n",
              "  0.8746500015258789,\n",
              "  0.8769000172615051,\n",
              "  0.8814749717712402],\n",
              " 'loss': [0.46830081939697266,\n",
              "  0.3505946397781372,\n",
              "  0.3166642189025879,\n",
              "  0.3012406826019287,\n",
              "  0.2944469749927521,\n",
              "  0.28795138001441956],\n",
              " 'val_accuracy': [0.859000027179718,\n",
              "  0.8737999796867371,\n",
              "  0.8737999796867371,\n",
              "  0.8668000102043152,\n",
              "  0.8878999948501587,\n",
              "  0.890999972820282],\n",
              " 'val_loss': [0.343639075756073,\n",
              "  0.30694401264190674,\n",
              "  0.30156955122947693,\n",
              "  0.3135065734386444,\n",
              "  0.26822298765182495,\n",
              "  0.26416218280792236]}"
            ]
          },
          "metadata": {
            "tags": []
          },
          "execution_count": 60
        }
      ]
    },
    {
      "cell_type": "code",
      "metadata": {
        "id": "ywuAeCFHyggG"
      },
      "source": [
        "def plot_learningCurve(history,epochs):\n",
        "  #Plot training & validation accuray values\n",
        "  epoch_range=range(1,epochs+1)\n",
        "  plt.plot(epoch_range,history.history['accuracy'])\n",
        "  plt.plot(epoch_range, history.history['val_accuracy'])\n",
        "  plt.title('GRU Model accuracy')\n",
        "  plt.ylabel('Accuracy')\n",
        "  plt.xlabel('Epoch')\n",
        "  plt.legend(['Train', 'Val'], loc='upper left')\n",
        "  plt.show()\n",
        "\n",
        "  #Plot training & validation loss values\n",
        "  plt.plot(epoch_range,history.history['loss'])\n",
        "  plt.plot(epoch_range, history.history['val_loss'])\n",
        "  plt.title('GRU Model loss')\n",
        "  plt.ylabel('loss')\n",
        "  plt.xlabel('Epoch')\n",
        "  plt.legend(['Train', 'Val'], loc='upper left')\n",
        "  plt.show()"
      ],
      "execution_count": 74,
      "outputs": []
    },
    {
      "cell_type": "code",
      "metadata": {
        "id": "pcNkBEB5ylbL",
        "colab": {
          "base_uri": "https://localhost:8080/",
          "height": 573
        },
        "outputId": "47f3476c-f33a-4181-a41c-e192c6d286bc"
      },
      "source": [
        "plot_learningCurve(history, 6)"
      ],
      "execution_count": 75,
      "outputs": [
        {
          "output_type": "display_data",
          "data": {
            "image/png": "[encoded data removed]",
            "text/plain": [
              "<Figure size 432x288 with 1 Axes>"
            ]
          },
          "metadata": {
            "tags": [],
            "needs_background": "light"
          }
        },
        {
          "output_type": "display_data",
          "data": {
            "image/png": "[encoded data removed]",
            "text/plain": [
              "<Figure size 432x288 with 1 Axes>"
            ]
          },
          "metadata": {
            "tags": [],
            "needs_background": "light"
          }
        }
      ]
    },
    {
      "cell_type": "code",
      "metadata": {
        "id": "u_FLNL5A3rcS"
      },
      "source": [
        "y_hat = model.predict(X_test_pad)"
      ],
      "execution_count": 63,
      "outputs": []
    },
    {
      "cell_type": "code",
      "metadata": {
        "colab": {
          "base_uri": "https://localhost:8080/",
          "height": 35
        },
        "id": "GO6NljpC3v3X",
        "outputId": "af22df4f-699c-4319-ee0f-a1ace18d1381"
      },
      "source": [
        "from sklearn.metrics import roc_auc_score\n",
        "pct_auc = roc_auc_score(y_test, y_hat)*100.0\n",
        "\"{:0.2f}\".format(pct_auc)"
      ],
      "execution_count": 64,
      "outputs": [
        {
          "output_type": "execute_result",
          "data": {
            "application/vnd.google.colaboratory.intrinsic+json": {
              "type": "string"
            },
            "text/plain": [
              "'95.85'"
            ]
          },
          "metadata": {
            "tags": []
          },
          "execution_count": 64
        }
      ]
    },
    {
      "cell_type": "code",
      "metadata": {
        "colab": {
          "base_uri": "https://localhost:8080/",
          "height": 359
        },
        "id": "FyYRIZtk3zqC",
        "outputId": "9cbd68f3-5b63-46d5-bd39-a9c19a2db3b3"
      },
      "source": [
        "ydf.head(10)"
      ],
      "execution_count": 65,
      "outputs": [
        {
          "output_type": "execute_result",
          "data": {
            "text/html": [
              "<div>\n",
              "<style scoped>\n",
              "    .dataframe tbody tr th:only-of-type {\n",
              "        vertical-align: middle;\n",
              "    }\n",
              "\n",
              "    .dataframe tbody tr th {\n",
              "        vertical-align: top;\n",
              "    }\n",
              "\n",
              "    .dataframe thead th {\n",
              "        text-align: right;\n",
              "    }\n",
              "</style>\n",
              "<table border=\"1\" class=\"dataframe\">\n",
              "  <thead>\n",
              "    <tr style=\"text-align: right;\">\n",
              "      <th></th>\n",
              "      <th>y_hat</th>\n",
              "      <th>y</th>\n",
              "    </tr>\n",
              "  </thead>\n",
              "  <tbody>\n",
              "    <tr>\n",
              "      <th>0</th>\n",
              "      <td>0.982701</td>\n",
              "      <td>1</td>\n",
              "    </tr>\n",
              "    <tr>\n",
              "      <th>1</th>\n",
              "      <td>0.823021</td>\n",
              "      <td>1</td>\n",
              "    </tr>\n",
              "    <tr>\n",
              "      <th>2</th>\n",
              "      <td>0.015735</td>\n",
              "      <td>0</td>\n",
              "    </tr>\n",
              "    <tr>\n",
              "      <th>3</th>\n",
              "      <td>0.023812</td>\n",
              "      <td>0</td>\n",
              "    </tr>\n",
              "    <tr>\n",
              "      <th>4</th>\n",
              "      <td>0.034458</td>\n",
              "      <td>0</td>\n",
              "    </tr>\n",
              "    <tr>\n",
              "      <th>5</th>\n",
              "      <td>0.973415</td>\n",
              "      <td>1</td>\n",
              "    </tr>\n",
              "    <tr>\n",
              "      <th>6</th>\n",
              "      <td>0.002665</td>\n",
              "      <td>0</td>\n",
              "    </tr>\n",
              "    <tr>\n",
              "      <th>7</th>\n",
              "      <td>0.559821</td>\n",
              "      <td>0</td>\n",
              "    </tr>\n",
              "    <tr>\n",
              "      <th>8</th>\n",
              "      <td>0.021811</td>\n",
              "      <td>0</td>\n",
              "    </tr>\n",
              "    <tr>\n",
              "      <th>9</th>\n",
              "      <td>0.973289</td>\n",
              "      <td>1</td>\n",
              "    </tr>\n",
              "  </tbody>\n",
              "</table>\n",
              "</div>"
            ],
            "text/plain": [
              "      y_hat  y\n",
              "0  0.982701  1\n",
              "1  0.823021  1\n",
              "2  0.015735  0\n",
              "3  0.023812  0\n",
              "4  0.034458  0\n",
              "5  0.973415  1\n",
              "6  0.002665  0\n",
              "7  0.559821  0\n",
              "8  0.021811  0\n",
              "9  0.973289  1"
            ]
          },
          "metadata": {
            "tags": []
          },
          "execution_count": 65
        }
      ]
    },
    {
      "cell_type": "markdown",
      "metadata": {
        "id": "fZkqQOC2aBSM"
      },
      "source": [
        "**Build Neural Network Model with Recurrent Neural Network (LSTM)**"
      ]
    },
    {
      "cell_type": "code",
      "metadata": {
        "id": "B-xDim7MaEH5"
      },
      "source": [
        "from tensorflow.keras import Sequential\n",
        "from tensorflow.keras.layers import LSTM,Dropout,Dense,Embedding"
      ],
      "execution_count": 77,
      "outputs": []
    },
    {
      "cell_type": "code",
      "metadata": {
        "id": "pIFhFiTRaLGp"
      },
      "source": [
        "model=Sequential()\n",
        "embedding_layer=Embedding(num_words,EMBEDDING_DIM,\n",
        "                          embeddings_initializer=Constant(embedding_matrix),\n",
        "                          input_length=2362, trainable=False)\n",
        "\n",
        "model.add(embedding_layer)\n",
        "model.add(LSTM(units=128, activation='tanh'))\n",
        "model.add(Dense(units=1,activation='sigmoid'))\n",
        "model.compile(optimizer='adam', loss='binary_crossentropy', metrics=['accuracy'])"
      ],
      "execution_count": 78,
      "outputs": []
    },
    {
      "cell_type": "code",
      "metadata": {
        "id": "EOl6T8d0aNwa",
        "colab": {
          "base_uri": "https://localhost:8080/"
        },
        "outputId": "8f18faa5-8cd7-492d-cf46-b140243ff7b8"
      },
      "source": [
        "model.summary()"
      ],
      "execution_count": 79,
      "outputs": [
        {
          "output_type": "stream",
          "text": [
            "Model: \"sequential_4\"\n",
            "_________________________________________________________________\n",
            "Layer (type)                 Output Shape              Param #   \n",
            "=================================================================\n",
            "embedding_4 (Embedding)      (None, 2362, 100)         13415700  \n",
            "_________________________________________________________________\n",
            "lstm_1 (LSTM)                (None, 128)               117248    \n",
            "_________________________________________________________________\n",
            "dense_4 (Dense)              (None, 1)                 129       \n",
            "=================================================================\n",
            "Total params: 13,533,077\n",
            "Trainable params: 117,377\n",
            "Non-trainable params: 13,415,700\n",
            "_________________________________________________________________\n"
          ],
          "name": "stdout"
        }
      ]
    },
    {
      "cell_type": "code",
      "metadata": {
        "id": "bzyT-EDcaQ_d",
        "colab": {
          "base_uri": "https://localhost:8080/"
        },
        "outputId": "2980e9ac-7965-47ee-da4c-757ff521da5f"
      },
      "source": [
        "#Train Model\n",
        "print('Train LSTM Model...')\n",
        "history=model.fit(X_train_pad, y_train, batch_size=128, epochs=6, validation_data=(X_test_pad,y_test), verbose=1)"
      ],
      "execution_count": 80,
      "outputs": [
        {
          "output_type": "stream",
          "text": [
            "Train LSTM Model...\n",
            "Epoch 1/6\n",
            "313/313 [==============================] - 1970s 6s/step - loss: 0.4250 - accuracy: 0.8112 - val_loss: 0.3508 - val_accuracy: 0.8551\n",
            "Epoch 2/6\n",
            "313/313 [==============================] - 1962s 6s/step - loss: 0.3429 - accuracy: 0.8546 - val_loss: 0.3233 - val_accuracy: 0.8674\n",
            "Epoch 3/6\n",
            "313/313 [==============================] - 2001s 6s/step - loss: 0.3160 - accuracy: 0.8666 - val_loss: 0.3036 - val_accuracy: 0.8736\n",
            "Epoch 4/6\n",
            "313/313 [==============================] - 2009s 6s/step - loss: 0.3027 - accuracy: 0.8744 - val_loss: 0.3158 - val_accuracy: 0.8745\n",
            "Epoch 5/6\n",
            "313/313 [==============================] - 1984s 6s/step - loss: 0.2865 - accuracy: 0.8824 - val_loss: 0.3082 - val_accuracy: 0.8832\n",
            "Epoch 6/6\n",
            "313/313 [==============================] - 2001s 6s/step - loss: 0.2802 - accuracy: 0.8869 - val_loss: 0.2685 - val_accuracy: 0.8869\n"
          ],
          "name": "stdout"
        }
      ]
    },
    {
      "cell_type": "code",
      "metadata": {
        "id": "-KQD3O-3u_5X",
        "colab": {
          "base_uri": "https://localhost:8080/"
        },
        "outputId": "86efc031-7350-4843-d994-438875bc0196"
      },
      "source": [
        "score = model.evaluate(X_test_pad, y_test, verbose=1)"
      ],
      "execution_count": 81,
      "outputs": [
        {
          "output_type": "stream",
          "text": [
            "313/313 [==============================] - 176s 562ms/step - loss: 0.2685 - accuracy: 0.8869\n"
          ],
          "name": "stdout"
        }
      ]
    },
    {
      "cell_type": "code",
      "metadata": {
        "id": "7cGlmGEXvBH_",
        "colab": {
          "base_uri": "https://localhost:8080/"
        },
        "outputId": "669da903-a4c6-4a0c-d0a7-970e55b051b0"
      },
      "source": [
        "#To check the test accuracy and loss\n",
        "print(\"Test Score:\", score[0])\n",
        "print(\"Test Accuracy:\", score[1])"
      ],
      "execution_count": 82,
      "outputs": [
        {
          "output_type": "stream",
          "text": [
            "Test Score: 0.2684597373008728\n",
            "Test Accuracy: 0.886900007724762\n"
          ],
          "name": "stdout"
        }
      ]
    },
    {
      "cell_type": "code",
      "metadata": {
        "id": "egRtpiYmaS-M",
        "colab": {
          "base_uri": "https://localhost:8080/"
        },
        "outputId": "1512eb4e-58fc-43a7-db67-89419b622fd7"
      },
      "source": [
        "history.history"
      ],
      "execution_count": 83,
      "outputs": [
        {
          "output_type": "execute_result",
          "data": {
            "text/plain": [
              "{'accuracy': [0.8112000226974487,\n",
              "  0.8546000123023987,\n",
              "  0.8666499853134155,\n",
              "  0.8743500113487244,\n",
              "  0.8824499845504761,\n",
              "  0.8868749737739563],\n",
              " 'loss': [0.42498189210891724,\n",
              "  0.3428705334663391,\n",
              "  0.31602904200553894,\n",
              "  0.3026902973651886,\n",
              "  0.28649958968162537,\n",
              "  0.28019317984580994],\n",
              " 'val_accuracy': [0.8550999760627747,\n",
              "  0.8673999905586243,\n",
              "  0.8736000061035156,\n",
              "  0.8744999766349792,\n",
              "  0.8831999897956848,\n",
              "  0.886900007724762],\n",
              " 'val_loss': [0.35083723068237305,\n",
              "  0.3233267664909363,\n",
              "  0.303570032119751,\n",
              "  0.315768301486969,\n",
              "  0.30817559361457825,\n",
              "  0.268459677696228]}"
            ]
          },
          "metadata": {
            "tags": []
          },
          "execution_count": 83
        }
      ]
    },
    {
      "cell_type": "code",
      "metadata": {
        "id": "TgT-BEyhaVmE"
      },
      "source": [
        "def plot_learningCurve(history,epochs):\n",
        "  #Plot training & validation accuray values\n",
        "  epoch_range=range(1,epochs+1)\n",
        "  plt.plot(epoch_range,history.history['accuracy'])\n",
        "  plt.plot(epoch_range, history.history['val_accuracy'])\n",
        "  plt.title('LSTM Model accuracy')\n",
        "  plt.ylabel('Accuracy')\n",
        "  plt.xlabel('Epoch')\n",
        "  plt.legend(['Train', 'Val'], loc='upper left')\n",
        "  plt.show()\n",
        "\n",
        "  #Plot training & validation loss values\n",
        "  plt.plot(epoch_range,history.history['loss'])\n",
        "  plt.plot(epoch_range, history.history['val_loss'])\n",
        "  plt.title('LSTM Model loss')\n",
        "  plt.ylabel('loss')\n",
        "  plt.xlabel('Epoch')\n",
        "  plt.legend(['Train', 'Val'], loc='upper left')\n",
        "  plt.show()"
      ],
      "execution_count": 84,
      "outputs": []
    },
    {
      "cell_type": "code",
      "metadata": {
        "id": "Ie0ql-qKaYS8",
        "colab": {
          "base_uri": "https://localhost:8080/",
          "height": 573
        },
        "outputId": "905ffea8-bcfe-458a-d009-7a55e457458c"
      },
      "source": [
        "plot_learningCurve(history, 6)"
      ],
      "execution_count": 85,
      "outputs": [
        {
          "output_type": "display_data",
          "data": {
            "image/png": "[encoded data removed]",
            "text/plain": [
              "<Figure size 432x288 with 1 Axes>"
            ]
          },
          "metadata": {
            "tags": [],
            "needs_background": "light"
          }
        },
        {
          "output_type": "display_data",
          "data": {
            "image/png": "[encoded data removed]",
            "text/plain": [
              "<Figure size 432x288 with 1 Axes>"
            ]
          },
          "metadata": {
            "tags": [],
            "needs_background": "light"
          }
        }
      ]
    },
    {
      "cell_type": "code",
      "metadata": {
        "id": "D_hKrWe44Vvh"
      },
      "source": [
        "y_hat = model.predict(X_test_pad)"
      ],
      "execution_count": 86,
      "outputs": []
    },
    {
      "cell_type": "code",
      "metadata": {
        "colab": {
          "base_uri": "https://localhost:8080/",
          "height": 35
        },
        "id": "BENwD11o4Yvu",
        "outputId": "fd51508a-8b7d-4f6d-da03-e29e8a124a77"
      },
      "source": [
        "from sklearn.metrics import roc_auc_score\n",
        "pct_auc = roc_auc_score(y_test, y_hat)*100.0\n",
        "\"{:0.2f}\".format(pct_auc)"
      ],
      "execution_count": 87,
      "outputs": [
        {
          "output_type": "execute_result",
          "data": {
            "application/vnd.google.colaboratory.intrinsic+json": {
              "type": "string"
            },
            "text/plain": [
              "'95.65'"
            ]
          },
          "metadata": {
            "tags": []
          },
          "execution_count": 87
        }
      ]
    },
    {
      "cell_type": "code",
      "metadata": {
        "colab": {
          "base_uri": "https://localhost:8080/",
          "height": 359
        },
        "id": "9sFnke3q4cB2",
        "outputId": "391da8b9-2e01-4e88-8260-ddc773a36241"
      },
      "source": [
        "ydf.head(10)"
      ],
      "execution_count": 88,
      "outputs": [
        {
          "output_type": "execute_result",
          "data": {
            "text/html": [
              "<div>\n",
              "<style scoped>\n",
              "    .dataframe tbody tr th:only-of-type {\n",
              "        vertical-align: middle;\n",
              "    }\n",
              "\n",
              "    .dataframe tbody tr th {\n",
              "        vertical-align: top;\n",
              "    }\n",
              "\n",
              "    .dataframe thead th {\n",
              "        text-align: right;\n",
              "    }\n",
              "</style>\n",
              "<table border=\"1\" class=\"dataframe\">\n",
              "  <thead>\n",
              "    <tr style=\"text-align: right;\">\n",
              "      <th></th>\n",
              "      <th>y_hat</th>\n",
              "      <th>y</th>\n",
              "    </tr>\n",
              "  </thead>\n",
              "  <tbody>\n",
              "    <tr>\n",
              "      <th>0</th>\n",
              "      <td>0.982701</td>\n",
              "      <td>1</td>\n",
              "    </tr>\n",
              "    <tr>\n",
              "      <th>1</th>\n",
              "      <td>0.823021</td>\n",
              "      <td>1</td>\n",
              "    </tr>\n",
              "    <tr>\n",
              "      <th>2</th>\n",
              "      <td>0.015735</td>\n",
              "      <td>0</td>\n",
              "    </tr>\n",
              "    <tr>\n",
              "      <th>3</th>\n",
              "      <td>0.023812</td>\n",
              "      <td>0</td>\n",
              "    </tr>\n",
              "    <tr>\n",
              "      <th>4</th>\n",
              "      <td>0.034458</td>\n",
              "      <td>0</td>\n",
              "    </tr>\n",
              "    <tr>\n",
              "      <th>5</th>\n",
              "      <td>0.973415</td>\n",
              "      <td>1</td>\n",
              "    </tr>\n",
              "    <tr>\n",
              "      <th>6</th>\n",
              "      <td>0.002665</td>\n",
              "      <td>0</td>\n",
              "    </tr>\n",
              "    <tr>\n",
              "      <th>7</th>\n",
              "      <td>0.559821</td>\n",
              "      <td>0</td>\n",
              "    </tr>\n",
              "    <tr>\n",
              "      <th>8</th>\n",
              "      <td>0.021811</td>\n",
              "      <td>0</td>\n",
              "    </tr>\n",
              "    <tr>\n",
              "      <th>9</th>\n",
              "      <td>0.973289</td>\n",
              "      <td>1</td>\n",
              "    </tr>\n",
              "  </tbody>\n",
              "</table>\n",
              "</div>"
            ],
            "text/plain": [
              "      y_hat  y\n",
              "0  0.982701  1\n",
              "1  0.823021  1\n",
              "2  0.015735  0\n",
              "3  0.023812  0\n",
              "4  0.034458  0\n",
              "5  0.973415  1\n",
              "6  0.002665  0\n",
              "7  0.559821  0\n",
              "8  0.021811  0\n",
              "9  0.973289  1"
            ]
          },
          "metadata": {
            "tags": []
          },
          "execution_count": 88
        }
      ]
    },
    {
      "cell_type": "markdown",
      "metadata": {
        "id": "3lk06HIyayX0"
      },
      "source": [
        "**Build Neural Network Model with a Convolutional Neural Network**"
      ]
    },
    {
      "cell_type": "code",
      "metadata": {
        "id": "eS5oL1To8UhY"
      },
      "source": [
        "from keras.layers import GlobalMaxPooling1D\n",
        "from keras.layers.convolutional import Conv1D\n",
        "from keras.layers.core import Activation, Dropout, Dense"
      ],
      "execution_count": 89,
      "outputs": []
    },
    {
      "cell_type": "code",
      "metadata": {
        "id": "BZp0Yfv-a1eW"
      },
      "source": [
        "model = Sequential()\n",
        "embedding_layer=Embedding(num_words,EMBEDDING_DIM,\n",
        "                          embeddings_initializer=Constant(embedding_matrix),\n",
        "                          input_length=2362, trainable=False)\n",
        "\n",
        "model.add(embedding_layer)\n",
        "model.add(Conv1D(128, 5, activation='relu'))\n",
        "model.add(GlobalMaxPooling1D())\n",
        "model.add(Dense(1, activation='sigmoid'))\n",
        "model.compile(optimizer='adam', loss='binary_crossentropy', metrics=['acc'])"
      ],
      "execution_count": 108,
      "outputs": []
    },
    {
      "cell_type": "code",
      "metadata": {
        "id": "EqOH8cdlbAP_",
        "colab": {
          "base_uri": "https://localhost:8080/"
        },
        "outputId": "1d340df9-3ed5-4ac8-8a69-f6ffb2ce61c2"
      },
      "source": [
        "model.summary()"
      ],
      "execution_count": 92,
      "outputs": [
        {
          "output_type": "stream",
          "text": [
            "Model: \"sequential_6\"\n",
            "_________________________________________________________________\n",
            "Layer (type)                 Output Shape              Param #   \n",
            "=================================================================\n",
            "embedding_6 (Embedding)      (None, 2362, 100)         13415700  \n",
            "_________________________________________________________________\n",
            "conv1d_1 (Conv1D)            (None, 2358, 128)         64128     \n",
            "_________________________________________________________________\n",
            "global_max_pooling1d_1 (Glob (None, 128)               0         \n",
            "_________________________________________________________________\n",
            "dense_6 (Dense)              (None, 1)                 129       \n",
            "=================================================================\n",
            "Total params: 13,479,957\n",
            "Trainable params: 64,257\n",
            "Non-trainable params: 13,415,700\n",
            "_________________________________________________________________\n"
          ],
          "name": "stdout"
        }
      ]
    },
    {
      "cell_type": "code",
      "metadata": {
        "id": "jN6z0xrDbBTy",
        "colab": {
          "base_uri": "https://localhost:8080/"
        },
        "outputId": "813b8e2d-25d4-4ea2-a0d0-6555ba7a8028"
      },
      "source": [
        "#Train Model\n",
        "print('Train CNN Model...')\n",
        "history=model.fit(X_train_pad, y_train, batch_size=128, epochs=6, validation_data=(X_test_pad,y_test), verbose=1)\n"
      ],
      "execution_count": 93,
      "outputs": [
        {
          "output_type": "stream",
          "text": [
            "Train CNN Model...\n",
            "Epoch 1/6\n",
            "313/313 [==============================] - 572s 2s/step - loss: 0.4018 - acc: 0.8211 - val_loss: 0.3031 - val_acc: 0.8730\n",
            "Epoch 2/6\n",
            "313/313 [==============================] - 575s 2s/step - loss: 0.2853 - acc: 0.8826 - val_loss: 0.2751 - val_acc: 0.8859\n",
            "Epoch 3/6\n",
            "313/313 [==============================] - 578s 2s/step - loss: 0.2444 - acc: 0.9022 - val_loss: 0.2729 - val_acc: 0.8857\n",
            "Epoch 4/6\n",
            "313/313 [==============================] - 575s 2s/step - loss: 0.2160 - acc: 0.9164 - val_loss: 0.2566 - val_acc: 0.8938\n",
            "Epoch 5/6\n",
            "313/313 [==============================] - 577s 2s/step - loss: 0.1878 - acc: 0.9311 - val_loss: 0.2520 - val_acc: 0.8951\n",
            "Epoch 6/6\n",
            "313/313 [==============================] - 570s 2s/step - loss: 0.1662 - acc: 0.9421 - val_loss: 0.2538 - val_acc: 0.8942\n"
          ],
          "name": "stdout"
        }
      ]
    },
    {
      "cell_type": "code",
      "metadata": {
        "id": "bN_dCi1uuQew",
        "colab": {
          "base_uri": "https://localhost:8080/"
        },
        "outputId": "4e100cd2-6a5b-4a59-9865-262fa589a0d7"
      },
      "source": [
        "#To evaluate the performance of the model, we can simply pass the test set to the evaluate method of our model\n",
        "score = model.evaluate(X_test_pad, y_test, verbose=1)"
      ],
      "execution_count": 94,
      "outputs": [
        {
          "output_type": "stream",
          "text": [
            "313/313 [==============================] - 52s 167ms/step - loss: 0.2538 - acc: 0.8942\n"
          ],
          "name": "stdout"
        }
      ]
    },
    {
      "cell_type": "code",
      "metadata": {
        "id": "Fy-vE_8ebKdd",
        "colab": {
          "base_uri": "https://localhost:8080/"
        },
        "outputId": "6b94b171-4595-446a-9cea-df2ec5e848a2"
      },
      "source": [
        "#To check the test accuracy and loss\n",
        "print(\"Test Score:\", score[0])\n",
        "print(\"Test Accuracy:\", score[1])"
      ],
      "execution_count": 95,
      "outputs": [
        {
          "output_type": "stream",
          "text": [
            "Test Score: 0.25377821922302246\n",
            "Test Accuracy: 0.8942000269889832\n"
          ],
          "name": "stdout"
        }
      ]
    },
    {
      "cell_type": "code",
      "metadata": {
        "colab": {
          "base_uri": "https://localhost:8080/"
        },
        "id": "vg-DJYcP3Cf6",
        "outputId": "a0010834-b408-4f4c-93c0-17daa7f65ebc"
      },
      "source": [
        "history.history"
      ],
      "execution_count": 102,
      "outputs": [
        {
          "output_type": "execute_result",
          "data": {
            "text/plain": [
              "{'acc': [0.8210750222206116,\n",
              "  0.8826000094413757,\n",
              "  0.9022499918937683,\n",
              "  0.9163500070571899,\n",
              "  0.9311249852180481,\n",
              "  0.9420999884605408],\n",
              " 'loss': [0.4017694294452667,\n",
              "  0.28528329730033875,\n",
              "  0.2443501502275467,\n",
              "  0.21599650382995605,\n",
              "  0.18783146142959595,\n",
              "  0.16621167957782745],\n",
              " 'val_acc': [0.8730000257492065,\n",
              "  0.8859000205993652,\n",
              "  0.885699987411499,\n",
              "  0.8938000202178955,\n",
              "  0.8950999975204468,\n",
              "  0.8942000269889832],\n",
              " 'val_loss': [0.3030698597431183,\n",
              "  0.2750823199748993,\n",
              "  0.2728978395462036,\n",
              "  0.2565672695636749,\n",
              "  0.25196969509124756,\n",
              "  0.2537783682346344]}"
            ]
          },
          "metadata": {
            "tags": []
          },
          "execution_count": 102
        }
      ]
    },
    {
      "cell_type": "code",
      "metadata": {
        "id": "FZqO6ZY5bM1l",
        "colab": {
          "base_uri": "https://localhost:8080/",
          "height": 573
        },
        "outputId": "2905686d-88d7-479a-fa5a-0f30abc67bda"
      },
      "source": [
        "import matplotlib.pyplot as plt\n",
        "\n",
        "plt.plot(history.history['acc'])\n",
        "plt.plot(history.history['val_acc'])\n",
        "\n",
        "plt.title('CNN Model accuracy')\n",
        "plt.ylabel('accuracy')\n",
        "plt.xlabel('epoch')\n",
        "plt.legend(['train','test'], loc = 'upper left')\n",
        "plt.show()\n",
        "\n",
        "plt.plot(history.history['loss'])\n",
        "plt.plot(history.history['val_loss'])\n",
        "\n",
        "plt.title('CNN Model loss')\n",
        "plt.ylabel('loss')\n",
        "plt.xlabel('epoch')\n",
        "plt.legend(['train','test'], loc = 'upper left')\n",
        "plt.show()"
      ],
      "execution_count": 103,
      "outputs": [
        {
          "output_type": "display_data",
          "data": {
            "image/png": "[encoded data removed]",
            "text/plain": [
              "<Figure size 432x288 with 1 Axes>"
            ]
          },
          "metadata": {
            "tags": [],
            "needs_background": "light"
          }
        },
        {
          "output_type": "display_data",
          "data": {
            "image/png": "[encoded data removed]",
            "text/plain": [
              "<Figure size 432x288 with 1 Axes>"
            ]
          },
          "metadata": {
            "tags": [],
            "needs_background": "light"
          }
        }
      ]
    },
    {
      "cell_type": "code",
      "metadata": {
        "id": "HtrpamQy38pc"
      },
      "source": [
        "y_hat = model.predict(X_test_pad)"
      ],
      "execution_count": 105,
      "outputs": []
    },
    {
      "cell_type": "code",
      "metadata": {
        "colab": {
          "base_uri": "https://localhost:8080/",
          "height": 35
        },
        "id": "5gQ2aN5I4A7Y",
        "outputId": "44280b2c-6394-4568-cb61-352ed9444443"
      },
      "source": [
        "from sklearn.metrics import roc_auc_score\n",
        "pct_auc = roc_auc_score(y_test, y_hat)*100.0\n",
        "\"{:0.2f}\".format(pct_auc)"
      ],
      "execution_count": 106,
      "outputs": [
        {
          "output_type": "execute_result",
          "data": {
            "application/vnd.google.colaboratory.intrinsic+json": {
              "type": "string"
            },
            "text/plain": [
              "'96.24'"
            ]
          },
          "metadata": {
            "tags": []
          },
          "execution_count": 106
        }
      ]
    },
    {
      "cell_type": "code",
      "metadata": {
        "colab": {
          "base_uri": "https://localhost:8080/",
          "height": 359
        },
        "id": "Nckd2zW54Fc9",
        "outputId": "c78889d0-6df5-44be-d49b-a362939d636b"
      },
      "source": [
        "ydf.head(10)"
      ],
      "execution_count": 107,
      "outputs": [
        {
          "output_type": "execute_result",
          "data": {
            "text/html": [
              "<div>\n",
              "<style scoped>\n",
              "    .dataframe tbody tr th:only-of-type {\n",
              "        vertical-align: middle;\n",
              "    }\n",
              "\n",
              "    .dataframe tbody tr th {\n",
              "        vertical-align: top;\n",
              "    }\n",
              "\n",
              "    .dataframe thead th {\n",
              "        text-align: right;\n",
              "    }\n",
              "</style>\n",
              "<table border=\"1\" class=\"dataframe\">\n",
              "  <thead>\n",
              "    <tr style=\"text-align: right;\">\n",
              "      <th></th>\n",
              "      <th>y_hat</th>\n",
              "      <th>y</th>\n",
              "    </tr>\n",
              "  </thead>\n",
              "  <tbody>\n",
              "    <tr>\n",
              "      <th>0</th>\n",
              "      <td>0.982701</td>\n",
              "      <td>1</td>\n",
              "    </tr>\n",
              "    <tr>\n",
              "      <th>1</th>\n",
              "      <td>0.823021</td>\n",
              "      <td>1</td>\n",
              "    </tr>\n",
              "    <tr>\n",
              "      <th>2</th>\n",
              "      <td>0.015735</td>\n",
              "      <td>0</td>\n",
              "    </tr>\n",
              "    <tr>\n",
              "      <th>3</th>\n",
              "      <td>0.023812</td>\n",
              "      <td>0</td>\n",
              "    </tr>\n",
              "    <tr>\n",
              "      <th>4</th>\n",
              "      <td>0.034458</td>\n",
              "      <td>0</td>\n",
              "    </tr>\n",
              "    <tr>\n",
              "      <th>5</th>\n",
              "      <td>0.973415</td>\n",
              "      <td>1</td>\n",
              "    </tr>\n",
              "    <tr>\n",
              "      <th>6</th>\n",
              "      <td>0.002665</td>\n",
              "      <td>0</td>\n",
              "    </tr>\n",
              "    <tr>\n",
              "      <th>7</th>\n",
              "      <td>0.559821</td>\n",
              "      <td>0</td>\n",
              "    </tr>\n",
              "    <tr>\n",
              "      <th>8</th>\n",
              "      <td>0.021811</td>\n",
              "      <td>0</td>\n",
              "    </tr>\n",
              "    <tr>\n",
              "      <th>9</th>\n",
              "      <td>0.973289</td>\n",
              "      <td>1</td>\n",
              "    </tr>\n",
              "  </tbody>\n",
              "</table>\n",
              "</div>"
            ],
            "text/plain": [
              "      y_hat  y\n",
              "0  0.982701  1\n",
              "1  0.823021  1\n",
              "2  0.015735  0\n",
              "3  0.023812  0\n",
              "4  0.034458  0\n",
              "5  0.973415  1\n",
              "6  0.002665  0\n",
              "7  0.559821  0\n",
              "8  0.021811  0\n",
              "9  0.973289  1"
            ]
          },
          "metadata": {
            "tags": []
          },
          "execution_count": 107
        }
      ]
    }
  ]
}